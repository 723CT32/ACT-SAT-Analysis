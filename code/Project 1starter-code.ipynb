{
 "cells": [
  {
   "cell_type": "markdown",
   "metadata": {},
   "source": [
    "# Project 1: SAT & ACT Analysis"
   ]
  },
  {
   "cell_type": "markdown",
   "metadata": {},
   "source": [
    "The first markdown cell in a notebook is a great place to provide an overview of your entire project. You will likely want to at least state your\n",
    "\n",
    "## Problem Statement"
   ]
  },
  {
   "cell_type": "markdown",
   "metadata": {},
   "source": [
    "as well as an"
   ]
  },
  {
   "cell_type": "markdown",
   "metadata": {},
   "source": [
    "## Executive Summary\n",
    "\n",
    "If you want to, it's great to use relative links to direct your audience to various sections of a notebook. **HERE'S A DEMONSTRATION WITH THE CURRENT SECTION HEADERS**:\n",
    "\n",
    "### Contents:\n",
    "- [2017 Data Import & Cleaning](#Data-Import-and-Cleaning)\n",
    "- [2018 Data Import and Cleaning](#2018-Data-Import-and-Cleaning)\n",
    "- [Exploratory Data Analysis](#Exploratory-Data-Analysis)\n",
    "- [Data Visualization](#Visualize-the-data)\n",
    "- [Descriptive and Inferential Statistics](#Descriptive-and-Inferential-Statistics)\n",
    "- [Outside Research](#Outside-Research)\n",
    "- [Conclusions and Recommendations](#Conclusions-and-Recommendations)"
   ]
  },
  {
   "cell_type": "markdown",
   "metadata": {},
   "source": [
    "**If you combine your problem statement, executive summary, data dictionary, and conclusions/recommendations, you have an amazing README.md file that quickly aligns your audience to the contents of your project.** Don't forget to cite your data sources!"
   ]
  },
  {
   "cell_type": "markdown",
   "metadata": {},
   "source": [
    "*All libraries used should be added here*"
   ]
  },
  {
   "cell_type": "code",
   "execution_count": 1,
   "metadata": {},
   "outputs": [],
   "source": [
    "#Imports:\n",
    "import numpy as np\n",
    "import pandas as pd\n",
    "import matplotlib.pyplot as plt\n",
    "import seaborn as sns\n",
    "import math \n",
    "import sys\n",
    "import numpy as np"
   ]
  },
  {
   "cell_type": "markdown",
   "metadata": {},
   "source": [
    "## 2017 Data Import and Cleaning"
   ]
  },
  {
   "cell_type": "markdown",
   "metadata": {},
   "source": [
    "#### 1. Read In SAT & ACT  Data\n",
    "\n",
    "Read in the `sat_2017.csv` and `act_2017.csv` files and assign them to appropriately named pandas dataframes."
   ]
  },
  {
   "cell_type": "code",
   "execution_count": 2,
   "metadata": {},
   "outputs": [],
   "source": [
    "#Code:\n",
    "sat17 = pd.read_csv('../data/sat_2017.csv')\n",
    "act17 = pd.read_csv('../data/act_2017.csv')"
   ]
  },
  {
   "cell_type": "markdown",
   "metadata": {},
   "source": [
    "#### 2. Display Data\n",
    "\n",
    "Print the first 10 rows of each dataframe to your jupyter notebook"
   ]
  },
  {
   "cell_type": "code",
   "execution_count": 3,
   "metadata": {},
   "outputs": [
    {
     "data": {
      "text/html": [
       "<div>\n",
       "<style scoped>\n",
       "    .dataframe tbody tr th:only-of-type {\n",
       "        vertical-align: middle;\n",
       "    }\n",
       "\n",
       "    .dataframe tbody tr th {\n",
       "        vertical-align: top;\n",
       "    }\n",
       "\n",
       "    .dataframe thead th {\n",
       "        text-align: right;\n",
       "    }\n",
       "</style>\n",
       "<table border=\"1\" class=\"dataframe\">\n",
       "  <thead>\n",
       "    <tr style=\"text-align: right;\">\n",
       "      <th></th>\n",
       "      <th>State</th>\n",
       "      <th>Participation</th>\n",
       "      <th>Evidence-Based Reading and Writing</th>\n",
       "      <th>Math</th>\n",
       "      <th>Total</th>\n",
       "    </tr>\n",
       "  </thead>\n",
       "  <tbody>\n",
       "    <tr>\n",
       "      <th>0</th>\n",
       "      <td>Alabama</td>\n",
       "      <td>5%</td>\n",
       "      <td>593</td>\n",
       "      <td>572</td>\n",
       "      <td>1165</td>\n",
       "    </tr>\n",
       "    <tr>\n",
       "      <th>1</th>\n",
       "      <td>Alaska</td>\n",
       "      <td>38%</td>\n",
       "      <td>547</td>\n",
       "      <td>533</td>\n",
       "      <td>1080</td>\n",
       "    </tr>\n",
       "    <tr>\n",
       "      <th>2</th>\n",
       "      <td>Arizona</td>\n",
       "      <td>30%</td>\n",
       "      <td>563</td>\n",
       "      <td>553</td>\n",
       "      <td>1116</td>\n",
       "    </tr>\n",
       "    <tr>\n",
       "      <th>3</th>\n",
       "      <td>Arkansas</td>\n",
       "      <td>3%</td>\n",
       "      <td>614</td>\n",
       "      <td>594</td>\n",
       "      <td>1208</td>\n",
       "    </tr>\n",
       "    <tr>\n",
       "      <th>4</th>\n",
       "      <td>California</td>\n",
       "      <td>53%</td>\n",
       "      <td>531</td>\n",
       "      <td>524</td>\n",
       "      <td>1055</td>\n",
       "    </tr>\n",
       "    <tr>\n",
       "      <th>5</th>\n",
       "      <td>Colorado</td>\n",
       "      <td>11%</td>\n",
       "      <td>606</td>\n",
       "      <td>595</td>\n",
       "      <td>1201</td>\n",
       "    </tr>\n",
       "    <tr>\n",
       "      <th>6</th>\n",
       "      <td>Connecticut</td>\n",
       "      <td>100%</td>\n",
       "      <td>530</td>\n",
       "      <td>512</td>\n",
       "      <td>1041</td>\n",
       "    </tr>\n",
       "    <tr>\n",
       "      <th>7</th>\n",
       "      <td>Delaware</td>\n",
       "      <td>100%</td>\n",
       "      <td>503</td>\n",
       "      <td>492</td>\n",
       "      <td>996</td>\n",
       "    </tr>\n",
       "    <tr>\n",
       "      <th>8</th>\n",
       "      <td>District of Columbia</td>\n",
       "      <td>100%</td>\n",
       "      <td>482</td>\n",
       "      <td>468</td>\n",
       "      <td>950</td>\n",
       "    </tr>\n",
       "    <tr>\n",
       "      <th>9</th>\n",
       "      <td>Florida</td>\n",
       "      <td>83%</td>\n",
       "      <td>520</td>\n",
       "      <td>497</td>\n",
       "      <td>1017</td>\n",
       "    </tr>\n",
       "  </tbody>\n",
       "</table>\n",
       "</div>"
      ],
      "text/plain": [
       "                  State Participation  Evidence-Based Reading and Writing  \\\n",
       "0               Alabama            5%                                 593   \n",
       "1                Alaska           38%                                 547   \n",
       "2               Arizona           30%                                 563   \n",
       "3              Arkansas            3%                                 614   \n",
       "4            California           53%                                 531   \n",
       "5              Colorado           11%                                 606   \n",
       "6           Connecticut          100%                                 530   \n",
       "7              Delaware          100%                                 503   \n",
       "8  District of Columbia          100%                                 482   \n",
       "9               Florida           83%                                 520   \n",
       "\n",
       "   Math  Total  \n",
       "0   572   1165  \n",
       "1   533   1080  \n",
       "2   553   1116  \n",
       "3   594   1208  \n",
       "4   524   1055  \n",
       "5   595   1201  \n",
       "6   512   1041  \n",
       "7   492    996  \n",
       "8   468    950  \n",
       "9   497   1017  "
      ]
     },
     "execution_count": 3,
     "metadata": {},
     "output_type": "execute_result"
    }
   ],
   "source": [
    "#Code:\n",
    "sat17.head(10)"
   ]
  },
  {
   "cell_type": "code",
   "execution_count": 4,
   "metadata": {},
   "outputs": [
    {
     "data": {
      "text/html": [
       "<div>\n",
       "<style scoped>\n",
       "    .dataframe tbody tr th:only-of-type {\n",
       "        vertical-align: middle;\n",
       "    }\n",
       "\n",
       "    .dataframe tbody tr th {\n",
       "        vertical-align: top;\n",
       "    }\n",
       "\n",
       "    .dataframe thead th {\n",
       "        text-align: right;\n",
       "    }\n",
       "</style>\n",
       "<table border=\"1\" class=\"dataframe\">\n",
       "  <thead>\n",
       "    <tr style=\"text-align: right;\">\n",
       "      <th></th>\n",
       "      <th>State</th>\n",
       "      <th>Participation</th>\n",
       "      <th>English</th>\n",
       "      <th>Math</th>\n",
       "      <th>Reading</th>\n",
       "      <th>Science</th>\n",
       "      <th>Composite</th>\n",
       "    </tr>\n",
       "  </thead>\n",
       "  <tbody>\n",
       "    <tr>\n",
       "      <th>0</th>\n",
       "      <td>National</td>\n",
       "      <td>60%</td>\n",
       "      <td>20.3</td>\n",
       "      <td>20.7</td>\n",
       "      <td>21.4</td>\n",
       "      <td>21.0</td>\n",
       "      <td>21.0</td>\n",
       "    </tr>\n",
       "    <tr>\n",
       "      <th>1</th>\n",
       "      <td>Alabama</td>\n",
       "      <td>100%</td>\n",
       "      <td>18.9</td>\n",
       "      <td>18.4</td>\n",
       "      <td>19.7</td>\n",
       "      <td>19.4</td>\n",
       "      <td>19.2</td>\n",
       "    </tr>\n",
       "    <tr>\n",
       "      <th>2</th>\n",
       "      <td>Alaska</td>\n",
       "      <td>65%</td>\n",
       "      <td>18.7</td>\n",
       "      <td>19.8</td>\n",
       "      <td>20.4</td>\n",
       "      <td>19.9</td>\n",
       "      <td>19.8</td>\n",
       "    </tr>\n",
       "    <tr>\n",
       "      <th>3</th>\n",
       "      <td>Arizona</td>\n",
       "      <td>62%</td>\n",
       "      <td>18.6</td>\n",
       "      <td>19.8</td>\n",
       "      <td>20.1</td>\n",
       "      <td>19.8</td>\n",
       "      <td>19.7</td>\n",
       "    </tr>\n",
       "    <tr>\n",
       "      <th>4</th>\n",
       "      <td>Arkansas</td>\n",
       "      <td>100%</td>\n",
       "      <td>18.9</td>\n",
       "      <td>19.0</td>\n",
       "      <td>19.7</td>\n",
       "      <td>19.5</td>\n",
       "      <td>19.4</td>\n",
       "    </tr>\n",
       "    <tr>\n",
       "      <th>5</th>\n",
       "      <td>California</td>\n",
       "      <td>31%</td>\n",
       "      <td>22.5</td>\n",
       "      <td>22.7</td>\n",
       "      <td>23.1</td>\n",
       "      <td>22.2</td>\n",
       "      <td>22.8</td>\n",
       "    </tr>\n",
       "    <tr>\n",
       "      <th>6</th>\n",
       "      <td>Colorado</td>\n",
       "      <td>100%</td>\n",
       "      <td>20.1</td>\n",
       "      <td>20.3</td>\n",
       "      <td>21.2</td>\n",
       "      <td>20.9</td>\n",
       "      <td>20.8</td>\n",
       "    </tr>\n",
       "    <tr>\n",
       "      <th>7</th>\n",
       "      <td>Connecticut</td>\n",
       "      <td>31%</td>\n",
       "      <td>25.5</td>\n",
       "      <td>24.6</td>\n",
       "      <td>25.6</td>\n",
       "      <td>24.6</td>\n",
       "      <td>25.2</td>\n",
       "    </tr>\n",
       "    <tr>\n",
       "      <th>8</th>\n",
       "      <td>Delaware</td>\n",
       "      <td>18%</td>\n",
       "      <td>24.1</td>\n",
       "      <td>23.4</td>\n",
       "      <td>24.8</td>\n",
       "      <td>23.6</td>\n",
       "      <td>24.1</td>\n",
       "    </tr>\n",
       "    <tr>\n",
       "      <th>9</th>\n",
       "      <td>District of Columbia</td>\n",
       "      <td>32%</td>\n",
       "      <td>24.4</td>\n",
       "      <td>23.5</td>\n",
       "      <td>24.9</td>\n",
       "      <td>23.5</td>\n",
       "      <td>24.2</td>\n",
       "    </tr>\n",
       "  </tbody>\n",
       "</table>\n",
       "</div>"
      ],
      "text/plain": [
       "                  State Participation  English  Math  Reading  Science  \\\n",
       "0              National           60%     20.3  20.7     21.4     21.0   \n",
       "1               Alabama          100%     18.9  18.4     19.7     19.4   \n",
       "2                Alaska           65%     18.7  19.8     20.4     19.9   \n",
       "3               Arizona           62%     18.6  19.8     20.1     19.8   \n",
       "4              Arkansas          100%     18.9  19.0     19.7     19.5   \n",
       "5            California           31%     22.5  22.7     23.1     22.2   \n",
       "6              Colorado          100%     20.1  20.3     21.2     20.9   \n",
       "7           Connecticut           31%     25.5  24.6     25.6     24.6   \n",
       "8              Delaware           18%     24.1  23.4     24.8     23.6   \n",
       "9  District of Columbia           32%     24.4  23.5     24.9     23.5   \n",
       "\n",
       "  Composite  \n",
       "0      21.0  \n",
       "1      19.2  \n",
       "2      19.8  \n",
       "3      19.7  \n",
       "4      19.4  \n",
       "5      22.8  \n",
       "6      20.8  \n",
       "7      25.2  \n",
       "8      24.1  \n",
       "9      24.2  "
      ]
     },
     "execution_count": 4,
     "metadata": {},
     "output_type": "execute_result"
    }
   ],
   "source": [
    "act17.head(10)"
   ]
  },
  {
   "cell_type": "code",
   "execution_count": 5,
   "metadata": {},
   "outputs": [
    {
     "data": {
      "text/plain": [
       "State             object\n",
       "Participation     object\n",
       "English          float64\n",
       "Math             float64\n",
       "Reading          float64\n",
       "Science          float64\n",
       "Composite         object\n",
       "dtype: object"
      ]
     },
     "execution_count": 5,
     "metadata": {},
     "output_type": "execute_result"
    }
   ],
   "source": [
    "act17.dtypes"
   ]
  },
  {
   "cell_type": "code",
   "execution_count": 6,
   "metadata": {},
   "outputs": [
    {
     "data": {
      "text/plain": [
       "State                                 object\n",
       "Participation                         object\n",
       "Evidence-Based Reading and Writing     int64\n",
       "Math                                   int64\n",
       "Total                                  int64\n",
       "dtype: object"
      ]
     },
     "execution_count": 6,
     "metadata": {},
     "output_type": "execute_result"
    }
   ],
   "source": [
    "sat17.dtypes"
   ]
  },
  {
   "cell_type": "code",
   "execution_count": 7,
   "metadata": {},
   "outputs": [
    {
     "data": {
      "text/html": [
       "<div>\n",
       "<style scoped>\n",
       "    .dataframe tbody tr th:only-of-type {\n",
       "        vertical-align: middle;\n",
       "    }\n",
       "\n",
       "    .dataframe tbody tr th {\n",
       "        vertical-align: top;\n",
       "    }\n",
       "\n",
       "    .dataframe thead th {\n",
       "        text-align: right;\n",
       "    }\n",
       "</style>\n",
       "<table border=\"1\" class=\"dataframe\">\n",
       "  <thead>\n",
       "    <tr style=\"text-align: right;\">\n",
       "      <th></th>\n",
       "      <th>English</th>\n",
       "      <th>Math</th>\n",
       "      <th>Reading</th>\n",
       "      <th>Science</th>\n",
       "    </tr>\n",
       "  </thead>\n",
       "  <tbody>\n",
       "    <tr>\n",
       "      <th>count</th>\n",
       "      <td>52.000000</td>\n",
       "      <td>52.000000</td>\n",
       "      <td>52.000000</td>\n",
       "      <td>52.000000</td>\n",
       "    </tr>\n",
       "    <tr>\n",
       "      <th>mean</th>\n",
       "      <td>20.919231</td>\n",
       "      <td>21.173077</td>\n",
       "      <td>22.001923</td>\n",
       "      <td>21.040385</td>\n",
       "    </tr>\n",
       "    <tr>\n",
       "      <th>std</th>\n",
       "      <td>2.332132</td>\n",
       "      <td>1.963602</td>\n",
       "      <td>2.048672</td>\n",
       "      <td>3.151113</td>\n",
       "    </tr>\n",
       "    <tr>\n",
       "      <th>min</th>\n",
       "      <td>16.300000</td>\n",
       "      <td>18.000000</td>\n",
       "      <td>18.100000</td>\n",
       "      <td>2.300000</td>\n",
       "    </tr>\n",
       "    <tr>\n",
       "      <th>25%</th>\n",
       "      <td>19.000000</td>\n",
       "      <td>19.400000</td>\n",
       "      <td>20.475000</td>\n",
       "      <td>19.900000</td>\n",
       "    </tr>\n",
       "    <tr>\n",
       "      <th>50%</th>\n",
       "      <td>20.550000</td>\n",
       "      <td>20.900000</td>\n",
       "      <td>21.700000</td>\n",
       "      <td>21.150000</td>\n",
       "    </tr>\n",
       "    <tr>\n",
       "      <th>75%</th>\n",
       "      <td>23.300000</td>\n",
       "      <td>23.100000</td>\n",
       "      <td>24.125000</td>\n",
       "      <td>22.525000</td>\n",
       "    </tr>\n",
       "    <tr>\n",
       "      <th>max</th>\n",
       "      <td>25.500000</td>\n",
       "      <td>25.300000</td>\n",
       "      <td>26.000000</td>\n",
       "      <td>24.900000</td>\n",
       "    </tr>\n",
       "  </tbody>\n",
       "</table>\n",
       "</div>"
      ],
      "text/plain": [
       "         English       Math    Reading    Science\n",
       "count  52.000000  52.000000  52.000000  52.000000\n",
       "mean   20.919231  21.173077  22.001923  21.040385\n",
       "std     2.332132   1.963602   2.048672   3.151113\n",
       "min    16.300000  18.000000  18.100000   2.300000\n",
       "25%    19.000000  19.400000  20.475000  19.900000\n",
       "50%    20.550000  20.900000  21.700000  21.150000\n",
       "75%    23.300000  23.100000  24.125000  22.525000\n",
       "max    25.500000  25.300000  26.000000  24.900000"
      ]
     },
     "execution_count": 7,
     "metadata": {},
     "output_type": "execute_result"
    }
   ],
   "source": [
    "act17.describe()"
   ]
  },
  {
   "cell_type": "code",
   "execution_count": 8,
   "metadata": {},
   "outputs": [
    {
     "data": {
      "text/html": [
       "<div>\n",
       "<style scoped>\n",
       "    .dataframe tbody tr th:only-of-type {\n",
       "        vertical-align: middle;\n",
       "    }\n",
       "\n",
       "    .dataframe tbody tr th {\n",
       "        vertical-align: top;\n",
       "    }\n",
       "\n",
       "    .dataframe thead th {\n",
       "        text-align: right;\n",
       "    }\n",
       "</style>\n",
       "<table border=\"1\" class=\"dataframe\">\n",
       "  <thead>\n",
       "    <tr style=\"text-align: right;\">\n",
       "      <th></th>\n",
       "      <th>Evidence-Based Reading and Writing</th>\n",
       "      <th>Math</th>\n",
       "      <th>Total</th>\n",
       "    </tr>\n",
       "  </thead>\n",
       "  <tbody>\n",
       "    <tr>\n",
       "      <th>count</th>\n",
       "      <td>51.000000</td>\n",
       "      <td>51.000000</td>\n",
       "      <td>51.000000</td>\n",
       "    </tr>\n",
       "    <tr>\n",
       "      <th>mean</th>\n",
       "      <td>569.117647</td>\n",
       "      <td>547.627451</td>\n",
       "      <td>1126.098039</td>\n",
       "    </tr>\n",
       "    <tr>\n",
       "      <th>std</th>\n",
       "      <td>45.666901</td>\n",
       "      <td>84.909119</td>\n",
       "      <td>92.494812</td>\n",
       "    </tr>\n",
       "    <tr>\n",
       "      <th>min</th>\n",
       "      <td>482.000000</td>\n",
       "      <td>52.000000</td>\n",
       "      <td>950.000000</td>\n",
       "    </tr>\n",
       "    <tr>\n",
       "      <th>25%</th>\n",
       "      <td>533.500000</td>\n",
       "      <td>522.000000</td>\n",
       "      <td>1055.500000</td>\n",
       "    </tr>\n",
       "    <tr>\n",
       "      <th>50%</th>\n",
       "      <td>559.000000</td>\n",
       "      <td>548.000000</td>\n",
       "      <td>1107.000000</td>\n",
       "    </tr>\n",
       "    <tr>\n",
       "      <th>75%</th>\n",
       "      <td>613.000000</td>\n",
       "      <td>599.000000</td>\n",
       "      <td>1212.000000</td>\n",
       "    </tr>\n",
       "    <tr>\n",
       "      <th>max</th>\n",
       "      <td>644.000000</td>\n",
       "      <td>651.000000</td>\n",
       "      <td>1295.000000</td>\n",
       "    </tr>\n",
       "  </tbody>\n",
       "</table>\n",
       "</div>"
      ],
      "text/plain": [
       "       Evidence-Based Reading and Writing        Math        Total\n",
       "count                           51.000000   51.000000    51.000000\n",
       "mean                           569.117647  547.627451  1126.098039\n",
       "std                             45.666901   84.909119    92.494812\n",
       "min                            482.000000   52.000000   950.000000\n",
       "25%                            533.500000  522.000000  1055.500000\n",
       "50%                            559.000000  548.000000  1107.000000\n",
       "75%                            613.000000  599.000000  1212.000000\n",
       "max                            644.000000  651.000000  1295.000000"
      ]
     },
     "execution_count": 8,
     "metadata": {},
     "output_type": "execute_result"
    }
   ],
   "source": [
    "sat17.describe()"
   ]
  },
  {
   "cell_type": "markdown",
   "metadata": {},
   "source": [
    "#### 3. Verbally Describe Data\n",
    "\n",
    "Take your time looking through the data and thoroughly describe the data in the markdown cell below. "
   ]
  },
  {
   "cell_type": "markdown",
   "metadata": {},
   "source": [
    "Answer: There may be bad data on the State cols. SAT Math may have corrupted data."
   ]
  },
  {
   "cell_type": "markdown",
   "metadata": {},
   "source": [
    "#### 4a. Does the data look complete? "
   ]
  },
  {
   "cell_type": "markdown",
   "metadata": {},
   "source": [
    "Answer: The data looks complete however there maybe some corrupted data"
   ]
  },
  {
   "cell_type": "markdown",
   "metadata": {},
   "source": [
    "#### 4b. Are there any obvious issues with the observations?\n",
    "\n",
    "**What is the minimum *possible* value for each test/subtest? What is the maximum *possible* value?**\n",
    "\n",
    "Consider comparing any questionable values to the sources of your data:\n",
    "- [SAT](https://blog.collegevine.com/here-are-the-average-sat-scores-by-state/)\n",
    "- [ACT](https://blog.prepscholar.com/act-scores-by-state-averages-highs-and-lows)"
   ]
  },
  {
   "cell_type": "markdown",
   "metadata": {},
   "source": [
    "Answer: The minimum SAT would be 400 and 200 on each section. ACT minimum score would be 1."
   ]
  },
  {
   "cell_type": "markdown",
   "metadata": {},
   "source": [
    "#### 4c. Fix any errors you identified\n",
    "\n",
    "**The data is available** so there's no need to guess or calculate anything. If you didn't find any errors, continue to the next step."
   ]
  },
  {
   "cell_type": "code",
   "execution_count": 9,
   "metadata": {},
   "outputs": [],
   "source": [
    "#code The state col"
   ]
  },
  {
   "cell_type": "markdown",
   "metadata": {},
   "source": [
    "#### 5. What are your data types? \n",
    "Display the data types of each feature. "
   ]
  },
  {
   "cell_type": "code",
   "execution_count": 10,
   "metadata": {},
   "outputs": [
    {
     "data": {
      "text/plain": [
       "State                                 object\n",
       "Participation                         object\n",
       "Evidence-Based Reading and Writing     int64\n",
       "Math                                   int64\n",
       "Total                                  int64\n",
       "dtype: object"
      ]
     },
     "execution_count": 10,
     "metadata": {},
     "output_type": "execute_result"
    }
   ],
   "source": [
    "#code\n",
    "sat17.dtypes"
   ]
  },
  {
   "cell_type": "code",
   "execution_count": 11,
   "metadata": {},
   "outputs": [
    {
     "data": {
      "text/plain": [
       "State             object\n",
       "Participation     object\n",
       "English          float64\n",
       "Math             float64\n",
       "Reading          float64\n",
       "Science          float64\n",
       "Composite         object\n",
       "dtype: object"
      ]
     },
     "execution_count": 11,
     "metadata": {},
     "output_type": "execute_result"
    }
   ],
   "source": [
    "act17.dtypes"
   ]
  },
  {
   "cell_type": "markdown",
   "metadata": {},
   "source": [
    "What did you learn?\n",
    "- Do any of them seem odd?  \n",
    "- Which ones are not as they should be?  "
   ]
  },
  {
   "cell_type": "markdown",
   "metadata": {},
   "source": [
    "Answer:"
   ]
  },
  {
   "cell_type": "markdown",
   "metadata": {},
   "source": [
    "#### 6. Fix Incorrect Data Types\n",
    "Based on what you discovered above, use appropriate methods to re-type incorrectly typed data.\n",
    "- Define a function that will allow you to convert participation rates to an appropriate numeric type. Use `map` or `apply` to change these columns in each dataframe."
   ]
  },
  {
   "cell_type": "code",
   "execution_count": 12,
   "metadata": {},
   "outputs": [],
   "source": [
    "#code\n",
    "def convert(col):\n",
    "    for row in col:\n",
    "        new_col = col[:-1]\n",
    "        return float(new_col)\n",
    "    \n"
   ]
  },
  {
   "cell_type": "code",
   "execution_count": 13,
   "metadata": {},
   "outputs": [],
   "source": [
    "sat17['Participation'] = sat17['Participation'].apply(convert)"
   ]
  },
  {
   "cell_type": "code",
   "execution_count": 14,
   "metadata": {},
   "outputs": [
    {
     "data": {
      "text/plain": [
       "0     5.0\n",
       "1    38.0\n",
       "2    30.0\n",
       "3     3.0\n",
       "4    53.0\n",
       "Name: Participation, dtype: float64"
      ]
     },
     "execution_count": 14,
     "metadata": {},
     "output_type": "execute_result"
    }
   ],
   "source": [
    "sat17['Participation'].head()"
   ]
  },
  {
   "cell_type": "code",
   "execution_count": 15,
   "metadata": {},
   "outputs": [
    {
     "data": {
      "text/plain": [
       "0     60%\n",
       "1    100%\n",
       "2     65%\n",
       "3     62%\n",
       "4    100%\n",
       "Name: Participation, dtype: object"
      ]
     },
     "execution_count": 15,
     "metadata": {},
     "output_type": "execute_result"
    }
   ],
   "source": [
    "act17['Participation'].head()"
   ]
  },
  {
   "cell_type": "code",
   "execution_count": 16,
   "metadata": {},
   "outputs": [],
   "source": [
    "act17['Participation'] = act17['Participation'].apply(convert)"
   ]
  },
  {
   "cell_type": "code",
   "execution_count": 17,
   "metadata": {},
   "outputs": [
    {
     "data": {
      "text/plain": [
       "0     60.0\n",
       "1    100.0\n",
       "2     65.0\n",
       "3     62.0\n",
       "4    100.0\n",
       "Name: Participation, dtype: float64"
      ]
     },
     "execution_count": 17,
     "metadata": {},
     "output_type": "execute_result"
    }
   ],
   "source": [
    "act17['Participation'].head()"
   ]
  },
  {
   "cell_type": "markdown",
   "metadata": {},
   "source": [
    "- Fix any individual values preventing other columns from being the appropriate type."
   ]
  },
  {
   "cell_type": "code",
   "execution_count": 18,
   "metadata": {},
   "outputs": [],
   "source": [
    "act17['Composite'] = act17['Composite'].apply(convert)"
   ]
  },
  {
   "cell_type": "code",
   "execution_count": 19,
   "metadata": {},
   "outputs": [
    {
     "data": {
      "text/html": [
       "<div>\n",
       "<style scoped>\n",
       "    .dataframe tbody tr th:only-of-type {\n",
       "        vertical-align: middle;\n",
       "    }\n",
       "\n",
       "    .dataframe tbody tr th {\n",
       "        vertical-align: top;\n",
       "    }\n",
       "\n",
       "    .dataframe thead th {\n",
       "        text-align: right;\n",
       "    }\n",
       "</style>\n",
       "<table border=\"1\" class=\"dataframe\">\n",
       "  <thead>\n",
       "    <tr style=\"text-align: right;\">\n",
       "      <th></th>\n",
       "      <th>State</th>\n",
       "      <th>Participation</th>\n",
       "      <th>Evidence-Based Reading and Writing</th>\n",
       "      <th>Math</th>\n",
       "      <th>Total</th>\n",
       "    </tr>\n",
       "  </thead>\n",
       "  <tbody>\n",
       "    <tr>\n",
       "      <th>0</th>\n",
       "      <td>Alabama</td>\n",
       "      <td>5.0</td>\n",
       "      <td>593</td>\n",
       "      <td>572</td>\n",
       "      <td>1165</td>\n",
       "    </tr>\n",
       "    <tr>\n",
       "      <th>1</th>\n",
       "      <td>Alaska</td>\n",
       "      <td>38.0</td>\n",
       "      <td>547</td>\n",
       "      <td>533</td>\n",
       "      <td>1080</td>\n",
       "    </tr>\n",
       "    <tr>\n",
       "      <th>2</th>\n",
       "      <td>Arizona</td>\n",
       "      <td>30.0</td>\n",
       "      <td>563</td>\n",
       "      <td>553</td>\n",
       "      <td>1116</td>\n",
       "    </tr>\n",
       "    <tr>\n",
       "      <th>3</th>\n",
       "      <td>Arkansas</td>\n",
       "      <td>3.0</td>\n",
       "      <td>614</td>\n",
       "      <td>594</td>\n",
       "      <td>1208</td>\n",
       "    </tr>\n",
       "    <tr>\n",
       "      <th>4</th>\n",
       "      <td>California</td>\n",
       "      <td>53.0</td>\n",
       "      <td>531</td>\n",
       "      <td>524</td>\n",
       "      <td>1055</td>\n",
       "    </tr>\n",
       "  </tbody>\n",
       "</table>\n",
       "</div>"
      ],
      "text/plain": [
       "        State  Participation  Evidence-Based Reading and Writing  Math  Total\n",
       "0     Alabama            5.0                                 593   572   1165\n",
       "1      Alaska           38.0                                 547   533   1080\n",
       "2     Arizona           30.0                                 563   553   1116\n",
       "3    Arkansas            3.0                                 614   594   1208\n",
       "4  California           53.0                                 531   524   1055"
      ]
     },
     "execution_count": 19,
     "metadata": {},
     "output_type": "execute_result"
    }
   ],
   "source": [
    "sat17.head()"
   ]
  },
  {
   "cell_type": "markdown",
   "metadata": {},
   "source": [
    "- Finish your data modifications by making sure the columns are now typed appropriately."
   ]
  },
  {
   "cell_type": "code",
   "execution_count": 20,
   "metadata": {},
   "outputs": [
    {
     "data": {
      "text/plain": [
       "State             object\n",
       "Participation    float64\n",
       "English          float64\n",
       "Math             float64\n",
       "Reading          float64\n",
       "Science          float64\n",
       "Composite        float64\n",
       "dtype: object"
      ]
     },
     "execution_count": 20,
     "metadata": {},
     "output_type": "execute_result"
    }
   ],
   "source": [
    "#code\n",
    "act17.dtypes"
   ]
  },
  {
   "cell_type": "markdown",
   "metadata": {},
   "source": [
    "- Display the data types again to confirm they are correct."
   ]
  },
  {
   "cell_type": "code",
   "execution_count": 21,
   "metadata": {},
   "outputs": [
    {
     "data": {
      "text/plain": [
       "State                                  object\n",
       "Participation                         float64\n",
       "Evidence-Based Reading and Writing      int64\n",
       "Math                                    int64\n",
       "Total                                   int64\n",
       "dtype: object"
      ]
     },
     "execution_count": 21,
     "metadata": {},
     "output_type": "execute_result"
    }
   ],
   "source": [
    "#Code:\n",
    "sat17.dtypes"
   ]
  },
  {
   "cell_type": "markdown",
   "metadata": {},
   "source": [
    "#### 7. Rename Columns\n",
    "Change the names of the columns to more expressive names so that you can tell the difference the SAT columns and the ACT columns. Your solution should map all column names being changed at once (no repeated singular name-changes). **We will be combining these data with some of the data from 2018, and so you should name columns in an appropriate way**.\n",
    "\n",
    "**Guidelines**:\n",
    "- Column names should be all lowercase (you will thank yourself when you start pushing data to SQL later in the course)\n",
    "- Column names should not contain spaces (underscores will suffice--this allows for using the `df.column_name` method to access columns in addition to `df['column_name']`.\n",
    "- Column names should be unique and informative (the only feature that we actually share between dataframes is the state)."
   ]
  },
  {
   "cell_type": "code",
   "execution_count": 22,
   "metadata": {},
   "outputs": [],
   "source": [
    "#code\n",
    "sat17.columns\n",
    "sat17_mapper = {\n",
    "    'State': 'State',\n",
    "    'Participation': 'sat_participation_2017',\n",
    "    'Evidence-Based Reading and Writing': 'sat_rw_2017',\n",
    "    'Math': 'sat_math_2017',\n",
    "    'Total': 'sat_total_2017'}\n",
    "\n"
   ]
  },
  {
   "cell_type": "code",
   "execution_count": 23,
   "metadata": {},
   "outputs": [],
   "source": [
    "sat17.rename(columns = sat17_mapper, inplace = True)"
   ]
  },
  {
   "cell_type": "code",
   "execution_count": 24,
   "metadata": {},
   "outputs": [
    {
     "data": {
      "text/plain": [
       "Index(['State', 'sat_participation_2017', 'sat_rw_2017', 'sat_math_2017',\n",
       "       'sat_total_2017'],\n",
       "      dtype='object')"
      ]
     },
     "execution_count": 24,
     "metadata": {},
     "output_type": "execute_result"
    }
   ],
   "source": [
    "sat17.columns"
   ]
  },
  {
   "cell_type": "code",
   "execution_count": 25,
   "metadata": {},
   "outputs": [
    {
     "data": {
      "text/html": [
       "<div>\n",
       "<style scoped>\n",
       "    .dataframe tbody tr th:only-of-type {\n",
       "        vertical-align: middle;\n",
       "    }\n",
       "\n",
       "    .dataframe tbody tr th {\n",
       "        vertical-align: top;\n",
       "    }\n",
       "\n",
       "    .dataframe thead th {\n",
       "        text-align: right;\n",
       "    }\n",
       "</style>\n",
       "<table border=\"1\" class=\"dataframe\">\n",
       "  <thead>\n",
       "    <tr style=\"text-align: right;\">\n",
       "      <th></th>\n",
       "      <th>State</th>\n",
       "      <th>sat_participation_2017</th>\n",
       "      <th>sat_rw_2017</th>\n",
       "      <th>sat_math_2017</th>\n",
       "      <th>sat_total_2017</th>\n",
       "    </tr>\n",
       "  </thead>\n",
       "  <tbody>\n",
       "    <tr>\n",
       "      <th>0</th>\n",
       "      <td>Alabama</td>\n",
       "      <td>5.0</td>\n",
       "      <td>593</td>\n",
       "      <td>572</td>\n",
       "      <td>1165</td>\n",
       "    </tr>\n",
       "    <tr>\n",
       "      <th>1</th>\n",
       "      <td>Alaska</td>\n",
       "      <td>38.0</td>\n",
       "      <td>547</td>\n",
       "      <td>533</td>\n",
       "      <td>1080</td>\n",
       "    </tr>\n",
       "    <tr>\n",
       "      <th>2</th>\n",
       "      <td>Arizona</td>\n",
       "      <td>30.0</td>\n",
       "      <td>563</td>\n",
       "      <td>553</td>\n",
       "      <td>1116</td>\n",
       "    </tr>\n",
       "    <tr>\n",
       "      <th>3</th>\n",
       "      <td>Arkansas</td>\n",
       "      <td>3.0</td>\n",
       "      <td>614</td>\n",
       "      <td>594</td>\n",
       "      <td>1208</td>\n",
       "    </tr>\n",
       "    <tr>\n",
       "      <th>4</th>\n",
       "      <td>California</td>\n",
       "      <td>53.0</td>\n",
       "      <td>531</td>\n",
       "      <td>524</td>\n",
       "      <td>1055</td>\n",
       "    </tr>\n",
       "  </tbody>\n",
       "</table>\n",
       "</div>"
      ],
      "text/plain": [
       "        State  sat_participation_2017  sat_rw_2017  sat_math_2017  \\\n",
       "0     Alabama                     5.0          593            572   \n",
       "1      Alaska                    38.0          547            533   \n",
       "2     Arizona                    30.0          563            553   \n",
       "3    Arkansas                     3.0          614            594   \n",
       "4  California                    53.0          531            524   \n",
       "\n",
       "   sat_total_2017  \n",
       "0            1165  \n",
       "1            1080  \n",
       "2            1116  \n",
       "3            1208  \n",
       "4            1055  "
      ]
     },
     "execution_count": 25,
     "metadata": {},
     "output_type": "execute_result"
    }
   ],
   "source": [
    "sat17.head()"
   ]
  },
  {
   "cell_type": "code",
   "execution_count": 26,
   "metadata": {},
   "outputs": [
    {
     "data": {
      "text/plain": [
       "Index(['State', 'Participation', 'English', 'Math', 'Reading', 'Science',\n",
       "       'Composite'],\n",
       "      dtype='object')"
      ]
     },
     "execution_count": 26,
     "metadata": {},
     "output_type": "execute_result"
    }
   ],
   "source": [
    "act17.columns"
   ]
  },
  {
   "cell_type": "code",
   "execution_count": 27,
   "metadata": {},
   "outputs": [],
   "source": [
    "act17.columns\n",
    "act17_mapper = {\n",
    "    'State': 'State',\n",
    "    'Participation': 'act_participation_2017',\n",
    "    'Evidence-Based Reading and Writing': 'act_rw_2017',\n",
    "    'Math': 'act_math_2017',\n",
    "    'Reading': 'act_reading_2017',\n",
    "    'Science': 'act_sci_2017',\n",
    "    'English': 'act_eng_2017',\n",
    "    'Composite': 'Composite_2017'}"
   ]
  },
  {
   "cell_type": "code",
   "execution_count": 28,
   "metadata": {},
   "outputs": [],
   "source": [
    "act17.rename(columns = act17_mapper, inplace = True)"
   ]
  },
  {
   "cell_type": "code",
   "execution_count": 29,
   "metadata": {},
   "outputs": [
    {
     "data": {
      "text/html": [
       "<div>\n",
       "<style scoped>\n",
       "    .dataframe tbody tr th:only-of-type {\n",
       "        vertical-align: middle;\n",
       "    }\n",
       "\n",
       "    .dataframe tbody tr th {\n",
       "        vertical-align: top;\n",
       "    }\n",
       "\n",
       "    .dataframe thead th {\n",
       "        text-align: right;\n",
       "    }\n",
       "</style>\n",
       "<table border=\"1\" class=\"dataframe\">\n",
       "  <thead>\n",
       "    <tr style=\"text-align: right;\">\n",
       "      <th></th>\n",
       "      <th>State</th>\n",
       "      <th>act_participation_2017</th>\n",
       "      <th>act_eng_2017</th>\n",
       "      <th>act_math_2017</th>\n",
       "      <th>act_reading_2017</th>\n",
       "      <th>act_sci_2017</th>\n",
       "      <th>Composite_2017</th>\n",
       "    </tr>\n",
       "  </thead>\n",
       "  <tbody>\n",
       "    <tr>\n",
       "      <th>0</th>\n",
       "      <td>National</td>\n",
       "      <td>60.0</td>\n",
       "      <td>20.3</td>\n",
       "      <td>20.7</td>\n",
       "      <td>21.4</td>\n",
       "      <td>21.0</td>\n",
       "      <td>21.0</td>\n",
       "    </tr>\n",
       "    <tr>\n",
       "      <th>1</th>\n",
       "      <td>Alabama</td>\n",
       "      <td>100.0</td>\n",
       "      <td>18.9</td>\n",
       "      <td>18.4</td>\n",
       "      <td>19.7</td>\n",
       "      <td>19.4</td>\n",
       "      <td>19.0</td>\n",
       "    </tr>\n",
       "    <tr>\n",
       "      <th>2</th>\n",
       "      <td>Alaska</td>\n",
       "      <td>65.0</td>\n",
       "      <td>18.7</td>\n",
       "      <td>19.8</td>\n",
       "      <td>20.4</td>\n",
       "      <td>19.9</td>\n",
       "      <td>19.0</td>\n",
       "    </tr>\n",
       "    <tr>\n",
       "      <th>3</th>\n",
       "      <td>Arizona</td>\n",
       "      <td>62.0</td>\n",
       "      <td>18.6</td>\n",
       "      <td>19.8</td>\n",
       "      <td>20.1</td>\n",
       "      <td>19.8</td>\n",
       "      <td>19.0</td>\n",
       "    </tr>\n",
       "    <tr>\n",
       "      <th>4</th>\n",
       "      <td>Arkansas</td>\n",
       "      <td>100.0</td>\n",
       "      <td>18.9</td>\n",
       "      <td>19.0</td>\n",
       "      <td>19.7</td>\n",
       "      <td>19.5</td>\n",
       "      <td>19.0</td>\n",
       "    </tr>\n",
       "  </tbody>\n",
       "</table>\n",
       "</div>"
      ],
      "text/plain": [
       "      State  act_participation_2017  act_eng_2017  act_math_2017  \\\n",
       "0  National                    60.0          20.3           20.7   \n",
       "1   Alabama                   100.0          18.9           18.4   \n",
       "2    Alaska                    65.0          18.7           19.8   \n",
       "3   Arizona                    62.0          18.6           19.8   \n",
       "4  Arkansas                   100.0          18.9           19.0   \n",
       "\n",
       "   act_reading_2017  act_sci_2017  Composite_2017  \n",
       "0              21.4          21.0            21.0  \n",
       "1              19.7          19.4            19.0  \n",
       "2              20.4          19.9            19.0  \n",
       "3              20.1          19.8            19.0  \n",
       "4              19.7          19.5            19.0  "
      ]
     },
     "execution_count": 29,
     "metadata": {},
     "output_type": "execute_result"
    }
   ],
   "source": [
    "act17.head()"
   ]
  },
  {
   "cell_type": "markdown",
   "metadata": {},
   "source": [
    "#### 8. Create a data dictionary\n",
    "\n",
    "Now that we've fixed our data, and given it appropriate names, let's create a [data dictionary](http://library.ucmerced.edu/node/10249). \n",
    "\n",
    "A data dictionary provides a quick overview of features/variables/columns, alongside data types and descriptions. The more descriptive you can be, the more useful this document is.\n",
    "\n",
    "Example of a Fictional Data Dictionary Entry: \n",
    "\n",
    "|Feature|Type|Dataset|Description|\n",
    "|---|---|---|---|\n",
    "|**county_pop**|*integer*|2010 census|The population of the county (units in thousands, where 2.5 represents 2500 people).| \n",
    "|**per_poverty**|*float*|2010 census|The percent of the county over the age of 18 living below the 200% of official US poverty rate (units percent to two decimal places 98.10 means 98.1%)|\n",
    "\n",
    "[Here's a quick link to a short guide for formatting markdown in Jupyter notebooks](https://jupyter-notebook.readthedocs.io/en/stable/examples/Notebook/Working%20With%20Markdown%20Cells.html).\n",
    "\n",
    "Provided is the skeleton for formatting a markdown table, with columns headers that will help you create a data dictionary to quickly summarize your data, as well as some examples. **This would be a great thing to copy and paste into your custom README for this project.**"
   ]
  },
  {
   "cell_type": "markdown",
   "metadata": {},
   "source": [
    "|Feature|Type|Dataset|Description|\n",
    "|---|---|---|---|\n",
    "|State|object|ACT/SAT|Every State including D.C.|\n",
    "|act_participation_18|float|ACT|Percentage of students who took the ACT in 2018| \n",
    "|Composite_18|float|ACT|Composite score for the ACT in 2018| \n",
    "|sat_participation_18|float|SAT|Percentage of students of took the SAT in 2018| \n",
    "|sat_rw_18|int|SAT|SAT Reading and Writing score for 2018| \n",
    "|sat_math_18|int|SAT|SAT Math score for 2018| \n",
    "|sat_total_18|int|SAT|SAT total score for 2018| \n",
    "|act_participation_2017|float|ACT|% of students of took the ACT in 2017| \n",
    "|act_eng_2017|float|ACT|ACT English score in 2017|\n",
    "|act_math_2017|float|ACT|ACT Math score in 2017| \n",
    "|act_reading_2017|float|ACT|ACT Reading score in 2017|\n",
    "|act_sci_2017|float|ACT|ACT Science score in 2017| \n",
    "|Composite_2017|float|ACT|ACT Composite or Total score in 2017|\n",
    "|sat_participation_2017|float|SAT|Percentage of students who took the SAT in 2017| \n",
    "|sat_rw_2017|int|SAT|SAT Reading and Writing in 2017|\n",
    "|sat_math_2017|int|SAT|SAT Math score for 2017| \n",
    "|sat_total_2017|int|SAT|Total SAT score for 2017|\n"
   ]
  },
  {
   "cell_type": "code",
   "execution_count": 183,
   "metadata": {},
   "outputs": [
    {
     "data": {
      "text/plain": [
       "State                      object\n",
       "act_participation_18      float64\n",
       "Composite_18              float64\n",
       "sat_participation_18      float64\n",
       "sat_rw_18                   int64\n",
       "sat_math_18                 int64\n",
       "sat_total_18                int64\n",
       "act_participation_2017    float64\n",
       "act_eng_2017              float64\n",
       "act_math_2017             float64\n",
       "act_reading_2017          float64\n",
       "act_sci_2017              float64\n",
       "Composite_2017            float64\n",
       "sat_participation_2017    float64\n",
       "sat_rw_2017                 int64\n",
       "sat_math_2017               int64\n",
       "sat_total_2017              int64\n",
       "dtype: object"
      ]
     },
     "execution_count": 183,
     "metadata": {},
     "output_type": "execute_result"
    }
   ],
   "source": [
    "final.dtypes"
   ]
  },
  {
   "cell_type": "code",
   "execution_count": null,
   "metadata": {},
   "outputs": [],
   "source": []
  },
  {
   "cell_type": "markdown",
   "metadata": {},
   "source": [
    "#### 9. Drop unnecessary rows\n",
    "\n",
    "One of our dataframes contains an extra row. Identify and remove this from the dataframe."
   ]
  },
  {
   "cell_type": "code",
   "execution_count": 30,
   "metadata": {
    "scrolled": true
   },
   "outputs": [
    {
     "data": {
      "text/plain": [
       "Alabama                 1\n",
       "Oklahoma                1\n",
       "Mississippi             1\n",
       "Hawaii                  1\n",
       "Utah                    1\n",
       "Kentucky                1\n",
       "Connecticut             1\n",
       "Texas                   1\n",
       "Kansas                  1\n",
       "Tennessee               1\n",
       "New Jersey              1\n",
       "Missouri                1\n",
       "New Hampshire           1\n",
       "Oregon                  1\n",
       "North Dakota            1\n",
       "Rhode Island            1\n",
       "Wisconsin               1\n",
       "Nevada                  1\n",
       "Wyoming                 1\n",
       "Vermont                 1\n",
       "Maine                   1\n",
       "National                1\n",
       "West Virginia           1\n",
       "Massachusetts           1\n",
       "Arizona                 1\n",
       "Florida                 1\n",
       "Ohio                    1\n",
       "Illinois                1\n",
       "South Carolina          1\n",
       "Georgia                 1\n",
       "Michigan                1\n",
       "Arkansas                1\n",
       "Alaska                  1\n",
       "Pennsylvania            1\n",
       "New Mexico              1\n",
       "Iowa                    1\n",
       "District of Columbia    1\n",
       "Maryland                1\n",
       "Indiana                 1\n",
       "Nebraska                1\n",
       "California              1\n",
       "Idaho                   1\n",
       "Minnesota               1\n",
       "Virginia                1\n",
       "Louisiana               1\n",
       "Montana                 1\n",
       "South Dakota            1\n",
       "North Carolina          1\n",
       "New York                1\n",
       "Colorado                1\n",
       "Washington              1\n",
       "Delaware                1\n",
       "Name: State, dtype: int64"
      ]
     },
     "execution_count": 30,
     "metadata": {},
     "output_type": "execute_result"
    }
   ],
   "source": [
    "#code\n",
    "act17['State'].value_counts()"
   ]
  },
  {
   "cell_type": "code",
   "execution_count": 31,
   "metadata": {},
   "outputs": [
    {
     "data": {
      "text/plain": [
       "(52, 7)"
      ]
     },
     "execution_count": 31,
     "metadata": {},
     "output_type": "execute_result"
    }
   ],
   "source": [
    "act17.shape"
   ]
  },
  {
   "cell_type": "code",
   "execution_count": 32,
   "metadata": {},
   "outputs": [
    {
     "data": {
      "text/plain": [
       "0    National\n",
       "1     Alabama\n",
       "2      Alaska\n",
       "3     Arizona\n",
       "4    Arkansas\n",
       "Name: State, dtype: object"
      ]
     },
     "execution_count": 32,
     "metadata": {},
     "output_type": "execute_result"
    }
   ],
   "source": [
    "act17['State'].head()"
   ]
  },
  {
   "cell_type": "code",
   "execution_count": 33,
   "metadata": {},
   "outputs": [],
   "source": [
    "act17.drop(index=0,inplace=True)"
   ]
  },
  {
   "cell_type": "code",
   "execution_count": 34,
   "metadata": {},
   "outputs": [
    {
     "data": {
      "text/html": [
       "<div>\n",
       "<style scoped>\n",
       "    .dataframe tbody tr th:only-of-type {\n",
       "        vertical-align: middle;\n",
       "    }\n",
       "\n",
       "    .dataframe tbody tr th {\n",
       "        vertical-align: top;\n",
       "    }\n",
       "\n",
       "    .dataframe thead th {\n",
       "        text-align: right;\n",
       "    }\n",
       "</style>\n",
       "<table border=\"1\" class=\"dataframe\">\n",
       "  <thead>\n",
       "    <tr style=\"text-align: right;\">\n",
       "      <th></th>\n",
       "      <th>State</th>\n",
       "      <th>act_participation_2017</th>\n",
       "      <th>act_eng_2017</th>\n",
       "      <th>act_math_2017</th>\n",
       "      <th>act_reading_2017</th>\n",
       "      <th>act_sci_2017</th>\n",
       "      <th>Composite_2017</th>\n",
       "    </tr>\n",
       "  </thead>\n",
       "  <tbody>\n",
       "    <tr>\n",
       "      <th>1</th>\n",
       "      <td>Alabama</td>\n",
       "      <td>100.0</td>\n",
       "      <td>18.9</td>\n",
       "      <td>18.4</td>\n",
       "      <td>19.7</td>\n",
       "      <td>19.4</td>\n",
       "      <td>19.0</td>\n",
       "    </tr>\n",
       "    <tr>\n",
       "      <th>2</th>\n",
       "      <td>Alaska</td>\n",
       "      <td>65.0</td>\n",
       "      <td>18.7</td>\n",
       "      <td>19.8</td>\n",
       "      <td>20.4</td>\n",
       "      <td>19.9</td>\n",
       "      <td>19.0</td>\n",
       "    </tr>\n",
       "    <tr>\n",
       "      <th>3</th>\n",
       "      <td>Arizona</td>\n",
       "      <td>62.0</td>\n",
       "      <td>18.6</td>\n",
       "      <td>19.8</td>\n",
       "      <td>20.1</td>\n",
       "      <td>19.8</td>\n",
       "      <td>19.0</td>\n",
       "    </tr>\n",
       "    <tr>\n",
       "      <th>4</th>\n",
       "      <td>Arkansas</td>\n",
       "      <td>100.0</td>\n",
       "      <td>18.9</td>\n",
       "      <td>19.0</td>\n",
       "      <td>19.7</td>\n",
       "      <td>19.5</td>\n",
       "      <td>19.0</td>\n",
       "    </tr>\n",
       "    <tr>\n",
       "      <th>5</th>\n",
       "      <td>California</td>\n",
       "      <td>31.0</td>\n",
       "      <td>22.5</td>\n",
       "      <td>22.7</td>\n",
       "      <td>23.1</td>\n",
       "      <td>22.2</td>\n",
       "      <td>22.0</td>\n",
       "    </tr>\n",
       "  </tbody>\n",
       "</table>\n",
       "</div>"
      ],
      "text/plain": [
       "        State  act_participation_2017  act_eng_2017  act_math_2017  \\\n",
       "1     Alabama                   100.0          18.9           18.4   \n",
       "2      Alaska                    65.0          18.7           19.8   \n",
       "3     Arizona                    62.0          18.6           19.8   \n",
       "4    Arkansas                   100.0          18.9           19.0   \n",
       "5  California                    31.0          22.5           22.7   \n",
       "\n",
       "   act_reading_2017  act_sci_2017  Composite_2017  \n",
       "1              19.7          19.4            19.0  \n",
       "2              20.4          19.9            19.0  \n",
       "3              20.1          19.8            19.0  \n",
       "4              19.7          19.5            19.0  \n",
       "5              23.1          22.2            22.0  "
      ]
     },
     "execution_count": 34,
     "metadata": {},
     "output_type": "execute_result"
    }
   ],
   "source": [
    "act17.head()"
   ]
  },
  {
   "cell_type": "markdown",
   "metadata": {},
   "source": [
    "#### 10. Merge Dataframes\n",
    "\n",
    "Join the 2017 ACT and SAT dataframes using the state in each dataframe as the key. Assign this to a new variable."
   ]
  },
  {
   "cell_type": "code",
   "execution_count": 35,
   "metadata": {},
   "outputs": [
    {
     "data": {
      "text/html": [
       "<div>\n",
       "<style scoped>\n",
       "    .dataframe tbody tr th:only-of-type {\n",
       "        vertical-align: middle;\n",
       "    }\n",
       "\n",
       "    .dataframe tbody tr th {\n",
       "        vertical-align: top;\n",
       "    }\n",
       "\n",
       "    .dataframe thead th {\n",
       "        text-align: right;\n",
       "    }\n",
       "</style>\n",
       "<table border=\"1\" class=\"dataframe\">\n",
       "  <thead>\n",
       "    <tr style=\"text-align: right;\">\n",
       "      <th></th>\n",
       "      <th>State</th>\n",
       "      <th>sat_participation_2017</th>\n",
       "      <th>sat_rw_2017</th>\n",
       "      <th>sat_math_2017</th>\n",
       "      <th>sat_total_2017</th>\n",
       "      <th>act_participation_2017</th>\n",
       "      <th>act_eng_2017</th>\n",
       "      <th>act_math_2017</th>\n",
       "      <th>act_reading_2017</th>\n",
       "      <th>act_sci_2017</th>\n",
       "      <th>Composite_2017</th>\n",
       "    </tr>\n",
       "  </thead>\n",
       "  <tbody>\n",
       "    <tr>\n",
       "      <th>0</th>\n",
       "      <td>Alabama</td>\n",
       "      <td>5.0</td>\n",
       "      <td>593</td>\n",
       "      <td>572</td>\n",
       "      <td>1165</td>\n",
       "      <td>100.0</td>\n",
       "      <td>18.9</td>\n",
       "      <td>18.4</td>\n",
       "      <td>19.7</td>\n",
       "      <td>19.4</td>\n",
       "      <td>19.0</td>\n",
       "    </tr>\n",
       "    <tr>\n",
       "      <th>1</th>\n",
       "      <td>Alaska</td>\n",
       "      <td>38.0</td>\n",
       "      <td>547</td>\n",
       "      <td>533</td>\n",
       "      <td>1080</td>\n",
       "      <td>65.0</td>\n",
       "      <td>18.7</td>\n",
       "      <td>19.8</td>\n",
       "      <td>20.4</td>\n",
       "      <td>19.9</td>\n",
       "      <td>19.0</td>\n",
       "    </tr>\n",
       "    <tr>\n",
       "      <th>2</th>\n",
       "      <td>Arizona</td>\n",
       "      <td>30.0</td>\n",
       "      <td>563</td>\n",
       "      <td>553</td>\n",
       "      <td>1116</td>\n",
       "      <td>62.0</td>\n",
       "      <td>18.6</td>\n",
       "      <td>19.8</td>\n",
       "      <td>20.1</td>\n",
       "      <td>19.8</td>\n",
       "      <td>19.0</td>\n",
       "    </tr>\n",
       "    <tr>\n",
       "      <th>3</th>\n",
       "      <td>Arkansas</td>\n",
       "      <td>3.0</td>\n",
       "      <td>614</td>\n",
       "      <td>594</td>\n",
       "      <td>1208</td>\n",
       "      <td>100.0</td>\n",
       "      <td>18.9</td>\n",
       "      <td>19.0</td>\n",
       "      <td>19.7</td>\n",
       "      <td>19.5</td>\n",
       "      <td>19.0</td>\n",
       "    </tr>\n",
       "    <tr>\n",
       "      <th>4</th>\n",
       "      <td>California</td>\n",
       "      <td>53.0</td>\n",
       "      <td>531</td>\n",
       "      <td>524</td>\n",
       "      <td>1055</td>\n",
       "      <td>31.0</td>\n",
       "      <td>22.5</td>\n",
       "      <td>22.7</td>\n",
       "      <td>23.1</td>\n",
       "      <td>22.2</td>\n",
       "      <td>22.0</td>\n",
       "    </tr>\n",
       "  </tbody>\n",
       "</table>\n",
       "</div>"
      ],
      "text/plain": [
       "        State  sat_participation_2017  sat_rw_2017  sat_math_2017  \\\n",
       "0     Alabama                     5.0          593            572   \n",
       "1      Alaska                    38.0          547            533   \n",
       "2     Arizona                    30.0          563            553   \n",
       "3    Arkansas                     3.0          614            594   \n",
       "4  California                    53.0          531            524   \n",
       "\n",
       "   sat_total_2017  act_participation_2017  act_eng_2017  act_math_2017  \\\n",
       "0            1165                   100.0          18.9           18.4   \n",
       "1            1080                    65.0          18.7           19.8   \n",
       "2            1116                    62.0          18.6           19.8   \n",
       "3            1208                   100.0          18.9           19.0   \n",
       "4            1055                    31.0          22.5           22.7   \n",
       "\n",
       "   act_reading_2017  act_sci_2017  Composite_2017  \n",
       "0              19.7          19.4            19.0  \n",
       "1              20.4          19.9            19.0  \n",
       "2              20.1          19.8            19.0  \n",
       "3              19.7          19.5            19.0  \n",
       "4              23.1          22.2            22.0  "
      ]
     },
     "execution_count": 35,
     "metadata": {},
     "output_type": "execute_result"
    }
   ],
   "source": [
    "#Code:\n",
    "combined_2017 = pd.merge(sat17, act17, on = 'State')\n",
    "combined_2017.head()"
   ]
  },
  {
   "cell_type": "markdown",
   "metadata": {},
   "source": [
    "#### 11. Save your cleaned, merged dataframe\n",
    "\n",
    "Use a relative path to save out your data as `combined_2017.csv`."
   ]
  },
  {
   "cell_type": "code",
   "execution_count": 36,
   "metadata": {},
   "outputs": [
    {
     "data": {
      "text/plain": [
       "'State,sat_participation_2017,sat_rw_2017,sat_math_2017,sat_total_2017,act_participation_2017,act_eng_2017,act_math_2017,act_reading_2017,act_sci_2017,Composite_2017\\nAlabama,5.0,593,572,1165,100.0,18.9,18.4,19.7,19.4,19.0\\nAlaska,38.0,547,533,1080,65.0,18.7,19.8,20.4,19.9,19.0\\nArizona,30.0,563,553,1116,62.0,18.6,19.8,20.1,19.8,19.0\\nArkansas,3.0,614,594,1208,100.0,18.9,19.0,19.7,19.5,19.0\\nCalifornia,53.0,531,524,1055,31.0,22.5,22.7,23.1,22.2,22.0\\nColorado,11.0,606,595,1201,100.0,20.1,20.3,21.2,20.9,20.0\\nConnecticut,100.0,530,512,1041,31.0,25.5,24.6,25.6,24.6,25.0\\nDelaware,100.0,503,492,996,18.0,24.1,23.4,24.8,23.6,24.0\\nDistrict of Columbia,100.0,482,468,950,32.0,24.4,23.5,24.9,23.5,24.0\\nFlorida,83.0,520,497,1017,73.0,19.0,19.4,21.0,19.4,19.0\\nGeorgia,61.0,535,515,1050,55.0,21.0,20.9,22.0,21.3,21.0\\nHawaii,55.0,544,541,1085,90.0,17.8,19.2,19.2,19.3,19.0\\nIdaho,93.0,513,493,1005,38.0,21.9,21.8,23.0,22.1,22.0\\nIllinois,9.0,559,556,1115,93.0,21.0,21.2,21.6,21.3,21.0\\nIndiana,63.0,542,532,1074,35.0,22.0,22.4,23.2,22.3,22.0\\nIowa,2.0,641,635,1275,67.0,21.2,21.3,22.6,22.1,21.0\\nKansas,4.0,632,628,1260,73.0,21.1,21.3,22.3,21.7,21.0\\nKentucky,4.0,631,616,1247,100.0,19.6,19.4,20.5,20.1,20.0\\nLouisiana,4.0,611,586,1198,100.0,19.4,18.8,19.8,19.6,19.0\\nMaine,95.0,513,499,1012,8.0,24.2,24.0,24.8,23.7,24.0\\nMaryland,69.0,536,52,1060,28.0,23.3,23.1,24.2,2.3,23.0\\nMassachusetts,76.0,555,551,1107,29.0,25.4,25.3,25.9,24.7,25.0\\nMichigan,100.0,509,495,1005,29.0,24.1,23.7,24.5,23.8,24.0\\nMinnesota,3.0,644,651,1295,100.0,20.4,21.5,21.8,21.6,21.0\\nMississippi,2.0,634,607,1242,100.0,18.2,18.1,18.8,18.8,18.0\\nMissouri,3.0,640,631,1271,100.0,19.8,19.9,20.8,20.5,20.0\\nMontana,10.0,605,591,1196,100.0,19.0,20.2,21.0,20.5,20.0\\nNebraska,3.0,629,625,1253,84.0,20.9,20.9,21.9,21.5,21.0\\nNevada,26.0,563,553,1116,100.0,16.3,18.0,18.1,18.2,17.0\\nNew Hampshire,96.0,532,520,1052,18.0,25.4,25.1,26.0,24.9,25.0\\nNew Jersey,70.0,530,526,1056,34.0,23.8,23.8,24.1,23.2,23.0\\nNew Mexico,11.0,577,561,1138,66.0,18.6,19.4,20.4,20.0,19.0\\nNew York,67.0,528,523,1052,31.0,23.8,24.0,24.6,23.9,24.0\\nNorth Carolina,49.0,546,535,1081,100.0,17.8,19.3,19.6,19.3,19.0\\nNorth Dakota,2.0,635,621,1256,98.0,19.0,20.4,20.5,20.6,20.0\\nOhio,12.0,578,570,1149,75.0,21.2,21.6,22.5,22.0,22.0\\nOklahoma,7.0,530,517,1047,100.0,18.5,18.8,20.1,19.6,19.0\\nOregon,43.0,560,548,1108,40.0,21.2,21.5,22.4,21.7,21.0\\nPennsylvania,65.0,540,531,1071,23.0,23.4,23.4,24.2,23.3,23.0\\nRhode Island,71.0,539,524,1062,21.0,24.0,23.3,24.7,23.4,24.0\\nSouth Carolina,50.0,543,521,1064,100.0,17.5,18.6,19.1,18.9,18.0\\nSouth Dakota,3.0,612,603,1216,80.0,20.7,21.5,22.3,22.0,21.0\\nTennessee,5.0,623,604,1228,100.0,19.5,19.2,20.1,19.9,19.0\\nTexas,62.0,513,507,1020,45.0,19.5,20.7,21.1,20.9,20.0\\nUtah,3.0,624,614,1238,100.0,19.5,19.9,20.8,20.6,20.0\\nVermont,60.0,562,551,1114,29.0,23.3,23.1,24.4,23.2,23.0\\nVirginia,65.0,561,541,1102,29.0,23.5,23.3,24.6,23.5,23.0\\nWashington,64.0,541,534,1075,29.0,20.9,21.9,22.1,22.0,21.0\\nWest Virginia,14.0,558,528,1086,69.0,20.0,19.4,21.2,20.5,20.0\\nWisconsin,3.0,642,649,1291,100.0,19.7,20.4,20.6,20.9,20.0\\nWyoming,3.0,626,604,1230,100.0,19.4,19.8,20.8,20.6,20.2\\n'"
      ]
     },
     "execution_count": 36,
     "metadata": {},
     "output_type": "execute_result"
    }
   ],
   "source": [
    "#code\n",
    "combined_2017.to_csv(index=False)"
   ]
  },
  {
   "cell_type": "markdown",
   "metadata": {},
   "source": [
    "## 2018 Data Import and Cleaning"
   ]
  },
  {
   "cell_type": "markdown",
   "metadata": {},
   "source": [
    "Links to the 2018 ACT and SAT data are provided in the README. These data live in PDFs, and so you'll get to enjoy practicing some *manual* data collection. Save these data as a CSV in your `data` directory, and import, explore, and clean these data in the same way you did above. **Make sure you comment on your steps so it is clear *why* you are doing each process**."
   ]
  },
  {
   "cell_type": "code",
   "execution_count": 37,
   "metadata": {},
   "outputs": [],
   "source": [
    "sat18 = pd.read_csv('../data/2018_Data - SAT 2018.csv')\n",
    "act18 = pd.read_csv('../data/2018_Data - ACT 2018.csv')"
   ]
  },
  {
   "cell_type": "code",
   "execution_count": 38,
   "metadata": {},
   "outputs": [
    {
     "data": {
      "text/html": [
       "<div>\n",
       "<style scoped>\n",
       "    .dataframe tbody tr th:only-of-type {\n",
       "        vertical-align: middle;\n",
       "    }\n",
       "\n",
       "    .dataframe tbody tr th {\n",
       "        vertical-align: top;\n",
       "    }\n",
       "\n",
       "    .dataframe thead th {\n",
       "        text-align: right;\n",
       "    }\n",
       "</style>\n",
       "<table border=\"1\" class=\"dataframe\">\n",
       "  <thead>\n",
       "    <tr style=\"text-align: right;\">\n",
       "      <th></th>\n",
       "      <th>State</th>\n",
       "      <th>Participation</th>\n",
       "      <th>Evidence-Based Reading and Writing</th>\n",
       "      <th>Math</th>\n",
       "      <th>Total</th>\n",
       "    </tr>\n",
       "  </thead>\n",
       "  <tbody>\n",
       "    <tr>\n",
       "      <th>0</th>\n",
       "      <td>Alabama</td>\n",
       "      <td>6%</td>\n",
       "      <td>595</td>\n",
       "      <td>571</td>\n",
       "      <td>1166</td>\n",
       "    </tr>\n",
       "    <tr>\n",
       "      <th>1</th>\n",
       "      <td>Alaska</td>\n",
       "      <td>43%</td>\n",
       "      <td>562</td>\n",
       "      <td>544</td>\n",
       "      <td>1106</td>\n",
       "    </tr>\n",
       "    <tr>\n",
       "      <th>2</th>\n",
       "      <td>Arizona</td>\n",
       "      <td>29%</td>\n",
       "      <td>577</td>\n",
       "      <td>572</td>\n",
       "      <td>1149</td>\n",
       "    </tr>\n",
       "    <tr>\n",
       "      <th>3</th>\n",
       "      <td>Arkansas</td>\n",
       "      <td>5%</td>\n",
       "      <td>592</td>\n",
       "      <td>576</td>\n",
       "      <td>1169</td>\n",
       "    </tr>\n",
       "    <tr>\n",
       "      <th>4</th>\n",
       "      <td>California</td>\n",
       "      <td>60%</td>\n",
       "      <td>540</td>\n",
       "      <td>536</td>\n",
       "      <td>1076</td>\n",
       "    </tr>\n",
       "  </tbody>\n",
       "</table>\n",
       "</div>"
      ],
      "text/plain": [
       "        State Participation  Evidence-Based Reading and Writing  Math  Total\n",
       "0     Alabama            6%                                 595   571   1166\n",
       "1      Alaska           43%                                 562   544   1106\n",
       "2     Arizona           29%                                 577   572   1149\n",
       "3    Arkansas            5%                                 592   576   1169\n",
       "4  California           60%                                 540   536   1076"
      ]
     },
     "execution_count": 38,
     "metadata": {},
     "output_type": "execute_result"
    }
   ],
   "source": [
    "sat18.head()"
   ]
  },
  {
   "cell_type": "code",
   "execution_count": 39,
   "metadata": {},
   "outputs": [
    {
     "data": {
      "text/html": [
       "<div>\n",
       "<style scoped>\n",
       "    .dataframe tbody tr th:only-of-type {\n",
       "        vertical-align: middle;\n",
       "    }\n",
       "\n",
       "    .dataframe tbody tr th {\n",
       "        vertical-align: top;\n",
       "    }\n",
       "\n",
       "    .dataframe thead th {\n",
       "        text-align: right;\n",
       "    }\n",
       "</style>\n",
       "<table border=\"1\" class=\"dataframe\">\n",
       "  <thead>\n",
       "    <tr style=\"text-align: right;\">\n",
       "      <th></th>\n",
       "      <th>State</th>\n",
       "      <th>Participation</th>\n",
       "      <th>Composite</th>\n",
       "    </tr>\n",
       "  </thead>\n",
       "  <tbody>\n",
       "    <tr>\n",
       "      <th>0</th>\n",
       "      <td>Alabama</td>\n",
       "      <td>100%</td>\n",
       "      <td>19.1</td>\n",
       "    </tr>\n",
       "    <tr>\n",
       "      <th>1</th>\n",
       "      <td>Alaska</td>\n",
       "      <td>33%</td>\n",
       "      <td>20.8</td>\n",
       "    </tr>\n",
       "    <tr>\n",
       "      <th>2</th>\n",
       "      <td>Arizona</td>\n",
       "      <td>66%</td>\n",
       "      <td>19.2</td>\n",
       "    </tr>\n",
       "    <tr>\n",
       "      <th>3</th>\n",
       "      <td>Arkansas</td>\n",
       "      <td>100%</td>\n",
       "      <td>19.4</td>\n",
       "    </tr>\n",
       "    <tr>\n",
       "      <th>4</th>\n",
       "      <td>California</td>\n",
       "      <td>27%</td>\n",
       "      <td>22.7</td>\n",
       "    </tr>\n",
       "  </tbody>\n",
       "</table>\n",
       "</div>"
      ],
      "text/plain": [
       "        State Participation  Composite\n",
       "0     Alabama          100%       19.1\n",
       "1      Alaska           33%       20.8\n",
       "2     Arizona           66%       19.2\n",
       "3    Arkansas          100%       19.4\n",
       "4  California           27%       22.7"
      ]
     },
     "execution_count": 39,
     "metadata": {},
     "output_type": "execute_result"
    }
   ],
   "source": [
    "act18.head()"
   ]
  },
  {
   "cell_type": "code",
   "execution_count": 40,
   "metadata": {},
   "outputs": [
    {
     "data": {
      "text/plain": [
       "State                                 object\n",
       "Participation                         object\n",
       "Evidence-Based Reading and Writing     int64\n",
       "Math                                   int64\n",
       "Total                                  int64\n",
       "dtype: object"
      ]
     },
     "execution_count": 40,
     "metadata": {},
     "output_type": "execute_result"
    }
   ],
   "source": [
    "sat18.dtypes"
   ]
  },
  {
   "cell_type": "code",
   "execution_count": 41,
   "metadata": {},
   "outputs": [
    {
     "data": {
      "text/plain": [
       "State             object\n",
       "Participation     object\n",
       "Composite        float64\n",
       "dtype: object"
      ]
     },
     "execution_count": 41,
     "metadata": {},
     "output_type": "execute_result"
    }
   ],
   "source": [
    "act18.dtypes"
   ]
  },
  {
   "cell_type": "code",
   "execution_count": 42,
   "metadata": {},
   "outputs": [],
   "source": [
    "sat18['Participation'] = sat18['Participation'].apply(convert)"
   ]
  },
  {
   "cell_type": "code",
   "execution_count": 43,
   "metadata": {},
   "outputs": [],
   "source": [
    "act18['Participation'] = act18['Participation'].apply(convert)"
   ]
  },
  {
   "cell_type": "code",
   "execution_count": 44,
   "metadata": {},
   "outputs": [
    {
     "data": {
      "text/html": [
       "<div>\n",
       "<style scoped>\n",
       "    .dataframe tbody tr th:only-of-type {\n",
       "        vertical-align: middle;\n",
       "    }\n",
       "\n",
       "    .dataframe tbody tr th {\n",
       "        vertical-align: top;\n",
       "    }\n",
       "\n",
       "    .dataframe thead th {\n",
       "        text-align: right;\n",
       "    }\n",
       "</style>\n",
       "<table border=\"1\" class=\"dataframe\">\n",
       "  <thead>\n",
       "    <tr style=\"text-align: right;\">\n",
       "      <th></th>\n",
       "      <th>Participation</th>\n",
       "      <th>Evidence-Based Reading and Writing</th>\n",
       "      <th>Math</th>\n",
       "      <th>Total</th>\n",
       "    </tr>\n",
       "  </thead>\n",
       "  <tbody>\n",
       "    <tr>\n",
       "      <th>count</th>\n",
       "      <td>51.000000</td>\n",
       "      <td>51.000000</td>\n",
       "      <td>51.000000</td>\n",
       "      <td>51.000000</td>\n",
       "    </tr>\n",
       "    <tr>\n",
       "      <th>mean</th>\n",
       "      <td>45.745098</td>\n",
       "      <td>563.686275</td>\n",
       "      <td>556.235294</td>\n",
       "      <td>1120.019608</td>\n",
       "    </tr>\n",
       "    <tr>\n",
       "      <th>std</th>\n",
       "      <td>37.314256</td>\n",
       "      <td>47.502627</td>\n",
       "      <td>47.772623</td>\n",
       "      <td>94.155083</td>\n",
       "    </tr>\n",
       "    <tr>\n",
       "      <th>min</th>\n",
       "      <td>2.000000</td>\n",
       "      <td>480.000000</td>\n",
       "      <td>480.000000</td>\n",
       "      <td>977.000000</td>\n",
       "    </tr>\n",
       "    <tr>\n",
       "      <th>25%</th>\n",
       "      <td>4.500000</td>\n",
       "      <td>534.500000</td>\n",
       "      <td>522.500000</td>\n",
       "      <td>1057.500000</td>\n",
       "    </tr>\n",
       "    <tr>\n",
       "      <th>50%</th>\n",
       "      <td>52.000000</td>\n",
       "      <td>552.000000</td>\n",
       "      <td>544.000000</td>\n",
       "      <td>1098.000000</td>\n",
       "    </tr>\n",
       "    <tr>\n",
       "      <th>75%</th>\n",
       "      <td>77.500000</td>\n",
       "      <td>610.500000</td>\n",
       "      <td>593.500000</td>\n",
       "      <td>1204.000000</td>\n",
       "    </tr>\n",
       "    <tr>\n",
       "      <th>max</th>\n",
       "      <td>100.000000</td>\n",
       "      <td>643.000000</td>\n",
       "      <td>655.000000</td>\n",
       "      <td>1298.000000</td>\n",
       "    </tr>\n",
       "  </tbody>\n",
       "</table>\n",
       "</div>"
      ],
      "text/plain": [
       "       Participation  Evidence-Based Reading and Writing        Math  \\\n",
       "count      51.000000                           51.000000   51.000000   \n",
       "mean       45.745098                          563.686275  556.235294   \n",
       "std        37.314256                           47.502627   47.772623   \n",
       "min         2.000000                          480.000000  480.000000   \n",
       "25%         4.500000                          534.500000  522.500000   \n",
       "50%        52.000000                          552.000000  544.000000   \n",
       "75%        77.500000                          610.500000  593.500000   \n",
       "max       100.000000                          643.000000  655.000000   \n",
       "\n",
       "             Total  \n",
       "count    51.000000  \n",
       "mean   1120.019608  \n",
       "std      94.155083  \n",
       "min     977.000000  \n",
       "25%    1057.500000  \n",
       "50%    1098.000000  \n",
       "75%    1204.000000  \n",
       "max    1298.000000  "
      ]
     },
     "execution_count": 44,
     "metadata": {},
     "output_type": "execute_result"
    }
   ],
   "source": [
    "sat18.describe()"
   ]
  },
  {
   "cell_type": "code",
   "execution_count": 45,
   "metadata": {},
   "outputs": [
    {
     "data": {
      "text/html": [
       "<div>\n",
       "<style scoped>\n",
       "    .dataframe tbody tr th:only-of-type {\n",
       "        vertical-align: middle;\n",
       "    }\n",
       "\n",
       "    .dataframe tbody tr th {\n",
       "        vertical-align: top;\n",
       "    }\n",
       "\n",
       "    .dataframe thead th {\n",
       "        text-align: right;\n",
       "    }\n",
       "</style>\n",
       "<table border=\"1\" class=\"dataframe\">\n",
       "  <thead>\n",
       "    <tr style=\"text-align: right;\">\n",
       "      <th></th>\n",
       "      <th>Participation</th>\n",
       "      <th>Composite</th>\n",
       "    </tr>\n",
       "  </thead>\n",
       "  <tbody>\n",
       "    <tr>\n",
       "      <th>count</th>\n",
       "      <td>52.000000</td>\n",
       "      <td>52.000000</td>\n",
       "    </tr>\n",
       "    <tr>\n",
       "      <th>mean</th>\n",
       "      <td>60.673077</td>\n",
       "      <td>21.544231</td>\n",
       "    </tr>\n",
       "    <tr>\n",
       "      <th>std</th>\n",
       "      <td>34.545634</td>\n",
       "      <td>2.119417</td>\n",
       "    </tr>\n",
       "    <tr>\n",
       "      <th>min</th>\n",
       "      <td>7.000000</td>\n",
       "      <td>17.700000</td>\n",
       "    </tr>\n",
       "    <tr>\n",
       "      <th>25%</th>\n",
       "      <td>27.000000</td>\n",
       "      <td>19.975000</td>\n",
       "    </tr>\n",
       "    <tr>\n",
       "      <th>50%</th>\n",
       "      <td>65.500000</td>\n",
       "      <td>21.300000</td>\n",
       "    </tr>\n",
       "    <tr>\n",
       "      <th>75%</th>\n",
       "      <td>100.000000</td>\n",
       "      <td>23.725000</td>\n",
       "    </tr>\n",
       "    <tr>\n",
       "      <th>max</th>\n",
       "      <td>100.000000</td>\n",
       "      <td>25.600000</td>\n",
       "    </tr>\n",
       "  </tbody>\n",
       "</table>\n",
       "</div>"
      ],
      "text/plain": [
       "       Participation  Composite\n",
       "count      52.000000  52.000000\n",
       "mean       60.673077  21.544231\n",
       "std        34.545634   2.119417\n",
       "min         7.000000  17.700000\n",
       "25%        27.000000  19.975000\n",
       "50%        65.500000  21.300000\n",
       "75%       100.000000  23.725000\n",
       "max       100.000000  25.600000"
      ]
     },
     "execution_count": 45,
     "metadata": {},
     "output_type": "execute_result"
    }
   ],
   "source": [
    "act18.describe()"
   ]
  },
  {
   "cell_type": "code",
   "execution_count": 46,
   "metadata": {},
   "outputs": [
    {
     "data": {
      "text/plain": [
       "State                                 0\n",
       "Participation                         0\n",
       "Evidence-Based Reading and Writing    0\n",
       "Math                                  0\n",
       "Total                                 0\n",
       "dtype: int64"
      ]
     },
     "execution_count": 46,
     "metadata": {},
     "output_type": "execute_result"
    }
   ],
   "source": [
    "sat18.isnull().sum()"
   ]
  },
  {
   "cell_type": "code",
   "execution_count": 47,
   "metadata": {},
   "outputs": [
    {
     "data": {
      "text/plain": [
       "State            0\n",
       "Participation    0\n",
       "Composite        0\n",
       "dtype: int64"
      ]
     },
     "execution_count": 47,
     "metadata": {},
     "output_type": "execute_result"
    }
   ],
   "source": [
    "act18.isnull().sum()"
   ]
  },
  {
   "cell_type": "code",
   "execution_count": 48,
   "metadata": {},
   "outputs": [
    {
     "data": {
      "text/html": [
       "<div>\n",
       "<style scoped>\n",
       "    .dataframe tbody tr th:only-of-type {\n",
       "        vertical-align: middle;\n",
       "    }\n",
       "\n",
       "    .dataframe tbody tr th {\n",
       "        vertical-align: top;\n",
       "    }\n",
       "\n",
       "    .dataframe thead th {\n",
       "        text-align: right;\n",
       "    }\n",
       "</style>\n",
       "<table border=\"1\" class=\"dataframe\">\n",
       "  <thead>\n",
       "    <tr style=\"text-align: right;\">\n",
       "      <th></th>\n",
       "      <th>State</th>\n",
       "      <th>Participation</th>\n",
       "      <th>Evidence-Based Reading and Writing</th>\n",
       "      <th>Math</th>\n",
       "      <th>Total</th>\n",
       "    </tr>\n",
       "  </thead>\n",
       "  <tbody>\n",
       "    <tr>\n",
       "      <th>0</th>\n",
       "      <td>Alabama</td>\n",
       "      <td>6.0</td>\n",
       "      <td>595</td>\n",
       "      <td>571</td>\n",
       "      <td>1166</td>\n",
       "    </tr>\n",
       "    <tr>\n",
       "      <th>1</th>\n",
       "      <td>Alaska</td>\n",
       "      <td>43.0</td>\n",
       "      <td>562</td>\n",
       "      <td>544</td>\n",
       "      <td>1106</td>\n",
       "    </tr>\n",
       "    <tr>\n",
       "      <th>2</th>\n",
       "      <td>Arizona</td>\n",
       "      <td>29.0</td>\n",
       "      <td>577</td>\n",
       "      <td>572</td>\n",
       "      <td>1149</td>\n",
       "    </tr>\n",
       "    <tr>\n",
       "      <th>3</th>\n",
       "      <td>Arkansas</td>\n",
       "      <td>5.0</td>\n",
       "      <td>592</td>\n",
       "      <td>576</td>\n",
       "      <td>1169</td>\n",
       "    </tr>\n",
       "    <tr>\n",
       "      <th>4</th>\n",
       "      <td>California</td>\n",
       "      <td>60.0</td>\n",
       "      <td>540</td>\n",
       "      <td>536</td>\n",
       "      <td>1076</td>\n",
       "    </tr>\n",
       "  </tbody>\n",
       "</table>\n",
       "</div>"
      ],
      "text/plain": [
       "        State  Participation  Evidence-Based Reading and Writing  Math  Total\n",
       "0     Alabama            6.0                                 595   571   1166\n",
       "1      Alaska           43.0                                 562   544   1106\n",
       "2     Arizona           29.0                                 577   572   1149\n",
       "3    Arkansas            5.0                                 592   576   1169\n",
       "4  California           60.0                                 540   536   1076"
      ]
     },
     "execution_count": 48,
     "metadata": {},
     "output_type": "execute_result"
    }
   ],
   "source": [
    "sat18.head()"
   ]
  },
  {
   "cell_type": "code",
   "execution_count": 49,
   "metadata": {},
   "outputs": [
    {
     "data": {
      "text/html": [
       "<div>\n",
       "<style scoped>\n",
       "    .dataframe tbody tr th:only-of-type {\n",
       "        vertical-align: middle;\n",
       "    }\n",
       "\n",
       "    .dataframe tbody tr th {\n",
       "        vertical-align: top;\n",
       "    }\n",
       "\n",
       "    .dataframe thead th {\n",
       "        text-align: right;\n",
       "    }\n",
       "</style>\n",
       "<table border=\"1\" class=\"dataframe\">\n",
       "  <thead>\n",
       "    <tr style=\"text-align: right;\">\n",
       "      <th></th>\n",
       "      <th>State</th>\n",
       "      <th>Participation</th>\n",
       "      <th>Composite</th>\n",
       "    </tr>\n",
       "  </thead>\n",
       "  <tbody>\n",
       "    <tr>\n",
       "      <th>0</th>\n",
       "      <td>Alabama</td>\n",
       "      <td>100.0</td>\n",
       "      <td>19.1</td>\n",
       "    </tr>\n",
       "    <tr>\n",
       "      <th>1</th>\n",
       "      <td>Alaska</td>\n",
       "      <td>33.0</td>\n",
       "      <td>20.8</td>\n",
       "    </tr>\n",
       "    <tr>\n",
       "      <th>2</th>\n",
       "      <td>Arizona</td>\n",
       "      <td>66.0</td>\n",
       "      <td>19.2</td>\n",
       "    </tr>\n",
       "    <tr>\n",
       "      <th>3</th>\n",
       "      <td>Arkansas</td>\n",
       "      <td>100.0</td>\n",
       "      <td>19.4</td>\n",
       "    </tr>\n",
       "    <tr>\n",
       "      <th>4</th>\n",
       "      <td>California</td>\n",
       "      <td>27.0</td>\n",
       "      <td>22.7</td>\n",
       "    </tr>\n",
       "  </tbody>\n",
       "</table>\n",
       "</div>"
      ],
      "text/plain": [
       "        State  Participation  Composite\n",
       "0     Alabama          100.0       19.1\n",
       "1      Alaska           33.0       20.8\n",
       "2     Arizona           66.0       19.2\n",
       "3    Arkansas          100.0       19.4\n",
       "4  California           27.0       22.7"
      ]
     },
     "execution_count": 49,
     "metadata": {},
     "output_type": "execute_result"
    }
   ],
   "source": [
    "act18.head()"
   ]
  },
  {
   "cell_type": "code",
   "execution_count": 50,
   "metadata": {},
   "outputs": [],
   "source": [
    "act18.drop_duplicates(keep='first',inplace=True)"
   ]
  },
  {
   "cell_type": "code",
   "execution_count": 51,
   "metadata": {},
   "outputs": [
    {
     "data": {
      "text/html": [
       "<div>\n",
       "<style scoped>\n",
       "    .dataframe tbody tr th:only-of-type {\n",
       "        vertical-align: middle;\n",
       "    }\n",
       "\n",
       "    .dataframe tbody tr th {\n",
       "        vertical-align: top;\n",
       "    }\n",
       "\n",
       "    .dataframe thead th {\n",
       "        text-align: right;\n",
       "    }\n",
       "</style>\n",
       "<table border=\"1\" class=\"dataframe\">\n",
       "  <thead>\n",
       "    <tr style=\"text-align: right;\">\n",
       "      <th></th>\n",
       "      <th>State</th>\n",
       "      <th>Participation</th>\n",
       "      <th>Composite</th>\n",
       "    </tr>\n",
       "  </thead>\n",
       "  <tbody>\n",
       "    <tr>\n",
       "      <th>0</th>\n",
       "      <td>Alabama</td>\n",
       "      <td>100.0</td>\n",
       "      <td>19.1</td>\n",
       "    </tr>\n",
       "    <tr>\n",
       "      <th>1</th>\n",
       "      <td>Alaska</td>\n",
       "      <td>33.0</td>\n",
       "      <td>20.8</td>\n",
       "    </tr>\n",
       "    <tr>\n",
       "      <th>2</th>\n",
       "      <td>Arizona</td>\n",
       "      <td>66.0</td>\n",
       "      <td>19.2</td>\n",
       "    </tr>\n",
       "    <tr>\n",
       "      <th>3</th>\n",
       "      <td>Arkansas</td>\n",
       "      <td>100.0</td>\n",
       "      <td>19.4</td>\n",
       "    </tr>\n",
       "    <tr>\n",
       "      <th>4</th>\n",
       "      <td>California</td>\n",
       "      <td>27.0</td>\n",
       "      <td>22.7</td>\n",
       "    </tr>\n",
       "  </tbody>\n",
       "</table>\n",
       "</div>"
      ],
      "text/plain": [
       "        State  Participation  Composite\n",
       "0     Alabama          100.0       19.1\n",
       "1      Alaska           33.0       20.8\n",
       "2     Arizona           66.0       19.2\n",
       "3    Arkansas          100.0       19.4\n",
       "4  California           27.0       22.7"
      ]
     },
     "execution_count": 51,
     "metadata": {},
     "output_type": "execute_result"
    }
   ],
   "source": [
    "act18.head()"
   ]
  },
  {
   "cell_type": "code",
   "execution_count": 52,
   "metadata": {},
   "outputs": [
    {
     "data": {
      "text/plain": [
       "(51, 3)"
      ]
     },
     "execution_count": 52,
     "metadata": {},
     "output_type": "execute_result"
    }
   ],
   "source": [
    "act18.shape"
   ]
  },
  {
   "cell_type": "code",
   "execution_count": 53,
   "metadata": {},
   "outputs": [
    {
     "data": {
      "text/plain": [
       "Alabama                 1\n",
       "Oregon                  1\n",
       "Hawaii                  1\n",
       "Utah                    1\n",
       "Kentucky                1\n",
       "Connecticut             1\n",
       "Texas                   1\n",
       "Kansas                  1\n",
       "Tennessee               1\n",
       "New Mexico              1\n",
       "Missouri                1\n",
       "New Hampshire           1\n",
       "North Dakota            1\n",
       "Florida                 1\n",
       "Rhode Island            1\n",
       "Wisconsin               1\n",
       "Nevada                  1\n",
       "Wyoming                 1\n",
       "Vermont                 1\n",
       "Maine                   1\n",
       "District of columbia    1\n",
       "West Virginia           1\n",
       "Massachusetts           1\n",
       "Arizona                 1\n",
       "Mississippi             1\n",
       "Ohio                    1\n",
       "Oklahoma                1\n",
       "Idaho                   1\n",
       "Georgia                 1\n",
       "Michigan                1\n",
       "Arkansas                1\n",
       "Alaska                  1\n",
       "Pennsylvania            1\n",
       "Iowa                    1\n",
       "Maryland                1\n",
       "Indiana                 1\n",
       "South Carolina          1\n",
       "Nebraska                1\n",
       "New Jersey              1\n",
       "Minnesota               1\n",
       "Virginia                1\n",
       "Louisiana               1\n",
       "Montana                 1\n",
       "South Dakota            1\n",
       "North Carolina          1\n",
       "New York                1\n",
       "Colorado                1\n",
       "Washington              1\n",
       "California              1\n",
       "Illinois                1\n",
       "Delaware                1\n",
       "Name: State, dtype: int64"
      ]
     },
     "execution_count": 53,
     "metadata": {},
     "output_type": "execute_result"
    }
   ],
   "source": [
    "act18['State'].value_counts()"
   ]
  },
  {
   "cell_type": "code",
   "execution_count": 54,
   "metadata": {},
   "outputs": [],
   "source": [
    "sat18.columns\n",
    "sat18_mapper = {\n",
    "    'State': 'State',\n",
    "    'Participation': 'sat_participation_18',\n",
    "    'Evidence-Based Reading and Writing': 'sat_rw_18',\n",
    "    'Math': 'sat_math_18',\n",
    "    'Total': 'sat_total_18'\n",
    "    }"
   ]
  },
  {
   "cell_type": "code",
   "execution_count": 55,
   "metadata": {},
   "outputs": [],
   "source": [
    "sat18.rename(columns = sat18_mapper, inplace = True)"
   ]
  },
  {
   "cell_type": "code",
   "execution_count": 56,
   "metadata": {},
   "outputs": [
    {
     "data": {
      "text/plain": [
       "Index(['State', 'sat_participation_18', 'sat_rw_18', 'sat_math_18',\n",
       "       'sat_total_18'],\n",
       "      dtype='object')"
      ]
     },
     "execution_count": 56,
     "metadata": {},
     "output_type": "execute_result"
    }
   ],
   "source": [
    "sat18.columns"
   ]
  },
  {
   "cell_type": "code",
   "execution_count": 57,
   "metadata": {},
   "outputs": [],
   "source": [
    "act18.columns\n",
    "act18_mapper = {\n",
    "    'State': 'State',\n",
    "    'Participation': 'act_participation_18',\n",
    "    'Composite': 'Composite_18'\n",
    "}"
   ]
  },
  {
   "cell_type": "code",
   "execution_count": 58,
   "metadata": {},
   "outputs": [],
   "source": [
    "act18.rename(columns = act18_mapper, inplace = True)"
   ]
  },
  {
   "cell_type": "code",
   "execution_count": 59,
   "metadata": {},
   "outputs": [
    {
     "data": {
      "text/plain": [
       "Index(['State', 'act_participation_18', 'Composite_18'], dtype='object')"
      ]
     },
     "execution_count": 59,
     "metadata": {},
     "output_type": "execute_result"
    }
   ],
   "source": [
    "act18.columns"
   ]
  },
  {
   "cell_type": "code",
   "execution_count": 60,
   "metadata": {},
   "outputs": [
    {
     "data": {
      "text/plain": [
       "(51, 3)"
      ]
     },
     "execution_count": 60,
     "metadata": {},
     "output_type": "execute_result"
    }
   ],
   "source": [
    "act18.shape"
   ]
  },
  {
   "cell_type": "code",
   "execution_count": 61,
   "metadata": {
    "scrolled": true
   },
   "outputs": [],
   "source": [
    "act18 = act18.replace(['District of columbia'],['District of Columbia'])"
   ]
  },
  {
   "cell_type": "code",
   "execution_count": 62,
   "metadata": {},
   "outputs": [
    {
     "data": {
      "text/plain": [
       "(51, 3)"
      ]
     },
     "execution_count": 62,
     "metadata": {},
     "output_type": "execute_result"
    }
   ],
   "source": [
    "act18.shape"
   ]
  },
  {
   "cell_type": "code",
   "execution_count": 63,
   "metadata": {},
   "outputs": [
    {
     "data": {
      "text/plain": [
       "(51, 5)"
      ]
     },
     "execution_count": 63,
     "metadata": {},
     "output_type": "execute_result"
    }
   ],
   "source": [
    "sat18.shape"
   ]
  },
  {
   "cell_type": "code",
   "execution_count": null,
   "metadata": {},
   "outputs": [],
   "source": []
  },
  {
   "cell_type": "markdown",
   "metadata": {},
   "source": [
    "#### Combine your 2017 and 2018 data into a single dataframe\n",
    "Joining on state names should work, assuming you formatted all your state names identically. Make sure none of your columns (other than state) have identical names. Do yourself a favor and decide if you're encoding participation rates as floats or integers and standardize this across your datasets.\n",
    "\n",
    "Save the contents of this merged dataframe as `final.csv`.\n",
    "\n",
    "**Use this combined dataframe for the remainder of the project**."
   ]
  },
  {
   "cell_type": "code",
   "execution_count": 64,
   "metadata": {},
   "outputs": [
    {
     "data": {
      "text/plain": [
       "State                      object\n",
       "sat_participation_2017    float64\n",
       "sat_rw_2017                 int64\n",
       "sat_math_2017               int64\n",
       "sat_total_2017              int64\n",
       "dtype: object"
      ]
     },
     "execution_count": 64,
     "metadata": {},
     "output_type": "execute_result"
    }
   ],
   "source": [
    "sat17.dtypes"
   ]
  },
  {
   "cell_type": "code",
   "execution_count": 65,
   "metadata": {},
   "outputs": [
    {
     "data": {
      "text/plain": [
       "State                      object\n",
       "act_participation_2017    float64\n",
       "act_eng_2017              float64\n",
       "act_math_2017             float64\n",
       "act_reading_2017          float64\n",
       "act_sci_2017              float64\n",
       "Composite_2017            float64\n",
       "dtype: object"
      ]
     },
     "execution_count": 65,
     "metadata": {},
     "output_type": "execute_result"
    }
   ],
   "source": [
    "act17.dtypes"
   ]
  },
  {
   "cell_type": "code",
   "execution_count": 66,
   "metadata": {},
   "outputs": [
    {
     "data": {
      "text/plain": [
       "State                    object\n",
       "act_participation_18    float64\n",
       "Composite_18            float64\n",
       "dtype: object"
      ]
     },
     "execution_count": 66,
     "metadata": {},
     "output_type": "execute_result"
    }
   ],
   "source": [
    "act18.dtypes"
   ]
  },
  {
   "cell_type": "code",
   "execution_count": 67,
   "metadata": {},
   "outputs": [
    {
     "data": {
      "text/plain": [
       "State                    object\n",
       "sat_participation_18    float64\n",
       "sat_rw_18                 int64\n",
       "sat_math_18               int64\n",
       "sat_total_18              int64\n",
       "dtype: object"
      ]
     },
     "execution_count": 67,
     "metadata": {},
     "output_type": "execute_result"
    }
   ],
   "source": [
    "sat18.dtypes"
   ]
  },
  {
   "cell_type": "code",
   "execution_count": 68,
   "metadata": {},
   "outputs": [
    {
     "data": {
      "text/plain": [
       "Index(['State', 'sat_participation_18', 'sat_rw_18', 'sat_math_18',\n",
       "       'sat_total_18'],\n",
       "      dtype='object')"
      ]
     },
     "execution_count": 68,
     "metadata": {},
     "output_type": "execute_result"
    }
   ],
   "source": [
    "sat18.columns"
   ]
  },
  {
   "cell_type": "code",
   "execution_count": 69,
   "metadata": {},
   "outputs": [
    {
     "data": {
      "text/plain": [
       "State                   0\n",
       "sat_participation_18    0\n",
       "sat_rw_18               0\n",
       "sat_math_18             0\n",
       "sat_total_18            0\n",
       "dtype: int64"
      ]
     },
     "execution_count": 69,
     "metadata": {},
     "output_type": "execute_result"
    }
   ],
   "source": [
    "sat18.isnull().sum()"
   ]
  },
  {
   "cell_type": "code",
   "execution_count": 70,
   "metadata": {},
   "outputs": [
    {
     "data": {
      "text/plain": [
       "State                   0\n",
       "sat_participation_18    0\n",
       "sat_rw_18               0\n",
       "sat_math_18             0\n",
       "sat_total_18            0\n",
       "dtype: int64"
      ]
     },
     "execution_count": 70,
     "metadata": {},
     "output_type": "execute_result"
    }
   ],
   "source": [
    "sat18.isnull().sum()"
   ]
  },
  {
   "cell_type": "code",
   "execution_count": 71,
   "metadata": {},
   "outputs": [],
   "source": [
    "combined_2018 = pd.merge(act18, sat18, on = 'State')"
   ]
  },
  {
   "cell_type": "code",
   "execution_count": 72,
   "metadata": {},
   "outputs": [],
   "source": [
    "combined_2017 = pd.merge(act17, sat17, on = 'State')"
   ]
  },
  {
   "cell_type": "code",
   "execution_count": 73,
   "metadata": {},
   "outputs": [
    {
     "data": {
      "text/html": [
       "<div>\n",
       "<style scoped>\n",
       "    .dataframe tbody tr th:only-of-type {\n",
       "        vertical-align: middle;\n",
       "    }\n",
       "\n",
       "    .dataframe tbody tr th {\n",
       "        vertical-align: top;\n",
       "    }\n",
       "\n",
       "    .dataframe thead th {\n",
       "        text-align: right;\n",
       "    }\n",
       "</style>\n",
       "<table border=\"1\" class=\"dataframe\">\n",
       "  <thead>\n",
       "    <tr style=\"text-align: right;\">\n",
       "      <th></th>\n",
       "      <th>State</th>\n",
       "      <th>act_participation_2017</th>\n",
       "      <th>act_eng_2017</th>\n",
       "      <th>act_math_2017</th>\n",
       "      <th>act_reading_2017</th>\n",
       "      <th>act_sci_2017</th>\n",
       "      <th>Composite_2017</th>\n",
       "      <th>sat_participation_2017</th>\n",
       "      <th>sat_rw_2017</th>\n",
       "      <th>sat_math_2017</th>\n",
       "      <th>sat_total_2017</th>\n",
       "    </tr>\n",
       "  </thead>\n",
       "  <tbody>\n",
       "    <tr>\n",
       "      <th>0</th>\n",
       "      <td>Alabama</td>\n",
       "      <td>100.0</td>\n",
       "      <td>18.9</td>\n",
       "      <td>18.4</td>\n",
       "      <td>19.7</td>\n",
       "      <td>19.4</td>\n",
       "      <td>19.0</td>\n",
       "      <td>5.0</td>\n",
       "      <td>593</td>\n",
       "      <td>572</td>\n",
       "      <td>1165</td>\n",
       "    </tr>\n",
       "    <tr>\n",
       "      <th>1</th>\n",
       "      <td>Alaska</td>\n",
       "      <td>65.0</td>\n",
       "      <td>18.7</td>\n",
       "      <td>19.8</td>\n",
       "      <td>20.4</td>\n",
       "      <td>19.9</td>\n",
       "      <td>19.0</td>\n",
       "      <td>38.0</td>\n",
       "      <td>547</td>\n",
       "      <td>533</td>\n",
       "      <td>1080</td>\n",
       "    </tr>\n",
       "    <tr>\n",
       "      <th>2</th>\n",
       "      <td>Arizona</td>\n",
       "      <td>62.0</td>\n",
       "      <td>18.6</td>\n",
       "      <td>19.8</td>\n",
       "      <td>20.1</td>\n",
       "      <td>19.8</td>\n",
       "      <td>19.0</td>\n",
       "      <td>30.0</td>\n",
       "      <td>563</td>\n",
       "      <td>553</td>\n",
       "      <td>1116</td>\n",
       "    </tr>\n",
       "    <tr>\n",
       "      <th>3</th>\n",
       "      <td>Arkansas</td>\n",
       "      <td>100.0</td>\n",
       "      <td>18.9</td>\n",
       "      <td>19.0</td>\n",
       "      <td>19.7</td>\n",
       "      <td>19.5</td>\n",
       "      <td>19.0</td>\n",
       "      <td>3.0</td>\n",
       "      <td>614</td>\n",
       "      <td>594</td>\n",
       "      <td>1208</td>\n",
       "    </tr>\n",
       "    <tr>\n",
       "      <th>4</th>\n",
       "      <td>California</td>\n",
       "      <td>31.0</td>\n",
       "      <td>22.5</td>\n",
       "      <td>22.7</td>\n",
       "      <td>23.1</td>\n",
       "      <td>22.2</td>\n",
       "      <td>22.0</td>\n",
       "      <td>53.0</td>\n",
       "      <td>531</td>\n",
       "      <td>524</td>\n",
       "      <td>1055</td>\n",
       "    </tr>\n",
       "  </tbody>\n",
       "</table>\n",
       "</div>"
      ],
      "text/plain": [
       "        State  act_participation_2017  act_eng_2017  act_math_2017  \\\n",
       "0     Alabama                   100.0          18.9           18.4   \n",
       "1      Alaska                    65.0          18.7           19.8   \n",
       "2     Arizona                    62.0          18.6           19.8   \n",
       "3    Arkansas                   100.0          18.9           19.0   \n",
       "4  California                    31.0          22.5           22.7   \n",
       "\n",
       "   act_reading_2017  act_sci_2017  Composite_2017  sat_participation_2017  \\\n",
       "0              19.7          19.4            19.0                     5.0   \n",
       "1              20.4          19.9            19.0                    38.0   \n",
       "2              20.1          19.8            19.0                    30.0   \n",
       "3              19.7          19.5            19.0                     3.0   \n",
       "4              23.1          22.2            22.0                    53.0   \n",
       "\n",
       "   sat_rw_2017  sat_math_2017  sat_total_2017  \n",
       "0          593            572            1165  \n",
       "1          547            533            1080  \n",
       "2          563            553            1116  \n",
       "3          614            594            1208  \n",
       "4          531            524            1055  "
      ]
     },
     "execution_count": 73,
     "metadata": {},
     "output_type": "execute_result"
    }
   ],
   "source": [
    "combined_2017.head()"
   ]
  },
  {
   "cell_type": "code",
   "execution_count": 74,
   "metadata": {},
   "outputs": [
    {
     "data": {
      "text/html": [
       "<div>\n",
       "<style scoped>\n",
       "    .dataframe tbody tr th:only-of-type {\n",
       "        vertical-align: middle;\n",
       "    }\n",
       "\n",
       "    .dataframe tbody tr th {\n",
       "        vertical-align: top;\n",
       "    }\n",
       "\n",
       "    .dataframe thead th {\n",
       "        text-align: right;\n",
       "    }\n",
       "</style>\n",
       "<table border=\"1\" class=\"dataframe\">\n",
       "  <thead>\n",
       "    <tr style=\"text-align: right;\">\n",
       "      <th></th>\n",
       "      <th>State</th>\n",
       "      <th>act_participation_18</th>\n",
       "      <th>Composite_18</th>\n",
       "      <th>sat_participation_18</th>\n",
       "      <th>sat_rw_18</th>\n",
       "      <th>sat_math_18</th>\n",
       "      <th>sat_total_18</th>\n",
       "    </tr>\n",
       "  </thead>\n",
       "  <tbody>\n",
       "    <tr>\n",
       "      <th>0</th>\n",
       "      <td>Alabama</td>\n",
       "      <td>100.0</td>\n",
       "      <td>19.1</td>\n",
       "      <td>6.0</td>\n",
       "      <td>595</td>\n",
       "      <td>571</td>\n",
       "      <td>1166</td>\n",
       "    </tr>\n",
       "    <tr>\n",
       "      <th>1</th>\n",
       "      <td>Alaska</td>\n",
       "      <td>33.0</td>\n",
       "      <td>20.8</td>\n",
       "      <td>43.0</td>\n",
       "      <td>562</td>\n",
       "      <td>544</td>\n",
       "      <td>1106</td>\n",
       "    </tr>\n",
       "    <tr>\n",
       "      <th>2</th>\n",
       "      <td>Arizona</td>\n",
       "      <td>66.0</td>\n",
       "      <td>19.2</td>\n",
       "      <td>29.0</td>\n",
       "      <td>577</td>\n",
       "      <td>572</td>\n",
       "      <td>1149</td>\n",
       "    </tr>\n",
       "    <tr>\n",
       "      <th>3</th>\n",
       "      <td>Arkansas</td>\n",
       "      <td>100.0</td>\n",
       "      <td>19.4</td>\n",
       "      <td>5.0</td>\n",
       "      <td>592</td>\n",
       "      <td>576</td>\n",
       "      <td>1169</td>\n",
       "    </tr>\n",
       "    <tr>\n",
       "      <th>4</th>\n",
       "      <td>California</td>\n",
       "      <td>27.0</td>\n",
       "      <td>22.7</td>\n",
       "      <td>60.0</td>\n",
       "      <td>540</td>\n",
       "      <td>536</td>\n",
       "      <td>1076</td>\n",
       "    </tr>\n",
       "  </tbody>\n",
       "</table>\n",
       "</div>"
      ],
      "text/plain": [
       "        State  act_participation_18  Composite_18  sat_participation_18  \\\n",
       "0     Alabama                 100.0          19.1                   6.0   \n",
       "1      Alaska                  33.0          20.8                  43.0   \n",
       "2     Arizona                  66.0          19.2                  29.0   \n",
       "3    Arkansas                 100.0          19.4                   5.0   \n",
       "4  California                  27.0          22.7                  60.0   \n",
       "\n",
       "   sat_rw_18  sat_math_18  sat_total_18  \n",
       "0        595          571          1166  \n",
       "1        562          544          1106  \n",
       "2        577          572          1149  \n",
       "3        592          576          1169  \n",
       "4        540          536          1076  "
      ]
     },
     "execution_count": 74,
     "metadata": {},
     "output_type": "execute_result"
    }
   ],
   "source": [
    "combined_2018.head()"
   ]
  },
  {
   "cell_type": "code",
   "execution_count": 75,
   "metadata": {},
   "outputs": [],
   "source": [
    "final = pd.merge(combined_2018, combined_2017, on = 'State')"
   ]
  },
  {
   "cell_type": "code",
   "execution_count": 76,
   "metadata": {},
   "outputs": [
    {
     "data": {
      "text/html": [
       "<div>\n",
       "<style scoped>\n",
       "    .dataframe tbody tr th:only-of-type {\n",
       "        vertical-align: middle;\n",
       "    }\n",
       "\n",
       "    .dataframe tbody tr th {\n",
       "        vertical-align: top;\n",
       "    }\n",
       "\n",
       "    .dataframe thead th {\n",
       "        text-align: right;\n",
       "    }\n",
       "</style>\n",
       "<table border=\"1\" class=\"dataframe\">\n",
       "  <thead>\n",
       "    <tr style=\"text-align: right;\">\n",
       "      <th></th>\n",
       "      <th>State</th>\n",
       "      <th>act_participation_18</th>\n",
       "      <th>Composite_18</th>\n",
       "      <th>sat_participation_18</th>\n",
       "      <th>sat_rw_18</th>\n",
       "      <th>sat_math_18</th>\n",
       "      <th>sat_total_18</th>\n",
       "      <th>act_participation_2017</th>\n",
       "      <th>act_eng_2017</th>\n",
       "      <th>act_math_2017</th>\n",
       "      <th>act_reading_2017</th>\n",
       "      <th>act_sci_2017</th>\n",
       "      <th>Composite_2017</th>\n",
       "      <th>sat_participation_2017</th>\n",
       "      <th>sat_rw_2017</th>\n",
       "      <th>sat_math_2017</th>\n",
       "      <th>sat_total_2017</th>\n",
       "    </tr>\n",
       "  </thead>\n",
       "  <tbody>\n",
       "    <tr>\n",
       "      <th>0</th>\n",
       "      <td>Alabama</td>\n",
       "      <td>100.0</td>\n",
       "      <td>19.1</td>\n",
       "      <td>6.0</td>\n",
       "      <td>595</td>\n",
       "      <td>571</td>\n",
       "      <td>1166</td>\n",
       "      <td>100.0</td>\n",
       "      <td>18.9</td>\n",
       "      <td>18.4</td>\n",
       "      <td>19.7</td>\n",
       "      <td>19.4</td>\n",
       "      <td>19.0</td>\n",
       "      <td>5.0</td>\n",
       "      <td>593</td>\n",
       "      <td>572</td>\n",
       "      <td>1165</td>\n",
       "    </tr>\n",
       "    <tr>\n",
       "      <th>1</th>\n",
       "      <td>Alaska</td>\n",
       "      <td>33.0</td>\n",
       "      <td>20.8</td>\n",
       "      <td>43.0</td>\n",
       "      <td>562</td>\n",
       "      <td>544</td>\n",
       "      <td>1106</td>\n",
       "      <td>65.0</td>\n",
       "      <td>18.7</td>\n",
       "      <td>19.8</td>\n",
       "      <td>20.4</td>\n",
       "      <td>19.9</td>\n",
       "      <td>19.0</td>\n",
       "      <td>38.0</td>\n",
       "      <td>547</td>\n",
       "      <td>533</td>\n",
       "      <td>1080</td>\n",
       "    </tr>\n",
       "    <tr>\n",
       "      <th>2</th>\n",
       "      <td>Arizona</td>\n",
       "      <td>66.0</td>\n",
       "      <td>19.2</td>\n",
       "      <td>29.0</td>\n",
       "      <td>577</td>\n",
       "      <td>572</td>\n",
       "      <td>1149</td>\n",
       "      <td>62.0</td>\n",
       "      <td>18.6</td>\n",
       "      <td>19.8</td>\n",
       "      <td>20.1</td>\n",
       "      <td>19.8</td>\n",
       "      <td>19.0</td>\n",
       "      <td>30.0</td>\n",
       "      <td>563</td>\n",
       "      <td>553</td>\n",
       "      <td>1116</td>\n",
       "    </tr>\n",
       "    <tr>\n",
       "      <th>3</th>\n",
       "      <td>Arkansas</td>\n",
       "      <td>100.0</td>\n",
       "      <td>19.4</td>\n",
       "      <td>5.0</td>\n",
       "      <td>592</td>\n",
       "      <td>576</td>\n",
       "      <td>1169</td>\n",
       "      <td>100.0</td>\n",
       "      <td>18.9</td>\n",
       "      <td>19.0</td>\n",
       "      <td>19.7</td>\n",
       "      <td>19.5</td>\n",
       "      <td>19.0</td>\n",
       "      <td>3.0</td>\n",
       "      <td>614</td>\n",
       "      <td>594</td>\n",
       "      <td>1208</td>\n",
       "    </tr>\n",
       "    <tr>\n",
       "      <th>4</th>\n",
       "      <td>California</td>\n",
       "      <td>27.0</td>\n",
       "      <td>22.7</td>\n",
       "      <td>60.0</td>\n",
       "      <td>540</td>\n",
       "      <td>536</td>\n",
       "      <td>1076</td>\n",
       "      <td>31.0</td>\n",
       "      <td>22.5</td>\n",
       "      <td>22.7</td>\n",
       "      <td>23.1</td>\n",
       "      <td>22.2</td>\n",
       "      <td>22.0</td>\n",
       "      <td>53.0</td>\n",
       "      <td>531</td>\n",
       "      <td>524</td>\n",
       "      <td>1055</td>\n",
       "    </tr>\n",
       "  </tbody>\n",
       "</table>\n",
       "</div>"
      ],
      "text/plain": [
       "        State  act_participation_18  Composite_18  sat_participation_18  \\\n",
       "0     Alabama                 100.0          19.1                   6.0   \n",
       "1      Alaska                  33.0          20.8                  43.0   \n",
       "2     Arizona                  66.0          19.2                  29.0   \n",
       "3    Arkansas                 100.0          19.4                   5.0   \n",
       "4  California                  27.0          22.7                  60.0   \n",
       "\n",
       "   sat_rw_18  sat_math_18  sat_total_18  act_participation_2017  act_eng_2017  \\\n",
       "0        595          571          1166                   100.0          18.9   \n",
       "1        562          544          1106                    65.0          18.7   \n",
       "2        577          572          1149                    62.0          18.6   \n",
       "3        592          576          1169                   100.0          18.9   \n",
       "4        540          536          1076                    31.0          22.5   \n",
       "\n",
       "   act_math_2017  act_reading_2017  act_sci_2017  Composite_2017  \\\n",
       "0           18.4              19.7          19.4            19.0   \n",
       "1           19.8              20.4          19.9            19.0   \n",
       "2           19.8              20.1          19.8            19.0   \n",
       "3           19.0              19.7          19.5            19.0   \n",
       "4           22.7              23.1          22.2            22.0   \n",
       "\n",
       "   sat_participation_2017  sat_rw_2017  sat_math_2017  sat_total_2017  \n",
       "0                     5.0          593            572            1165  \n",
       "1                    38.0          547            533            1080  \n",
       "2                    30.0          563            553            1116  \n",
       "3                     3.0          614            594            1208  \n",
       "4                    53.0          531            524            1055  "
      ]
     },
     "execution_count": 76,
     "metadata": {},
     "output_type": "execute_result"
    }
   ],
   "source": [
    "final.head()"
   ]
  },
  {
   "cell_type": "code",
   "execution_count": 77,
   "metadata": {},
   "outputs": [
    {
     "data": {
      "text/plain": [
       "'State,act_participation_18,Composite_18,sat_participation_18,sat_rw_18,sat_math_18,sat_total_18,act_participation_2017,act_eng_2017,act_math_2017,act_reading_2017,act_sci_2017,Composite_2017,sat_participation_2017,sat_rw_2017,sat_math_2017,sat_total_2017\\nAlabama,100.0,19.1,6.0,595,571,1166,100.0,18.9,18.4,19.7,19.4,19.0,5.0,593,572,1165\\nAlaska,33.0,20.8,43.0,562,544,1106,65.0,18.7,19.8,20.4,19.9,19.0,38.0,547,533,1080\\nArizona,66.0,19.2,29.0,577,572,1149,62.0,18.6,19.8,20.1,19.8,19.0,30.0,563,553,1116\\nArkansas,100.0,19.4,5.0,592,576,1169,100.0,18.9,19.0,19.7,19.5,19.0,3.0,614,594,1208\\nCalifornia,27.0,22.7,60.0,540,536,1076,31.0,22.5,22.7,23.1,22.2,22.0,53.0,531,524,1055\\nColorado,30.0,23.9,100.0,519,506,1025,100.0,20.1,20.3,21.2,20.9,20.0,11.0,606,595,1201\\nConnecticut,26.0,25.6,100.0,535,519,1053,31.0,25.5,24.6,25.6,24.6,25.0,100.0,530,512,1041\\nDelaware,17.0,23.8,100.0,505,492,998,18.0,24.1,23.4,24.8,23.6,24.0,100.0,503,492,996\\nDistrict of Columbia,32.0,23.6,92.0,497,480,977,32.0,24.4,23.5,24.9,23.5,24.0,100.0,482,468,950\\nFlorida,66.0,19.9,56.0,550,549,1099,73.0,19.0,19.4,21.0,19.4,19.0,83.0,520,497,1017\\nGeorgia,53.0,21.4,70.0,542,522,1064,55.0,21.0,20.9,22.0,21.3,21.0,61.0,535,515,1050\\nHawaii,89.0,18.9,56.0,480,530,1010,90.0,17.8,19.2,19.2,19.3,19.0,55.0,544,541,1085\\nIdaho,36.0,22.3,100.0,508,493,1001,38.0,21.9,21.8,23.0,22.1,22.0,93.0,513,493,1005\\nIllinois,43.0,23.9,99.0,513,506,1019,93.0,21.0,21.2,21.6,21.3,21.0,9.0,559,556,1115\\nIndiana,32.0,22.5,63.0,542,532,1074,35.0,22.0,22.4,23.2,22.3,22.0,63.0,542,532,1074\\nIowa,68.0,21.8,3.0,634,631,1265,67.0,21.2,21.3,22.6,22.1,21.0,2.0,641,635,1275\\nKansas,71.0,21.6,4.0,633,631,1265,73.0,21.1,21.3,22.3,21.7,21.0,4.0,632,628,1260\\nKentucky,100.0,20.2,4.0,630,618,1248,100.0,19.6,19.4,20.5,20.1,20.0,4.0,631,616,1247\\nLouisiana,100.0,19.2,4.0,615,595,1210,100.0,19.4,18.8,19.8,19.6,19.0,4.0,611,586,1198\\nMaine,7.0,24.0,99.0,512,501,1013,8.0,24.2,24.0,24.8,23.7,24.0,95.0,513,499,1012\\nMaryland,31.0,22.5,76.0,545,535,1080,28.0,23.3,23.1,24.2,2.3,23.0,69.0,536,52,1060\\nMassachusetts,25.0,25.5,80.0,562,563,1125,29.0,25.4,25.3,25.9,24.7,25.0,76.0,555,551,1107\\nMichigan,22.0,24.2,100.0,511,499,1011,29.0,24.1,23.7,24.5,23.8,24.0,100.0,509,495,1005\\nMinnesota,99.0,21.3,4.0,643,655,1298,100.0,20.4,21.5,21.8,21.6,21.0,3.0,644,651,1295\\nMississippi,100.0,18.6,3.0,630,606,1236,100.0,18.2,18.1,18.8,18.8,18.0,2.0,634,607,1242\\nMissouri,100.0,20.0,4.0,633,629,1262,100.0,19.8,19.9,20.8,20.5,20.0,3.0,640,631,1271\\nMontana,100.0,20.0,10.0,606,592,1198,100.0,19.0,20.2,21.0,20.5,20.0,10.0,605,591,1196\\nNebraska,100.0,20.1,3.0,629,623,1252,84.0,20.9,20.9,21.9,21.5,21.0,3.0,629,625,1253\\nNevada,100.0,17.7,23.0,574,566,1140,100.0,16.3,18.0,18.1,18.2,17.0,26.0,563,553,1116\\nNew Hampshire,16.0,25.1,96.0,535,528,1063,18.0,25.4,25.1,26.0,24.9,25.0,96.0,532,520,1052\\nNew Jersey,31.0,23.7,82.0,547,547,1094,34.0,23.8,23.8,24.1,23.2,23.0,70.0,530,526,1056\\nNew Mexico,67.0,19.4,16.0,552,540,1093,66.0,18.6,19.4,20.4,20.0,19.0,11.0,577,561,1138\\nNew York,27.0,24.5,79.0,534,534,1068,31.0,23.8,24.0,24.6,23.9,24.0,67.0,528,523,1052\\nNorth Carolina,100.0,19.1,52.0,554,543,1098,100.0,17.8,19.3,19.6,19.3,19.0,49.0,546,535,1081\\nNorth Dakota,98.0,20.3,2.0,640,643,1283,98.0,19.0,20.4,20.5,20.6,20.0,2.0,635,621,1256\\nOhio,100.0,20.3,18.0,552,547,1099,75.0,21.2,21.6,22.5,22.0,22.0,12.0,578,570,1149\\nOklahoma,100.0,19.3,8.0,541,521,1062,100.0,18.5,18.8,20.1,19.6,19.0,7.0,530,517,1047\\nOregon,42.0,21.3,48.0,564,553,1117,40.0,21.2,21.5,22.4,21.7,21.0,43.0,560,548,1108\\nPennsylvania,20.0,23.5,70.0,547,539,1086,23.0,23.4,23.4,24.2,23.3,23.0,65.0,540,531,1071\\nRhode Island,15.0,24.2,97.0,513,505,1018,21.0,24.0,23.3,24.7,23.4,24.0,71.0,539,524,1062\\nSouth Carolina,100.0,18.3,55.0,547,523,1070,100.0,17.5,18.6,19.1,18.9,18.0,50.0,543,521,1064\\nSouth Dakota,77.0,21.9,3.0,622,618,1240,80.0,20.7,21.5,22.3,22.0,21.0,3.0,612,603,1216\\nTennessee,100.0,19.6,6.0,624,607,1231,100.0,19.5,19.2,20.1,19.9,19.0,5.0,623,604,1228\\nTexas,45.0,20.7,66.0,520,512,1032,45.0,19.5,20.7,21.1,20.9,20.0,62.0,513,507,1020\\nUtah,100.0,20.4,4.0,480,530,1010,100.0,19.5,19.9,20.8,20.6,20.0,3.0,624,614,1238\\nVermont,24.0,24.1,64.0,565,554,1120,29.0,23.3,23.1,24.4,23.2,23.0,60.0,562,551,1114\\nVirginia,24.0,23.9,68.0,567,550,1117,29.0,23.5,23.3,24.6,23.5,23.0,65.0,561,541,1102\\nWashington,24.0,22.2,69.0,543,538,1081,29.0,20.9,21.9,22.1,22.0,21.0,64.0,541,534,1075\\nWest Virginia,65.0,20.3,28.0,513,486,999,69.0,20.0,19.4,21.2,20.5,20.0,14.0,558,528,1086\\nWisconsin,100.0,20.5,3.0,641,653,1294,100.0,19.7,20.4,20.6,20.9,20.0,3.0,642,649,1291\\nWyoming,100.0,20.0,3.0,633,625,1257,100.0,19.4,19.8,20.8,20.6,20.2,3.0,626,604,1230\\n'"
      ]
     },
     "execution_count": 77,
     "metadata": {},
     "output_type": "execute_result"
    }
   ],
   "source": [
    "final.to_csv(index=False)"
   ]
  },
  {
   "cell_type": "markdown",
   "metadata": {},
   "source": [
    "## Exploratory Data Analysis\n",
    "\n",
    "\n",
    "### Summary Statistics\n",
    "Transpose the output of pandas `describe` method to create a quick overview of each numeric feature."
   ]
  },
  {
   "cell_type": "code",
   "execution_count": 78,
   "metadata": {},
   "outputs": [
    {
     "data": {
      "text/html": [
       "<div>\n",
       "<style scoped>\n",
       "    .dataframe tbody tr th:only-of-type {\n",
       "        vertical-align: middle;\n",
       "    }\n",
       "\n",
       "    .dataframe tbody tr th {\n",
       "        vertical-align: top;\n",
       "    }\n",
       "\n",
       "    .dataframe thead th {\n",
       "        text-align: right;\n",
       "    }\n",
       "</style>\n",
       "<table border=\"1\" class=\"dataframe\">\n",
       "  <thead>\n",
       "    <tr style=\"text-align: right;\">\n",
       "      <th></th>\n",
       "      <th>act_participation_18</th>\n",
       "      <th>Composite_18</th>\n",
       "      <th>sat_participation_18</th>\n",
       "      <th>sat_rw_18</th>\n",
       "      <th>sat_math_18</th>\n",
       "      <th>sat_total_18</th>\n",
       "      <th>act_participation_2017</th>\n",
       "      <th>act_eng_2017</th>\n",
       "      <th>act_math_2017</th>\n",
       "      <th>act_reading_2017</th>\n",
       "      <th>act_sci_2017</th>\n",
       "      <th>Composite_2017</th>\n",
       "      <th>sat_participation_2017</th>\n",
       "      <th>sat_rw_2017</th>\n",
       "      <th>sat_math_2017</th>\n",
       "      <th>sat_total_2017</th>\n",
       "    </tr>\n",
       "  </thead>\n",
       "  <tbody>\n",
       "    <tr>\n",
       "      <th>count</th>\n",
       "      <td>51.000000</td>\n",
       "      <td>51.000000</td>\n",
       "      <td>51.000000</td>\n",
       "      <td>51.000000</td>\n",
       "      <td>51.000000</td>\n",
       "      <td>51.000000</td>\n",
       "      <td>51.000000</td>\n",
       "      <td>51.000000</td>\n",
       "      <td>51.000000</td>\n",
       "      <td>51.000000</td>\n",
       "      <td>51.000000</td>\n",
       "      <td>51.000000</td>\n",
       "      <td>51.000000</td>\n",
       "      <td>51.000000</td>\n",
       "      <td>51.000000</td>\n",
       "      <td>51.000000</td>\n",
       "    </tr>\n",
       "    <tr>\n",
       "      <th>mean</th>\n",
       "      <td>61.725490</td>\n",
       "      <td>21.496078</td>\n",
       "      <td>45.745098</td>\n",
       "      <td>563.686275</td>\n",
       "      <td>556.235294</td>\n",
       "      <td>1120.019608</td>\n",
       "      <td>65.254902</td>\n",
       "      <td>20.931373</td>\n",
       "      <td>21.182353</td>\n",
       "      <td>22.013725</td>\n",
       "      <td>21.041176</td>\n",
       "      <td>21.043137</td>\n",
       "      <td>39.803922</td>\n",
       "      <td>569.117647</td>\n",
       "      <td>547.627451</td>\n",
       "      <td>1126.098039</td>\n",
       "    </tr>\n",
       "    <tr>\n",
       "      <th>std</th>\n",
       "      <td>34.037085</td>\n",
       "      <td>2.111583</td>\n",
       "      <td>37.314256</td>\n",
       "      <td>47.502627</td>\n",
       "      <td>47.772623</td>\n",
       "      <td>94.155083</td>\n",
       "      <td>32.140842</td>\n",
       "      <td>2.353677</td>\n",
       "      <td>1.981989</td>\n",
       "      <td>2.067271</td>\n",
       "      <td>3.182463</td>\n",
       "      <td>2.066616</td>\n",
       "      <td>35.276632</td>\n",
       "      <td>45.666901</td>\n",
       "      <td>84.909119</td>\n",
       "      <td>92.494812</td>\n",
       "    </tr>\n",
       "    <tr>\n",
       "      <th>min</th>\n",
       "      <td>7.000000</td>\n",
       "      <td>17.700000</td>\n",
       "      <td>2.000000</td>\n",
       "      <td>480.000000</td>\n",
       "      <td>480.000000</td>\n",
       "      <td>977.000000</td>\n",
       "      <td>8.000000</td>\n",
       "      <td>16.300000</td>\n",
       "      <td>18.000000</td>\n",
       "      <td>18.100000</td>\n",
       "      <td>2.300000</td>\n",
       "      <td>17.000000</td>\n",
       "      <td>2.000000</td>\n",
       "      <td>482.000000</td>\n",
       "      <td>52.000000</td>\n",
       "      <td>950.000000</td>\n",
       "    </tr>\n",
       "    <tr>\n",
       "      <th>25%</th>\n",
       "      <td>28.500000</td>\n",
       "      <td>19.950000</td>\n",
       "      <td>4.500000</td>\n",
       "      <td>534.500000</td>\n",
       "      <td>522.500000</td>\n",
       "      <td>1057.500000</td>\n",
       "      <td>31.000000</td>\n",
       "      <td>19.000000</td>\n",
       "      <td>19.400000</td>\n",
       "      <td>20.450000</td>\n",
       "      <td>19.900000</td>\n",
       "      <td>19.000000</td>\n",
       "      <td>4.000000</td>\n",
       "      <td>533.500000</td>\n",
       "      <td>522.000000</td>\n",
       "      <td>1055.500000</td>\n",
       "    </tr>\n",
       "    <tr>\n",
       "      <th>50%</th>\n",
       "      <td>66.000000</td>\n",
       "      <td>21.300000</td>\n",
       "      <td>52.000000</td>\n",
       "      <td>552.000000</td>\n",
       "      <td>544.000000</td>\n",
       "      <td>1098.000000</td>\n",
       "      <td>69.000000</td>\n",
       "      <td>20.700000</td>\n",
       "      <td>20.900000</td>\n",
       "      <td>21.800000</td>\n",
       "      <td>21.300000</td>\n",
       "      <td>21.000000</td>\n",
       "      <td>38.000000</td>\n",
       "      <td>559.000000</td>\n",
       "      <td>548.000000</td>\n",
       "      <td>1107.000000</td>\n",
       "    </tr>\n",
       "    <tr>\n",
       "      <th>75%</th>\n",
       "      <td>100.000000</td>\n",
       "      <td>23.650000</td>\n",
       "      <td>77.500000</td>\n",
       "      <td>610.500000</td>\n",
       "      <td>593.500000</td>\n",
       "      <td>1204.000000</td>\n",
       "      <td>100.000000</td>\n",
       "      <td>23.300000</td>\n",
       "      <td>23.100000</td>\n",
       "      <td>24.150000</td>\n",
       "      <td>22.750000</td>\n",
       "      <td>23.000000</td>\n",
       "      <td>66.000000</td>\n",
       "      <td>613.000000</td>\n",
       "      <td>599.000000</td>\n",
       "      <td>1212.000000</td>\n",
       "    </tr>\n",
       "    <tr>\n",
       "      <th>max</th>\n",
       "      <td>100.000000</td>\n",
       "      <td>25.600000</td>\n",
       "      <td>100.000000</td>\n",
       "      <td>643.000000</td>\n",
       "      <td>655.000000</td>\n",
       "      <td>1298.000000</td>\n",
       "      <td>100.000000</td>\n",
       "      <td>25.500000</td>\n",
       "      <td>25.300000</td>\n",
       "      <td>26.000000</td>\n",
       "      <td>24.900000</td>\n",
       "      <td>25.000000</td>\n",
       "      <td>100.000000</td>\n",
       "      <td>644.000000</td>\n",
       "      <td>651.000000</td>\n",
       "      <td>1295.000000</td>\n",
       "    </tr>\n",
       "  </tbody>\n",
       "</table>\n",
       "</div>"
      ],
      "text/plain": [
       "       act_participation_18  Composite_18  sat_participation_18   sat_rw_18  \\\n",
       "count             51.000000     51.000000             51.000000   51.000000   \n",
       "mean              61.725490     21.496078             45.745098  563.686275   \n",
       "std               34.037085      2.111583             37.314256   47.502627   \n",
       "min                7.000000     17.700000              2.000000  480.000000   \n",
       "25%               28.500000     19.950000              4.500000  534.500000   \n",
       "50%               66.000000     21.300000             52.000000  552.000000   \n",
       "75%              100.000000     23.650000             77.500000  610.500000   \n",
       "max              100.000000     25.600000            100.000000  643.000000   \n",
       "\n",
       "       sat_math_18  sat_total_18  act_participation_2017  act_eng_2017  \\\n",
       "count    51.000000     51.000000               51.000000     51.000000   \n",
       "mean    556.235294   1120.019608               65.254902     20.931373   \n",
       "std      47.772623     94.155083               32.140842      2.353677   \n",
       "min     480.000000    977.000000                8.000000     16.300000   \n",
       "25%     522.500000   1057.500000               31.000000     19.000000   \n",
       "50%     544.000000   1098.000000               69.000000     20.700000   \n",
       "75%     593.500000   1204.000000              100.000000     23.300000   \n",
       "max     655.000000   1298.000000              100.000000     25.500000   \n",
       "\n",
       "       act_math_2017  act_reading_2017  act_sci_2017  Composite_2017  \\\n",
       "count      51.000000         51.000000     51.000000       51.000000   \n",
       "mean       21.182353         22.013725     21.041176       21.043137   \n",
       "std         1.981989          2.067271      3.182463        2.066616   \n",
       "min        18.000000         18.100000      2.300000       17.000000   \n",
       "25%        19.400000         20.450000     19.900000       19.000000   \n",
       "50%        20.900000         21.800000     21.300000       21.000000   \n",
       "75%        23.100000         24.150000     22.750000       23.000000   \n",
       "max        25.300000         26.000000     24.900000       25.000000   \n",
       "\n",
       "       sat_participation_2017  sat_rw_2017  sat_math_2017  sat_total_2017  \n",
       "count               51.000000    51.000000      51.000000       51.000000  \n",
       "mean                39.803922   569.117647     547.627451     1126.098039  \n",
       "std                 35.276632    45.666901      84.909119       92.494812  \n",
       "min                  2.000000   482.000000      52.000000      950.000000  \n",
       "25%                  4.000000   533.500000     522.000000     1055.500000  \n",
       "50%                 38.000000   559.000000     548.000000     1107.000000  \n",
       "75%                 66.000000   613.000000     599.000000     1212.000000  \n",
       "max                100.000000   644.000000     651.000000     1295.000000  "
      ]
     },
     "execution_count": 78,
     "metadata": {},
     "output_type": "execute_result"
    }
   ],
   "source": [
    "#Code:\n",
    "final.describe()"
   ]
  },
  {
   "cell_type": "markdown",
   "metadata": {},
   "source": [
    "#### Manually calculate standard deviation\n",
    "\n",
    "$$\\sigma = \\sqrt{\\frac{1}{n}\\sum_{i=1}^n(x_i - \\mu)^2}$$\n",
    "\n",
    "- Write a function to calculate standard deviation using the formula above"
   ]
  },
  {
   "cell_type": "code",
   "execution_count": 79,
   "metadata": {},
   "outputs": [],
   "source": [
    "def standev(n):\n",
    "    mu = (sum(n)/len(n))\n",
    "    v = [(x - mu)**2 for x in n]\n",
    "    squared_diff = (sum(v)/len(n))\n",
    "    final_calc = squared_diff ** 0.5\n",
    "# for x in n:\n",
    "#     nums = (mu - x) ** 2\n",
    "#     z = (x - np.mean(n)) ** 2\n",
    "#     for c in z:\n",
    "#         total = sum(z) \n",
    "\n",
    "#         a = sum(z)/len(z)\n",
    "#     b = a ** 2\n",
    "    return final_calc"
   ]
  },
  {
   "cell_type": "markdown",
   "metadata": {},
   "source": [
    "- Use a **dictionary comprehension** to apply your standard deviation function to each numeric column in the dataframe.  **No loops**  \n",
    "- Assign the output to variable `sd` as a dictionary where: \n",
    "    - Each column name is now a key \n",
    "    - That standard deviation of the column is the value \n",
    "     \n",
    "*Example Output :* `{'ACT_Math': 120, 'ACT_Reading': 120, ...}`"
   ]
  },
  {
   "cell_type": "code",
   "execution_count": 80,
   "metadata": {},
   "outputs": [
    {
     "data": {
      "text/plain": [
       "State                      object\n",
       "act_participation_18      float64\n",
       "Composite_18              float64\n",
       "sat_participation_18      float64\n",
       "sat_rw_18                   int64\n",
       "sat_math_18                 int64\n",
       "sat_total_18                int64\n",
       "act_participation_2017    float64\n",
       "act_eng_2017              float64\n",
       "act_math_2017             float64\n",
       "act_reading_2017          float64\n",
       "act_sci_2017              float64\n",
       "Composite_2017            float64\n",
       "sat_participation_2017    float64\n",
       "sat_rw_2017                 int64\n",
       "sat_math_2017               int64\n",
       "sat_total_2017              int64\n",
       "dtype: object"
      ]
     },
     "execution_count": 80,
     "metadata": {},
     "output_type": "execute_result"
    }
   ],
   "source": [
    "final.dtypes"
   ]
  },
  {
   "cell_type": "code",
   "execution_count": 81,
   "metadata": {},
   "outputs": [
    {
     "data": {
      "text/html": [
       "<div>\n",
       "<style scoped>\n",
       "    .dataframe tbody tr th:only-of-type {\n",
       "        vertical-align: middle;\n",
       "    }\n",
       "\n",
       "    .dataframe tbody tr th {\n",
       "        vertical-align: top;\n",
       "    }\n",
       "\n",
       "    .dataframe thead th {\n",
       "        text-align: right;\n",
       "    }\n",
       "</style>\n",
       "<table border=\"1\" class=\"dataframe\">\n",
       "  <thead>\n",
       "    <tr style=\"text-align: right;\">\n",
       "      <th></th>\n",
       "      <th>act_participation_18</th>\n",
       "      <th>Composite_18</th>\n",
       "      <th>sat_participation_18</th>\n",
       "      <th>sat_rw_18</th>\n",
       "      <th>sat_math_18</th>\n",
       "      <th>sat_total_18</th>\n",
       "      <th>act_participation_2017</th>\n",
       "      <th>act_eng_2017</th>\n",
       "      <th>act_math_2017</th>\n",
       "      <th>act_reading_2017</th>\n",
       "      <th>act_sci_2017</th>\n",
       "      <th>Composite_2017</th>\n",
       "      <th>sat_participation_2017</th>\n",
       "      <th>sat_rw_2017</th>\n",
       "      <th>sat_math_2017</th>\n",
       "      <th>sat_total_2017</th>\n",
       "    </tr>\n",
       "  </thead>\n",
       "  <tbody>\n",
       "    <tr>\n",
       "      <th>0</th>\n",
       "      <td>100.0</td>\n",
       "      <td>19.1</td>\n",
       "      <td>6.0</td>\n",
       "      <td>595</td>\n",
       "      <td>571</td>\n",
       "      <td>1166</td>\n",
       "      <td>100.0</td>\n",
       "      <td>18.9</td>\n",
       "      <td>18.4</td>\n",
       "      <td>19.7</td>\n",
       "      <td>19.4</td>\n",
       "      <td>19.0</td>\n",
       "      <td>5.0</td>\n",
       "      <td>593</td>\n",
       "      <td>572</td>\n",
       "      <td>1165</td>\n",
       "    </tr>\n",
       "    <tr>\n",
       "      <th>1</th>\n",
       "      <td>33.0</td>\n",
       "      <td>20.8</td>\n",
       "      <td>43.0</td>\n",
       "      <td>562</td>\n",
       "      <td>544</td>\n",
       "      <td>1106</td>\n",
       "      <td>65.0</td>\n",
       "      <td>18.7</td>\n",
       "      <td>19.8</td>\n",
       "      <td>20.4</td>\n",
       "      <td>19.9</td>\n",
       "      <td>19.0</td>\n",
       "      <td>38.0</td>\n",
       "      <td>547</td>\n",
       "      <td>533</td>\n",
       "      <td>1080</td>\n",
       "    </tr>\n",
       "    <tr>\n",
       "      <th>2</th>\n",
       "      <td>66.0</td>\n",
       "      <td>19.2</td>\n",
       "      <td>29.0</td>\n",
       "      <td>577</td>\n",
       "      <td>572</td>\n",
       "      <td>1149</td>\n",
       "      <td>62.0</td>\n",
       "      <td>18.6</td>\n",
       "      <td>19.8</td>\n",
       "      <td>20.1</td>\n",
       "      <td>19.8</td>\n",
       "      <td>19.0</td>\n",
       "      <td>30.0</td>\n",
       "      <td>563</td>\n",
       "      <td>553</td>\n",
       "      <td>1116</td>\n",
       "    </tr>\n",
       "    <tr>\n",
       "      <th>3</th>\n",
       "      <td>100.0</td>\n",
       "      <td>19.4</td>\n",
       "      <td>5.0</td>\n",
       "      <td>592</td>\n",
       "      <td>576</td>\n",
       "      <td>1169</td>\n",
       "      <td>100.0</td>\n",
       "      <td>18.9</td>\n",
       "      <td>19.0</td>\n",
       "      <td>19.7</td>\n",
       "      <td>19.5</td>\n",
       "      <td>19.0</td>\n",
       "      <td>3.0</td>\n",
       "      <td>614</td>\n",
       "      <td>594</td>\n",
       "      <td>1208</td>\n",
       "    </tr>\n",
       "    <tr>\n",
       "      <th>4</th>\n",
       "      <td>27.0</td>\n",
       "      <td>22.7</td>\n",
       "      <td>60.0</td>\n",
       "      <td>540</td>\n",
       "      <td>536</td>\n",
       "      <td>1076</td>\n",
       "      <td>31.0</td>\n",
       "      <td>22.5</td>\n",
       "      <td>22.7</td>\n",
       "      <td>23.1</td>\n",
       "      <td>22.2</td>\n",
       "      <td>22.0</td>\n",
       "      <td>53.0</td>\n",
       "      <td>531</td>\n",
       "      <td>524</td>\n",
       "      <td>1055</td>\n",
       "    </tr>\n",
       "  </tbody>\n",
       "</table>\n",
       "</div>"
      ],
      "text/plain": [
       "   act_participation_18  Composite_18  sat_participation_18  sat_rw_18  \\\n",
       "0                 100.0          19.1                   6.0        595   \n",
       "1                  33.0          20.8                  43.0        562   \n",
       "2                  66.0          19.2                  29.0        577   \n",
       "3                 100.0          19.4                   5.0        592   \n",
       "4                  27.0          22.7                  60.0        540   \n",
       "\n",
       "   sat_math_18  sat_total_18  act_participation_2017  act_eng_2017  \\\n",
       "0          571          1166                   100.0          18.9   \n",
       "1          544          1106                    65.0          18.7   \n",
       "2          572          1149                    62.0          18.6   \n",
       "3          576          1169                   100.0          18.9   \n",
       "4          536          1076                    31.0          22.5   \n",
       "\n",
       "   act_math_2017  act_reading_2017  act_sci_2017  Composite_2017  \\\n",
       "0           18.4              19.7          19.4            19.0   \n",
       "1           19.8              20.4          19.9            19.0   \n",
       "2           19.8              20.1          19.8            19.0   \n",
       "3           19.0              19.7          19.5            19.0   \n",
       "4           22.7              23.1          22.2            22.0   \n",
       "\n",
       "   sat_participation_2017  sat_rw_2017  sat_math_2017  sat_total_2017  \n",
       "0                     5.0          593            572            1165  \n",
       "1                    38.0          547            533            1080  \n",
       "2                    30.0          563            553            1116  \n",
       "3                     3.0          614            594            1208  \n",
       "4                    53.0          531            524            1055  "
      ]
     },
     "execution_count": 81,
     "metadata": {},
     "output_type": "execute_result"
    }
   ],
   "source": [
    "final.select_dtypes(exclude='object').head()"
   ]
  },
  {
   "cell_type": "code",
   "execution_count": 82,
   "metadata": {},
   "outputs": [],
   "source": [
    "numerics = final.select_dtypes(exclude='object')"
   ]
  },
  {
   "cell_type": "code",
   "execution_count": 83,
   "metadata": {},
   "outputs": [],
   "source": [
    "#Code:\n",
    "sd = {x: numerics.apply(standev) for x in numerics}"
   ]
  },
  {
   "cell_type": "code",
   "execution_count": 84,
   "metadata": {},
   "outputs": [
    {
     "data": {
      "text/plain": [
       "{'act_participation_18': act_participation_18      33.701736\n",
       " Composite_18               2.090779\n",
       " sat_participation_18      36.946619\n",
       " sat_rw_18                 47.034610\n",
       " sat_math_18               47.301946\n",
       " sat_total_18              93.227424\n",
       " act_participation_2017    31.824176\n",
       " act_eng_2017               2.330488\n",
       " act_math_2017              1.962462\n",
       " act_reading_2017           2.046903\n",
       " act_sci_2017               3.151108\n",
       " Composite_2017             2.046255\n",
       " sat_participation_2017    34.929071\n",
       " sat_rw_2017               45.216970\n",
       " sat_math_2017             84.072555\n",
       " sat_total_2017            91.583511\n",
       " dtype: float64, 'Composite_18': act_participation_18      33.701736\n",
       " Composite_18               2.090779\n",
       " sat_participation_18      36.946619\n",
       " sat_rw_18                 47.034610\n",
       " sat_math_18               47.301946\n",
       " sat_total_18              93.227424\n",
       " act_participation_2017    31.824176\n",
       " act_eng_2017               2.330488\n",
       " act_math_2017              1.962462\n",
       " act_reading_2017           2.046903\n",
       " act_sci_2017               3.151108\n",
       " Composite_2017             2.046255\n",
       " sat_participation_2017    34.929071\n",
       " sat_rw_2017               45.216970\n",
       " sat_math_2017             84.072555\n",
       " sat_total_2017            91.583511\n",
       " dtype: float64, 'sat_participation_18': act_participation_18      33.701736\n",
       " Composite_18               2.090779\n",
       " sat_participation_18      36.946619\n",
       " sat_rw_18                 47.034610\n",
       " sat_math_18               47.301946\n",
       " sat_total_18              93.227424\n",
       " act_participation_2017    31.824176\n",
       " act_eng_2017               2.330488\n",
       " act_math_2017              1.962462\n",
       " act_reading_2017           2.046903\n",
       " act_sci_2017               3.151108\n",
       " Composite_2017             2.046255\n",
       " sat_participation_2017    34.929071\n",
       " sat_rw_2017               45.216970\n",
       " sat_math_2017             84.072555\n",
       " sat_total_2017            91.583511\n",
       " dtype: float64, 'sat_rw_18': act_participation_18      33.701736\n",
       " Composite_18               2.090779\n",
       " sat_participation_18      36.946619\n",
       " sat_rw_18                 47.034610\n",
       " sat_math_18               47.301946\n",
       " sat_total_18              93.227424\n",
       " act_participation_2017    31.824176\n",
       " act_eng_2017               2.330488\n",
       " act_math_2017              1.962462\n",
       " act_reading_2017           2.046903\n",
       " act_sci_2017               3.151108\n",
       " Composite_2017             2.046255\n",
       " sat_participation_2017    34.929071\n",
       " sat_rw_2017               45.216970\n",
       " sat_math_2017             84.072555\n",
       " sat_total_2017            91.583511\n",
       " dtype: float64, 'sat_math_18': act_participation_18      33.701736\n",
       " Composite_18               2.090779\n",
       " sat_participation_18      36.946619\n",
       " sat_rw_18                 47.034610\n",
       " sat_math_18               47.301946\n",
       " sat_total_18              93.227424\n",
       " act_participation_2017    31.824176\n",
       " act_eng_2017               2.330488\n",
       " act_math_2017              1.962462\n",
       " act_reading_2017           2.046903\n",
       " act_sci_2017               3.151108\n",
       " Composite_2017             2.046255\n",
       " sat_participation_2017    34.929071\n",
       " sat_rw_2017               45.216970\n",
       " sat_math_2017             84.072555\n",
       " sat_total_2017            91.583511\n",
       " dtype: float64, 'sat_total_18': act_participation_18      33.701736\n",
       " Composite_18               2.090779\n",
       " sat_participation_18      36.946619\n",
       " sat_rw_18                 47.034610\n",
       " sat_math_18               47.301946\n",
       " sat_total_18              93.227424\n",
       " act_participation_2017    31.824176\n",
       " act_eng_2017               2.330488\n",
       " act_math_2017              1.962462\n",
       " act_reading_2017           2.046903\n",
       " act_sci_2017               3.151108\n",
       " Composite_2017             2.046255\n",
       " sat_participation_2017    34.929071\n",
       " sat_rw_2017               45.216970\n",
       " sat_math_2017             84.072555\n",
       " sat_total_2017            91.583511\n",
       " dtype: float64, 'act_participation_2017': act_participation_18      33.701736\n",
       " Composite_18               2.090779\n",
       " sat_participation_18      36.946619\n",
       " sat_rw_18                 47.034610\n",
       " sat_math_18               47.301946\n",
       " sat_total_18              93.227424\n",
       " act_participation_2017    31.824176\n",
       " act_eng_2017               2.330488\n",
       " act_math_2017              1.962462\n",
       " act_reading_2017           2.046903\n",
       " act_sci_2017               3.151108\n",
       " Composite_2017             2.046255\n",
       " sat_participation_2017    34.929071\n",
       " sat_rw_2017               45.216970\n",
       " sat_math_2017             84.072555\n",
       " sat_total_2017            91.583511\n",
       " dtype: float64, 'act_eng_2017': act_participation_18      33.701736\n",
       " Composite_18               2.090779\n",
       " sat_participation_18      36.946619\n",
       " sat_rw_18                 47.034610\n",
       " sat_math_18               47.301946\n",
       " sat_total_18              93.227424\n",
       " act_participation_2017    31.824176\n",
       " act_eng_2017               2.330488\n",
       " act_math_2017              1.962462\n",
       " act_reading_2017           2.046903\n",
       " act_sci_2017               3.151108\n",
       " Composite_2017             2.046255\n",
       " sat_participation_2017    34.929071\n",
       " sat_rw_2017               45.216970\n",
       " sat_math_2017             84.072555\n",
       " sat_total_2017            91.583511\n",
       " dtype: float64, 'act_math_2017': act_participation_18      33.701736\n",
       " Composite_18               2.090779\n",
       " sat_participation_18      36.946619\n",
       " sat_rw_18                 47.034610\n",
       " sat_math_18               47.301946\n",
       " sat_total_18              93.227424\n",
       " act_participation_2017    31.824176\n",
       " act_eng_2017               2.330488\n",
       " act_math_2017              1.962462\n",
       " act_reading_2017           2.046903\n",
       " act_sci_2017               3.151108\n",
       " Composite_2017             2.046255\n",
       " sat_participation_2017    34.929071\n",
       " sat_rw_2017               45.216970\n",
       " sat_math_2017             84.072555\n",
       " sat_total_2017            91.583511\n",
       " dtype: float64, 'act_reading_2017': act_participation_18      33.701736\n",
       " Composite_18               2.090779\n",
       " sat_participation_18      36.946619\n",
       " sat_rw_18                 47.034610\n",
       " sat_math_18               47.301946\n",
       " sat_total_18              93.227424\n",
       " act_participation_2017    31.824176\n",
       " act_eng_2017               2.330488\n",
       " act_math_2017              1.962462\n",
       " act_reading_2017           2.046903\n",
       " act_sci_2017               3.151108\n",
       " Composite_2017             2.046255\n",
       " sat_participation_2017    34.929071\n",
       " sat_rw_2017               45.216970\n",
       " sat_math_2017             84.072555\n",
       " sat_total_2017            91.583511\n",
       " dtype: float64, 'act_sci_2017': act_participation_18      33.701736\n",
       " Composite_18               2.090779\n",
       " sat_participation_18      36.946619\n",
       " sat_rw_18                 47.034610\n",
       " sat_math_18               47.301946\n",
       " sat_total_18              93.227424\n",
       " act_participation_2017    31.824176\n",
       " act_eng_2017               2.330488\n",
       " act_math_2017              1.962462\n",
       " act_reading_2017           2.046903\n",
       " act_sci_2017               3.151108\n",
       " Composite_2017             2.046255\n",
       " sat_participation_2017    34.929071\n",
       " sat_rw_2017               45.216970\n",
       " sat_math_2017             84.072555\n",
       " sat_total_2017            91.583511\n",
       " dtype: float64, 'Composite_2017': act_participation_18      33.701736\n",
       " Composite_18               2.090779\n",
       " sat_participation_18      36.946619\n",
       " sat_rw_18                 47.034610\n",
       " sat_math_18               47.301946\n",
       " sat_total_18              93.227424\n",
       " act_participation_2017    31.824176\n",
       " act_eng_2017               2.330488\n",
       " act_math_2017              1.962462\n",
       " act_reading_2017           2.046903\n",
       " act_sci_2017               3.151108\n",
       " Composite_2017             2.046255\n",
       " sat_participation_2017    34.929071\n",
       " sat_rw_2017               45.216970\n",
       " sat_math_2017             84.072555\n",
       " sat_total_2017            91.583511\n",
       " dtype: float64, 'sat_participation_2017': act_participation_18      33.701736\n",
       " Composite_18               2.090779\n",
       " sat_participation_18      36.946619\n",
       " sat_rw_18                 47.034610\n",
       " sat_math_18               47.301946\n",
       " sat_total_18              93.227424\n",
       " act_participation_2017    31.824176\n",
       " act_eng_2017               2.330488\n",
       " act_math_2017              1.962462\n",
       " act_reading_2017           2.046903\n",
       " act_sci_2017               3.151108\n",
       " Composite_2017             2.046255\n",
       " sat_participation_2017    34.929071\n",
       " sat_rw_2017               45.216970\n",
       " sat_math_2017             84.072555\n",
       " sat_total_2017            91.583511\n",
       " dtype: float64, 'sat_rw_2017': act_participation_18      33.701736\n",
       " Composite_18               2.090779\n",
       " sat_participation_18      36.946619\n",
       " sat_rw_18                 47.034610\n",
       " sat_math_18               47.301946\n",
       " sat_total_18              93.227424\n",
       " act_participation_2017    31.824176\n",
       " act_eng_2017               2.330488\n",
       " act_math_2017              1.962462\n",
       " act_reading_2017           2.046903\n",
       " act_sci_2017               3.151108\n",
       " Composite_2017             2.046255\n",
       " sat_participation_2017    34.929071\n",
       " sat_rw_2017               45.216970\n",
       " sat_math_2017             84.072555\n",
       " sat_total_2017            91.583511\n",
       " dtype: float64, 'sat_math_2017': act_participation_18      33.701736\n",
       " Composite_18               2.090779\n",
       " sat_participation_18      36.946619\n",
       " sat_rw_18                 47.034610\n",
       " sat_math_18               47.301946\n",
       " sat_total_18              93.227424\n",
       " act_participation_2017    31.824176\n",
       " act_eng_2017               2.330488\n",
       " act_math_2017              1.962462\n",
       " act_reading_2017           2.046903\n",
       " act_sci_2017               3.151108\n",
       " Composite_2017             2.046255\n",
       " sat_participation_2017    34.929071\n",
       " sat_rw_2017               45.216970\n",
       " sat_math_2017             84.072555\n",
       " sat_total_2017            91.583511\n",
       " dtype: float64, 'sat_total_2017': act_participation_18      33.701736\n",
       " Composite_18               2.090779\n",
       " sat_participation_18      36.946619\n",
       " sat_rw_18                 47.034610\n",
       " sat_math_18               47.301946\n",
       " sat_total_18              93.227424\n",
       " act_participation_2017    31.824176\n",
       " act_eng_2017               2.330488\n",
       " act_math_2017              1.962462\n",
       " act_reading_2017           2.046903\n",
       " act_sci_2017               3.151108\n",
       " Composite_2017             2.046255\n",
       " sat_participation_2017    34.929071\n",
       " sat_rw_2017               45.216970\n",
       " sat_math_2017             84.072555\n",
       " sat_total_2017            91.583511\n",
       " dtype: float64}"
      ]
     },
     "execution_count": 84,
     "metadata": {},
     "output_type": "execute_result"
    }
   ],
   "source": [
    "sd"
   ]
  },
  {
   "cell_type": "markdown",
   "metadata": {},
   "source": [
    "Do your manually calculated standard deviations match up with the output from pandas `describe`? What about numpy's `std` method?"
   ]
  },
  {
   "cell_type": "code",
   "execution_count": 85,
   "metadata": {},
   "outputs": [
    {
     "data": {
      "text/html": [
       "<div>\n",
       "<style scoped>\n",
       "    .dataframe tbody tr th:only-of-type {\n",
       "        vertical-align: middle;\n",
       "    }\n",
       "\n",
       "    .dataframe tbody tr th {\n",
       "        vertical-align: top;\n",
       "    }\n",
       "\n",
       "    .dataframe thead th {\n",
       "        text-align: right;\n",
       "    }\n",
       "</style>\n",
       "<table border=\"1\" class=\"dataframe\">\n",
       "  <thead>\n",
       "    <tr style=\"text-align: right;\">\n",
       "      <th></th>\n",
       "      <th>act_participation_18</th>\n",
       "      <th>Composite_18</th>\n",
       "      <th>sat_participation_18</th>\n",
       "      <th>sat_rw_18</th>\n",
       "      <th>sat_math_18</th>\n",
       "      <th>sat_total_18</th>\n",
       "      <th>act_participation_2017</th>\n",
       "      <th>act_eng_2017</th>\n",
       "      <th>act_math_2017</th>\n",
       "      <th>act_reading_2017</th>\n",
       "      <th>act_sci_2017</th>\n",
       "      <th>Composite_2017</th>\n",
       "      <th>sat_participation_2017</th>\n",
       "      <th>sat_rw_2017</th>\n",
       "      <th>sat_math_2017</th>\n",
       "      <th>sat_total_2017</th>\n",
       "    </tr>\n",
       "  </thead>\n",
       "  <tbody>\n",
       "    <tr>\n",
       "      <th>count</th>\n",
       "      <td>51.000000</td>\n",
       "      <td>51.000000</td>\n",
       "      <td>51.000000</td>\n",
       "      <td>51.000000</td>\n",
       "      <td>51.000000</td>\n",
       "      <td>51.000000</td>\n",
       "      <td>51.000000</td>\n",
       "      <td>51.000000</td>\n",
       "      <td>51.000000</td>\n",
       "      <td>51.000000</td>\n",
       "      <td>51.000000</td>\n",
       "      <td>51.000000</td>\n",
       "      <td>51.000000</td>\n",
       "      <td>51.000000</td>\n",
       "      <td>51.000000</td>\n",
       "      <td>51.000000</td>\n",
       "    </tr>\n",
       "    <tr>\n",
       "      <th>mean</th>\n",
       "      <td>61.725490</td>\n",
       "      <td>21.496078</td>\n",
       "      <td>45.745098</td>\n",
       "      <td>563.686275</td>\n",
       "      <td>556.235294</td>\n",
       "      <td>1120.019608</td>\n",
       "      <td>65.254902</td>\n",
       "      <td>20.931373</td>\n",
       "      <td>21.182353</td>\n",
       "      <td>22.013725</td>\n",
       "      <td>21.041176</td>\n",
       "      <td>21.043137</td>\n",
       "      <td>39.803922</td>\n",
       "      <td>569.117647</td>\n",
       "      <td>547.627451</td>\n",
       "      <td>1126.098039</td>\n",
       "    </tr>\n",
       "    <tr>\n",
       "      <th>std</th>\n",
       "      <td>34.037085</td>\n",
       "      <td>2.111583</td>\n",
       "      <td>37.314256</td>\n",
       "      <td>47.502627</td>\n",
       "      <td>47.772623</td>\n",
       "      <td>94.155083</td>\n",
       "      <td>32.140842</td>\n",
       "      <td>2.353677</td>\n",
       "      <td>1.981989</td>\n",
       "      <td>2.067271</td>\n",
       "      <td>3.182463</td>\n",
       "      <td>2.066616</td>\n",
       "      <td>35.276632</td>\n",
       "      <td>45.666901</td>\n",
       "      <td>84.909119</td>\n",
       "      <td>92.494812</td>\n",
       "    </tr>\n",
       "    <tr>\n",
       "      <th>min</th>\n",
       "      <td>7.000000</td>\n",
       "      <td>17.700000</td>\n",
       "      <td>2.000000</td>\n",
       "      <td>480.000000</td>\n",
       "      <td>480.000000</td>\n",
       "      <td>977.000000</td>\n",
       "      <td>8.000000</td>\n",
       "      <td>16.300000</td>\n",
       "      <td>18.000000</td>\n",
       "      <td>18.100000</td>\n",
       "      <td>2.300000</td>\n",
       "      <td>17.000000</td>\n",
       "      <td>2.000000</td>\n",
       "      <td>482.000000</td>\n",
       "      <td>52.000000</td>\n",
       "      <td>950.000000</td>\n",
       "    </tr>\n",
       "    <tr>\n",
       "      <th>25%</th>\n",
       "      <td>28.500000</td>\n",
       "      <td>19.950000</td>\n",
       "      <td>4.500000</td>\n",
       "      <td>534.500000</td>\n",
       "      <td>522.500000</td>\n",
       "      <td>1057.500000</td>\n",
       "      <td>31.000000</td>\n",
       "      <td>19.000000</td>\n",
       "      <td>19.400000</td>\n",
       "      <td>20.450000</td>\n",
       "      <td>19.900000</td>\n",
       "      <td>19.000000</td>\n",
       "      <td>4.000000</td>\n",
       "      <td>533.500000</td>\n",
       "      <td>522.000000</td>\n",
       "      <td>1055.500000</td>\n",
       "    </tr>\n",
       "    <tr>\n",
       "      <th>50%</th>\n",
       "      <td>66.000000</td>\n",
       "      <td>21.300000</td>\n",
       "      <td>52.000000</td>\n",
       "      <td>552.000000</td>\n",
       "      <td>544.000000</td>\n",
       "      <td>1098.000000</td>\n",
       "      <td>69.000000</td>\n",
       "      <td>20.700000</td>\n",
       "      <td>20.900000</td>\n",
       "      <td>21.800000</td>\n",
       "      <td>21.300000</td>\n",
       "      <td>21.000000</td>\n",
       "      <td>38.000000</td>\n",
       "      <td>559.000000</td>\n",
       "      <td>548.000000</td>\n",
       "      <td>1107.000000</td>\n",
       "    </tr>\n",
       "    <tr>\n",
       "      <th>75%</th>\n",
       "      <td>100.000000</td>\n",
       "      <td>23.650000</td>\n",
       "      <td>77.500000</td>\n",
       "      <td>610.500000</td>\n",
       "      <td>593.500000</td>\n",
       "      <td>1204.000000</td>\n",
       "      <td>100.000000</td>\n",
       "      <td>23.300000</td>\n",
       "      <td>23.100000</td>\n",
       "      <td>24.150000</td>\n",
       "      <td>22.750000</td>\n",
       "      <td>23.000000</td>\n",
       "      <td>66.000000</td>\n",
       "      <td>613.000000</td>\n",
       "      <td>599.000000</td>\n",
       "      <td>1212.000000</td>\n",
       "    </tr>\n",
       "    <tr>\n",
       "      <th>max</th>\n",
       "      <td>100.000000</td>\n",
       "      <td>25.600000</td>\n",
       "      <td>100.000000</td>\n",
       "      <td>643.000000</td>\n",
       "      <td>655.000000</td>\n",
       "      <td>1298.000000</td>\n",
       "      <td>100.000000</td>\n",
       "      <td>25.500000</td>\n",
       "      <td>25.300000</td>\n",
       "      <td>26.000000</td>\n",
       "      <td>24.900000</td>\n",
       "      <td>25.000000</td>\n",
       "      <td>100.000000</td>\n",
       "      <td>644.000000</td>\n",
       "      <td>651.000000</td>\n",
       "      <td>1295.000000</td>\n",
       "    </tr>\n",
       "  </tbody>\n",
       "</table>\n",
       "</div>"
      ],
      "text/plain": [
       "       act_participation_18  Composite_18  sat_participation_18   sat_rw_18  \\\n",
       "count             51.000000     51.000000             51.000000   51.000000   \n",
       "mean              61.725490     21.496078             45.745098  563.686275   \n",
       "std               34.037085      2.111583             37.314256   47.502627   \n",
       "min                7.000000     17.700000              2.000000  480.000000   \n",
       "25%               28.500000     19.950000              4.500000  534.500000   \n",
       "50%               66.000000     21.300000             52.000000  552.000000   \n",
       "75%              100.000000     23.650000             77.500000  610.500000   \n",
       "max              100.000000     25.600000            100.000000  643.000000   \n",
       "\n",
       "       sat_math_18  sat_total_18  act_participation_2017  act_eng_2017  \\\n",
       "count    51.000000     51.000000               51.000000     51.000000   \n",
       "mean    556.235294   1120.019608               65.254902     20.931373   \n",
       "std      47.772623     94.155083               32.140842      2.353677   \n",
       "min     480.000000    977.000000                8.000000     16.300000   \n",
       "25%     522.500000   1057.500000               31.000000     19.000000   \n",
       "50%     544.000000   1098.000000               69.000000     20.700000   \n",
       "75%     593.500000   1204.000000              100.000000     23.300000   \n",
       "max     655.000000   1298.000000              100.000000     25.500000   \n",
       "\n",
       "       act_math_2017  act_reading_2017  act_sci_2017  Composite_2017  \\\n",
       "count      51.000000         51.000000     51.000000       51.000000   \n",
       "mean       21.182353         22.013725     21.041176       21.043137   \n",
       "std         1.981989          2.067271      3.182463        2.066616   \n",
       "min        18.000000         18.100000      2.300000       17.000000   \n",
       "25%        19.400000         20.450000     19.900000       19.000000   \n",
       "50%        20.900000         21.800000     21.300000       21.000000   \n",
       "75%        23.100000         24.150000     22.750000       23.000000   \n",
       "max        25.300000         26.000000     24.900000       25.000000   \n",
       "\n",
       "       sat_participation_2017  sat_rw_2017  sat_math_2017  sat_total_2017  \n",
       "count               51.000000    51.000000      51.000000       51.000000  \n",
       "mean                39.803922   569.117647     547.627451     1126.098039  \n",
       "std                 35.276632    45.666901      84.909119       92.494812  \n",
       "min                  2.000000   482.000000      52.000000      950.000000  \n",
       "25%                  4.000000   533.500000     522.000000     1055.500000  \n",
       "50%                 38.000000   559.000000     548.000000     1107.000000  \n",
       "75%                 66.000000   613.000000     599.000000     1212.000000  \n",
       "max                100.000000   644.000000     651.000000     1295.000000  "
      ]
     },
     "execution_count": 85,
     "metadata": {},
     "output_type": "execute_result"
    }
   ],
   "source": [
    "final.describe()"
   ]
  },
  {
   "cell_type": "code",
   "execution_count": 86,
   "metadata": {},
   "outputs": [
    {
     "data": {
      "text/plain": [
       "act_participation_18      34.037085\n",
       "Composite_18               2.111583\n",
       "sat_participation_18      37.314256\n",
       "sat_rw_18                 47.502627\n",
       "sat_math_18               47.772623\n",
       "sat_total_18              94.155083\n",
       "act_participation_2017    32.140842\n",
       "act_eng_2017               2.353677\n",
       "act_math_2017              1.981989\n",
       "act_reading_2017           2.067271\n",
       "act_sci_2017               3.182463\n",
       "Composite_2017             2.066616\n",
       "sat_participation_2017    35.276632\n",
       "sat_rw_2017               45.666901\n",
       "sat_math_2017             84.909119\n",
       "sat_total_2017            92.494812\n",
       "dtype: float64"
      ]
     },
     "execution_count": 86,
     "metadata": {},
     "output_type": "execute_result"
    }
   ],
   "source": [
    "final.std()"
   ]
  },
  {
   "cell_type": "markdown",
   "metadata": {},
   "source": [
    "Answer There is a slight descrepency between my standard deviation and the builtin python standard deviation. The diference is about .5 which may be a difference in calculation."
   ]
  },
  {
   "cell_type": "markdown",
   "metadata": {},
   "source": [
    "#### Investigate trends in the data\n",
    "Using sorting and/or masking (along with the `.head` method to not print our entire dataframe), consider the following questions:\n",
    "\n",
    "- Which states have the highest and lowest participation rates for the:\n",
    "    - 2017 SAT?\n",
    "    - 2018 SAT?\n",
    "    - 2017 ACT?\n",
    "    - 2018 ACT?\n",
    "- Which states have the highest and lowest mean total/composite scores for the:\n",
    "    - 2017 SAT?\n",
    "    - 2018 SAT?\n",
    "    - 2017 ACT?\n",
    "    - 2018 ACT?\n",
    "- Do any states with 100% participation on a given test have a rate change year-to-year?\n",
    "- Do any states show have >50% participation on *both* tests either year?\n",
    "\n",
    "Based on what you've just observed, have you identified any states that you're especially interested in? **Make a note of these and state *why* you think they're interesting**.\n",
    "\n",
    "**You should comment on your findings at each step in a markdown cell below your code block**. Make sure you include at least one example of sorting your dataframe by a column, and one example of using boolean filtering (i.e., masking) to select a subset of the dataframe."
   ]
  },
  {
   "cell_type": "code",
   "execution_count": 87,
   "metadata": {},
   "outputs": [
    {
     "data": {
      "text/html": [
       "<div>\n",
       "<style scoped>\n",
       "    .dataframe tbody tr th:only-of-type {\n",
       "        vertical-align: middle;\n",
       "    }\n",
       "\n",
       "    .dataframe tbody tr th {\n",
       "        vertical-align: top;\n",
       "    }\n",
       "\n",
       "    .dataframe thead th {\n",
       "        text-align: right;\n",
       "    }\n",
       "</style>\n",
       "<table border=\"1\" class=\"dataframe\">\n",
       "  <thead>\n",
       "    <tr style=\"text-align: right;\">\n",
       "      <th></th>\n",
       "      <th>State</th>\n",
       "      <th>sat_participation_2017</th>\n",
       "      <th>sat_rw_2017</th>\n",
       "      <th>sat_math_2017</th>\n",
       "      <th>sat_total_2017</th>\n",
       "    </tr>\n",
       "  </thead>\n",
       "  <tbody>\n",
       "    <tr>\n",
       "      <th>8</th>\n",
       "      <td>District of Columbia</td>\n",
       "      <td>100.0</td>\n",
       "      <td>482</td>\n",
       "      <td>468</td>\n",
       "      <td>950</td>\n",
       "    </tr>\n",
       "    <tr>\n",
       "      <th>22</th>\n",
       "      <td>Michigan</td>\n",
       "      <td>100.0</td>\n",
       "      <td>509</td>\n",
       "      <td>495</td>\n",
       "      <td>1005</td>\n",
       "    </tr>\n",
       "    <tr>\n",
       "      <th>6</th>\n",
       "      <td>Connecticut</td>\n",
       "      <td>100.0</td>\n",
       "      <td>530</td>\n",
       "      <td>512</td>\n",
       "      <td>1041</td>\n",
       "    </tr>\n",
       "    <tr>\n",
       "      <th>7</th>\n",
       "      <td>Delaware</td>\n",
       "      <td>100.0</td>\n",
       "      <td>503</td>\n",
       "      <td>492</td>\n",
       "      <td>996</td>\n",
       "    </tr>\n",
       "    <tr>\n",
       "      <th>29</th>\n",
       "      <td>New Hampshire</td>\n",
       "      <td>96.0</td>\n",
       "      <td>532</td>\n",
       "      <td>520</td>\n",
       "      <td>1052</td>\n",
       "    </tr>\n",
       "  </tbody>\n",
       "</table>\n",
       "</div>"
      ],
      "text/plain": [
       "                   State  sat_participation_2017  sat_rw_2017  sat_math_2017  \\\n",
       "8   District of Columbia                   100.0          482            468   \n",
       "22              Michigan                   100.0          509            495   \n",
       "6            Connecticut                   100.0          530            512   \n",
       "7               Delaware                   100.0          503            492   \n",
       "29         New Hampshire                    96.0          532            520   \n",
       "\n",
       "    sat_total_2017  \n",
       "8              950  \n",
       "22            1005  \n",
       "6             1041  \n",
       "7              996  \n",
       "29            1052  "
      ]
     },
     "execution_count": 87,
     "metadata": {},
     "output_type": "execute_result"
    }
   ],
   "source": [
    "#code\n",
    "sat17.sort_values(by=['sat_participation_2017'],ascending=False).head()"
   ]
  },
  {
   "cell_type": "code",
   "execution_count": 88,
   "metadata": {},
   "outputs": [
    {
     "data": {
      "text/html": [
       "<div>\n",
       "<style scoped>\n",
       "    .dataframe tbody tr th:only-of-type {\n",
       "        vertical-align: middle;\n",
       "    }\n",
       "\n",
       "    .dataframe tbody tr th {\n",
       "        vertical-align: top;\n",
       "    }\n",
       "\n",
       "    .dataframe thead th {\n",
       "        text-align: right;\n",
       "    }\n",
       "</style>\n",
       "<table border=\"1\" class=\"dataframe\">\n",
       "  <thead>\n",
       "    <tr style=\"text-align: right;\">\n",
       "      <th></th>\n",
       "      <th>State</th>\n",
       "      <th>sat_participation_2017</th>\n",
       "      <th>sat_rw_2017</th>\n",
       "      <th>sat_math_2017</th>\n",
       "      <th>sat_total_2017</th>\n",
       "    </tr>\n",
       "  </thead>\n",
       "  <tbody>\n",
       "    <tr>\n",
       "      <th>34</th>\n",
       "      <td>North Dakota</td>\n",
       "      <td>2.0</td>\n",
       "      <td>635</td>\n",
       "      <td>621</td>\n",
       "      <td>1256</td>\n",
       "    </tr>\n",
       "    <tr>\n",
       "      <th>24</th>\n",
       "      <td>Mississippi</td>\n",
       "      <td>2.0</td>\n",
       "      <td>634</td>\n",
       "      <td>607</td>\n",
       "      <td>1242</td>\n",
       "    </tr>\n",
       "    <tr>\n",
       "      <th>15</th>\n",
       "      <td>Iowa</td>\n",
       "      <td>2.0</td>\n",
       "      <td>641</td>\n",
       "      <td>635</td>\n",
       "      <td>1275</td>\n",
       "    </tr>\n",
       "    <tr>\n",
       "      <th>25</th>\n",
       "      <td>Missouri</td>\n",
       "      <td>3.0</td>\n",
       "      <td>640</td>\n",
       "      <td>631</td>\n",
       "      <td>1271</td>\n",
       "    </tr>\n",
       "    <tr>\n",
       "      <th>44</th>\n",
       "      <td>Utah</td>\n",
       "      <td>3.0</td>\n",
       "      <td>624</td>\n",
       "      <td>614</td>\n",
       "      <td>1238</td>\n",
       "    </tr>\n",
       "  </tbody>\n",
       "</table>\n",
       "</div>"
      ],
      "text/plain": [
       "           State  sat_participation_2017  sat_rw_2017  sat_math_2017  \\\n",
       "34  North Dakota                     2.0          635            621   \n",
       "24   Mississippi                     2.0          634            607   \n",
       "15          Iowa                     2.0          641            635   \n",
       "25      Missouri                     3.0          640            631   \n",
       "44          Utah                     3.0          624            614   \n",
       "\n",
       "    sat_total_2017  \n",
       "34            1256  \n",
       "24            1242  \n",
       "15            1275  \n",
       "25            1271  \n",
       "44            1238  "
      ]
     },
     "execution_count": 88,
     "metadata": {},
     "output_type": "execute_result"
    }
   ],
   "source": [
    "sat17.sort_values(by=['sat_participation_2017'],ascending=True).head()"
   ]
  },
  {
   "cell_type": "code",
   "execution_count": 89,
   "metadata": {},
   "outputs": [
    {
     "data": {
      "text/html": [
       "<div>\n",
       "<style scoped>\n",
       "    .dataframe tbody tr th:only-of-type {\n",
       "        vertical-align: middle;\n",
       "    }\n",
       "\n",
       "    .dataframe tbody tr th {\n",
       "        vertical-align: top;\n",
       "    }\n",
       "\n",
       "    .dataframe thead th {\n",
       "        text-align: right;\n",
       "    }\n",
       "</style>\n",
       "<table border=\"1\" class=\"dataframe\">\n",
       "  <thead>\n",
       "    <tr style=\"text-align: right;\">\n",
       "      <th></th>\n",
       "      <th>State</th>\n",
       "      <th>sat_participation_18</th>\n",
       "      <th>sat_rw_18</th>\n",
       "      <th>sat_math_18</th>\n",
       "      <th>sat_total_18</th>\n",
       "    </tr>\n",
       "  </thead>\n",
       "  <tbody>\n",
       "    <tr>\n",
       "      <th>5</th>\n",
       "      <td>Colorado</td>\n",
       "      <td>100.0</td>\n",
       "      <td>519</td>\n",
       "      <td>506</td>\n",
       "      <td>1025</td>\n",
       "    </tr>\n",
       "    <tr>\n",
       "      <th>6</th>\n",
       "      <td>Connecticut</td>\n",
       "      <td>100.0</td>\n",
       "      <td>535</td>\n",
       "      <td>519</td>\n",
       "      <td>1053</td>\n",
       "    </tr>\n",
       "    <tr>\n",
       "      <th>7</th>\n",
       "      <td>Delaware</td>\n",
       "      <td>100.0</td>\n",
       "      <td>505</td>\n",
       "      <td>492</td>\n",
       "      <td>998</td>\n",
       "    </tr>\n",
       "    <tr>\n",
       "      <th>22</th>\n",
       "      <td>Michigan</td>\n",
       "      <td>100.0</td>\n",
       "      <td>511</td>\n",
       "      <td>499</td>\n",
       "      <td>1011</td>\n",
       "    </tr>\n",
       "    <tr>\n",
       "      <th>12</th>\n",
       "      <td>Idaho</td>\n",
       "      <td>100.0</td>\n",
       "      <td>508</td>\n",
       "      <td>493</td>\n",
       "      <td>1001</td>\n",
       "    </tr>\n",
       "  </tbody>\n",
       "</table>\n",
       "</div>"
      ],
      "text/plain": [
       "          State  sat_participation_18  sat_rw_18  sat_math_18  sat_total_18\n",
       "5      Colorado                 100.0        519          506          1025\n",
       "6   Connecticut                 100.0        535          519          1053\n",
       "7      Delaware                 100.0        505          492           998\n",
       "22     Michigan                 100.0        511          499          1011\n",
       "12        Idaho                 100.0        508          493          1001"
      ]
     },
     "execution_count": 89,
     "metadata": {},
     "output_type": "execute_result"
    }
   ],
   "source": [
    "sat18.sort_values(by=['sat_participation_18'],ascending=False).head()"
   ]
  },
  {
   "cell_type": "code",
   "execution_count": 90,
   "metadata": {},
   "outputs": [
    {
     "data": {
      "text/html": [
       "<div>\n",
       "<style scoped>\n",
       "    .dataframe tbody tr th:only-of-type {\n",
       "        vertical-align: middle;\n",
       "    }\n",
       "\n",
       "    .dataframe tbody tr th {\n",
       "        vertical-align: top;\n",
       "    }\n",
       "\n",
       "    .dataframe thead th {\n",
       "        text-align: right;\n",
       "    }\n",
       "</style>\n",
       "<table border=\"1\" class=\"dataframe\">\n",
       "  <thead>\n",
       "    <tr style=\"text-align: right;\">\n",
       "      <th></th>\n",
       "      <th>State</th>\n",
       "      <th>sat_participation_18</th>\n",
       "      <th>sat_rw_18</th>\n",
       "      <th>sat_math_18</th>\n",
       "      <th>sat_total_18</th>\n",
       "    </tr>\n",
       "  </thead>\n",
       "  <tbody>\n",
       "    <tr>\n",
       "      <th>34</th>\n",
       "      <td>North Dakota</td>\n",
       "      <td>2.0</td>\n",
       "      <td>640</td>\n",
       "      <td>643</td>\n",
       "      <td>1283</td>\n",
       "    </tr>\n",
       "    <tr>\n",
       "      <th>50</th>\n",
       "      <td>Wyoming</td>\n",
       "      <td>3.0</td>\n",
       "      <td>633</td>\n",
       "      <td>625</td>\n",
       "      <td>1257</td>\n",
       "    </tr>\n",
       "    <tr>\n",
       "      <th>41</th>\n",
       "      <td>South Dakota</td>\n",
       "      <td>3.0</td>\n",
       "      <td>622</td>\n",
       "      <td>618</td>\n",
       "      <td>1240</td>\n",
       "    </tr>\n",
       "    <tr>\n",
       "      <th>27</th>\n",
       "      <td>Nebraska</td>\n",
       "      <td>3.0</td>\n",
       "      <td>629</td>\n",
       "      <td>623</td>\n",
       "      <td>1252</td>\n",
       "    </tr>\n",
       "    <tr>\n",
       "      <th>49</th>\n",
       "      <td>Wisconsin</td>\n",
       "      <td>3.0</td>\n",
       "      <td>641</td>\n",
       "      <td>653</td>\n",
       "      <td>1294</td>\n",
       "    </tr>\n",
       "  </tbody>\n",
       "</table>\n",
       "</div>"
      ],
      "text/plain": [
       "           State  sat_participation_18  sat_rw_18  sat_math_18  sat_total_18\n",
       "34  North Dakota                   2.0        640          643          1283\n",
       "50       Wyoming                   3.0        633          625          1257\n",
       "41  South Dakota                   3.0        622          618          1240\n",
       "27      Nebraska                   3.0        629          623          1252\n",
       "49     Wisconsin                   3.0        641          653          1294"
      ]
     },
     "execution_count": 90,
     "metadata": {},
     "output_type": "execute_result"
    }
   ],
   "source": [
    "sat18.sort_values(by=['sat_participation_18'],ascending=True).head()"
   ]
  },
  {
   "cell_type": "code",
   "execution_count": 91,
   "metadata": {},
   "outputs": [
    {
     "data": {
      "text/html": [
       "<div>\n",
       "<style scoped>\n",
       "    .dataframe tbody tr th:only-of-type {\n",
       "        vertical-align: middle;\n",
       "    }\n",
       "\n",
       "    .dataframe tbody tr th {\n",
       "        vertical-align: top;\n",
       "    }\n",
       "\n",
       "    .dataframe thead th {\n",
       "        text-align: right;\n",
       "    }\n",
       "</style>\n",
       "<table border=\"1\" class=\"dataframe\">\n",
       "  <thead>\n",
       "    <tr style=\"text-align: right;\">\n",
       "      <th></th>\n",
       "      <th>State</th>\n",
       "      <th>act_participation_2017</th>\n",
       "      <th>act_eng_2017</th>\n",
       "      <th>act_math_2017</th>\n",
       "      <th>act_reading_2017</th>\n",
       "      <th>act_sci_2017</th>\n",
       "      <th>Composite_2017</th>\n",
       "    </tr>\n",
       "  </thead>\n",
       "  <tbody>\n",
       "    <tr>\n",
       "      <th>1</th>\n",
       "      <td>Alabama</td>\n",
       "      <td>100.0</td>\n",
       "      <td>18.9</td>\n",
       "      <td>18.4</td>\n",
       "      <td>19.7</td>\n",
       "      <td>19.4</td>\n",
       "      <td>19.0</td>\n",
       "    </tr>\n",
       "    <tr>\n",
       "      <th>18</th>\n",
       "      <td>Kentucky</td>\n",
       "      <td>100.0</td>\n",
       "      <td>19.6</td>\n",
       "      <td>19.4</td>\n",
       "      <td>20.5</td>\n",
       "      <td>20.1</td>\n",
       "      <td>20.0</td>\n",
       "    </tr>\n",
       "    <tr>\n",
       "      <th>50</th>\n",
       "      <td>Wisconsin</td>\n",
       "      <td>100.0</td>\n",
       "      <td>19.7</td>\n",
       "      <td>20.4</td>\n",
       "      <td>20.6</td>\n",
       "      <td>20.9</td>\n",
       "      <td>20.0</td>\n",
       "    </tr>\n",
       "    <tr>\n",
       "      <th>45</th>\n",
       "      <td>Utah</td>\n",
       "      <td>100.0</td>\n",
       "      <td>19.5</td>\n",
       "      <td>19.9</td>\n",
       "      <td>20.8</td>\n",
       "      <td>20.6</td>\n",
       "      <td>20.0</td>\n",
       "    </tr>\n",
       "    <tr>\n",
       "      <th>43</th>\n",
       "      <td>Tennessee</td>\n",
       "      <td>100.0</td>\n",
       "      <td>19.5</td>\n",
       "      <td>19.2</td>\n",
       "      <td>20.1</td>\n",
       "      <td>19.9</td>\n",
       "      <td>19.0</td>\n",
       "    </tr>\n",
       "  </tbody>\n",
       "</table>\n",
       "</div>"
      ],
      "text/plain": [
       "        State  act_participation_2017  act_eng_2017  act_math_2017  \\\n",
       "1     Alabama                   100.0          18.9           18.4   \n",
       "18   Kentucky                   100.0          19.6           19.4   \n",
       "50  Wisconsin                   100.0          19.7           20.4   \n",
       "45       Utah                   100.0          19.5           19.9   \n",
       "43  Tennessee                   100.0          19.5           19.2   \n",
       "\n",
       "    act_reading_2017  act_sci_2017  Composite_2017  \n",
       "1               19.7          19.4            19.0  \n",
       "18              20.5          20.1            20.0  \n",
       "50              20.6          20.9            20.0  \n",
       "45              20.8          20.6            20.0  \n",
       "43              20.1          19.9            19.0  "
      ]
     },
     "execution_count": 91,
     "metadata": {},
     "output_type": "execute_result"
    }
   ],
   "source": [
    "act17.sort_values(by=['act_participation_2017'],ascending=False).head()"
   ]
  },
  {
   "cell_type": "code",
   "execution_count": 92,
   "metadata": {},
   "outputs": [
    {
     "data": {
      "text/html": [
       "<div>\n",
       "<style scoped>\n",
       "    .dataframe tbody tr th:only-of-type {\n",
       "        vertical-align: middle;\n",
       "    }\n",
       "\n",
       "    .dataframe tbody tr th {\n",
       "        vertical-align: top;\n",
       "    }\n",
       "\n",
       "    .dataframe thead th {\n",
       "        text-align: right;\n",
       "    }\n",
       "</style>\n",
       "<table border=\"1\" class=\"dataframe\">\n",
       "  <thead>\n",
       "    <tr style=\"text-align: right;\">\n",
       "      <th></th>\n",
       "      <th>State</th>\n",
       "      <th>sat_participation_2017</th>\n",
       "      <th>sat_rw_2017</th>\n",
       "      <th>sat_math_2017</th>\n",
       "      <th>sat_total_2017</th>\n",
       "    </tr>\n",
       "  </thead>\n",
       "  <tbody>\n",
       "    <tr>\n",
       "      <th>34</th>\n",
       "      <td>North Dakota</td>\n",
       "      <td>2.0</td>\n",
       "      <td>635</td>\n",
       "      <td>621</td>\n",
       "      <td>1256</td>\n",
       "    </tr>\n",
       "    <tr>\n",
       "      <th>24</th>\n",
       "      <td>Mississippi</td>\n",
       "      <td>2.0</td>\n",
       "      <td>634</td>\n",
       "      <td>607</td>\n",
       "      <td>1242</td>\n",
       "    </tr>\n",
       "    <tr>\n",
       "      <th>15</th>\n",
       "      <td>Iowa</td>\n",
       "      <td>2.0</td>\n",
       "      <td>641</td>\n",
       "      <td>635</td>\n",
       "      <td>1275</td>\n",
       "    </tr>\n",
       "    <tr>\n",
       "      <th>25</th>\n",
       "      <td>Missouri</td>\n",
       "      <td>3.0</td>\n",
       "      <td>640</td>\n",
       "      <td>631</td>\n",
       "      <td>1271</td>\n",
       "    </tr>\n",
       "    <tr>\n",
       "      <th>44</th>\n",
       "      <td>Utah</td>\n",
       "      <td>3.0</td>\n",
       "      <td>624</td>\n",
       "      <td>614</td>\n",
       "      <td>1238</td>\n",
       "    </tr>\n",
       "  </tbody>\n",
       "</table>\n",
       "</div>"
      ],
      "text/plain": [
       "           State  sat_participation_2017  sat_rw_2017  sat_math_2017  \\\n",
       "34  North Dakota                     2.0          635            621   \n",
       "24   Mississippi                     2.0          634            607   \n",
       "15          Iowa                     2.0          641            635   \n",
       "25      Missouri                     3.0          640            631   \n",
       "44          Utah                     3.0          624            614   \n",
       "\n",
       "    sat_total_2017  \n",
       "34            1256  \n",
       "24            1242  \n",
       "15            1275  \n",
       "25            1271  \n",
       "44            1238  "
      ]
     },
     "execution_count": 92,
     "metadata": {},
     "output_type": "execute_result"
    }
   ],
   "source": [
    "sat17.sort_values(by=['sat_participation_2017'],ascending=True).head()"
   ]
  },
  {
   "cell_type": "code",
   "execution_count": 93,
   "metadata": {},
   "outputs": [
    {
     "data": {
      "text/html": [
       "<div>\n",
       "<style scoped>\n",
       "    .dataframe tbody tr th:only-of-type {\n",
       "        vertical-align: middle;\n",
       "    }\n",
       "\n",
       "    .dataframe tbody tr th {\n",
       "        vertical-align: top;\n",
       "    }\n",
       "\n",
       "    .dataframe thead th {\n",
       "        text-align: right;\n",
       "    }\n",
       "</style>\n",
       "<table border=\"1\" class=\"dataframe\">\n",
       "  <thead>\n",
       "    <tr style=\"text-align: right;\">\n",
       "      <th></th>\n",
       "      <th>State</th>\n",
       "      <th>act_participation_18</th>\n",
       "      <th>Composite_18</th>\n",
       "    </tr>\n",
       "  </thead>\n",
       "  <tbody>\n",
       "    <tr>\n",
       "      <th>0</th>\n",
       "      <td>Alabama</td>\n",
       "      <td>100.0</td>\n",
       "      <td>19.1</td>\n",
       "    </tr>\n",
       "    <tr>\n",
       "      <th>17</th>\n",
       "      <td>Kentucky</td>\n",
       "      <td>100.0</td>\n",
       "      <td>20.2</td>\n",
       "    </tr>\n",
       "    <tr>\n",
       "      <th>50</th>\n",
       "      <td>Wisconsin</td>\n",
       "      <td>100.0</td>\n",
       "      <td>20.5</td>\n",
       "    </tr>\n",
       "    <tr>\n",
       "      <th>45</th>\n",
       "      <td>Utah</td>\n",
       "      <td>100.0</td>\n",
       "      <td>20.4</td>\n",
       "    </tr>\n",
       "    <tr>\n",
       "      <th>43</th>\n",
       "      <td>Tennessee</td>\n",
       "      <td>100.0</td>\n",
       "      <td>19.6</td>\n",
       "    </tr>\n",
       "  </tbody>\n",
       "</table>\n",
       "</div>"
      ],
      "text/plain": [
       "        State  act_participation_18  Composite_18\n",
       "0     Alabama                 100.0          19.1\n",
       "17   Kentucky                 100.0          20.2\n",
       "50  Wisconsin                 100.0          20.5\n",
       "45       Utah                 100.0          20.4\n",
       "43  Tennessee                 100.0          19.6"
      ]
     },
     "execution_count": 93,
     "metadata": {},
     "output_type": "execute_result"
    }
   ],
   "source": [
    "act18.sort_values(by=['act_participation_18'],ascending=False).head()"
   ]
  },
  {
   "cell_type": "code",
   "execution_count": 94,
   "metadata": {},
   "outputs": [
    {
     "data": {
      "text/plain": [
       "Index(['State', 'act_participation_18', 'Composite_18'], dtype='object')"
      ]
     },
     "execution_count": 94,
     "metadata": {},
     "output_type": "execute_result"
    }
   ],
   "source": [
    "act18.columns"
   ]
  },
  {
   "cell_type": "code",
   "execution_count": 95,
   "metadata": {},
   "outputs": [
    {
     "data": {
      "text/html": [
       "<div>\n",
       "<style scoped>\n",
       "    .dataframe tbody tr th:only-of-type {\n",
       "        vertical-align: middle;\n",
       "    }\n",
       "\n",
       "    .dataframe tbody tr th {\n",
       "        vertical-align: top;\n",
       "    }\n",
       "\n",
       "    .dataframe thead th {\n",
       "        text-align: right;\n",
       "    }\n",
       "</style>\n",
       "<table border=\"1\" class=\"dataframe\">\n",
       "  <thead>\n",
       "    <tr style=\"text-align: right;\">\n",
       "      <th></th>\n",
       "      <th>State</th>\n",
       "      <th>act_participation_18</th>\n",
       "      <th>Composite_18</th>\n",
       "    </tr>\n",
       "  </thead>\n",
       "  <tbody>\n",
       "    <tr>\n",
       "      <th>19</th>\n",
       "      <td>Maine</td>\n",
       "      <td>7.0</td>\n",
       "      <td>24.0</td>\n",
       "    </tr>\n",
       "    <tr>\n",
       "      <th>40</th>\n",
       "      <td>Rhode Island</td>\n",
       "      <td>15.0</td>\n",
       "      <td>24.2</td>\n",
       "    </tr>\n",
       "    <tr>\n",
       "      <th>30</th>\n",
       "      <td>New Hampshire</td>\n",
       "      <td>16.0</td>\n",
       "      <td>25.1</td>\n",
       "    </tr>\n",
       "    <tr>\n",
       "      <th>7</th>\n",
       "      <td>Delaware</td>\n",
       "      <td>17.0</td>\n",
       "      <td>23.8</td>\n",
       "    </tr>\n",
       "    <tr>\n",
       "      <th>39</th>\n",
       "      <td>Pennsylvania</td>\n",
       "      <td>20.0</td>\n",
       "      <td>23.5</td>\n",
       "    </tr>\n",
       "  </tbody>\n",
       "</table>\n",
       "</div>"
      ],
      "text/plain": [
       "            State  act_participation_18  Composite_18\n",
       "19          Maine                   7.0          24.0\n",
       "40   Rhode Island                  15.0          24.2\n",
       "30  New Hampshire                  16.0          25.1\n",
       "7        Delaware                  17.0          23.8\n",
       "39   Pennsylvania                  20.0          23.5"
      ]
     },
     "execution_count": 95,
     "metadata": {},
     "output_type": "execute_result"
    }
   ],
   "source": [
    "act18.sort_values(by=['act_participation_18'],ascending=True).head()"
   ]
  },
  {
   "cell_type": "markdown",
   "metadata": {},
   "source": [
    "## Visualize the data\n",
    "\n",
    "There's not a magic bullet recommendation for the right number of plots to understand a given dataset, but visualizing your data is *always* a good idea. Not only does it allow you to quickly convey your findings (even if you have a non-technical audience), it will often reveal trends in your data that escaped you when you were looking only at numbers.\n",
    "\n",
    "Some recommendations on plotting:\n",
    "- Plots have titles\n",
    "- Plots have axis labels\n",
    "- Plots have appropriate tick labels\n",
    "- All text is legible in a plot\n",
    "- Plots demonstrate meaningful and valid relationships\n",
    "- Plots are interpreted to aid understanding\n",
    "\n",
    "There is such a thing as too many plots, and there are a *lot* of bad plots. You might make some! (But hopefully not with the guided prompts below)."
   ]
  },
  {
   "cell_type": "markdown",
   "metadata": {},
   "source": [
    "#### Use Seaborn's heatmap with pandas `.corr()` to visualize correlations between all numeric features\n",
    "\n",
    "Heatmaps are generally not appropriate for presentations, and should often be excluded from reports as they can be visually overwhelming. **However**, they can be extremely useful in identify relationships of potential interest (as well as identifying potential collinearity before modeling).\n",
    "\n",
    "*example*:\n",
    "```python\n",
    "sns.heatmap(df.corr())\n",
    "```\n",
    "\n",
    "Please take time to format your output, adding a title. Look through some of the additional arguments and options. (Axis labels aren't really necessary, as long as the title is informative)."
   ]
  },
  {
   "cell_type": "code",
   "execution_count": 96,
   "metadata": {},
   "outputs": [
    {
     "data": {
      "text/plain": [
       "<matplotlib.axes._subplots.AxesSubplot at 0x12aad71d0>"
      ]
     },
     "execution_count": 96,
     "metadata": {},
     "output_type": "execute_result"
    },
    {
     "data": {
      "image/png": "[encoded data removed]",
      "text/plain": [
       "<Figure size 720x720 with 2 Axes>"
      ]
     },
     "metadata": {
      "needs_background": "light"
     },
     "output_type": "display_data"
    }
   ],
   "source": [
    "plt.figure(figsize = (10, 10))\n",
    "sns.heatmap(final.corr(), cmap = 'coolwarm', annot = True)\n",
    "# plt.title('Correlation Map of Final', fontsize = 25)"
   ]
  },
  {
   "cell_type": "markdown",
   "metadata": {},
   "source": [
    "#### Define a custom function to subplot histograms\n",
    "\n",
    "We have data for two tests for two years. We only have composite (and not subtest scores) for the 2018 ACT. We should write a function that will take the names of 2+ columns and subplot histograms. While you can use pandas plotting or Seaborn here, matplotlib gives you greater control over all aspects of your plots.\n",
    "\n",
    "[Helpful Link for Plotting Multiple Figures](https://matplotlib.org/users/pyplot_tutorial.html#working-with-multiple-figures-and-axes)\n",
    "\n",
    "Here's some starter code:"
   ]
  },
  {
   "cell_type": "code",
   "execution_count": 97,
   "metadata": {},
   "outputs": [],
   "source": [
    "def subplot_histograms(dataframe, list_of_columns, list_of_titles, list_of_xlabels):\n",
    "\n",
    "    nrows = int(np.ceil(len(list_of_columns)/2)) # Makes sure you have enough rows\n",
    "    fig, ax = plt.subplots(nrows=nrows, ncols=2) # You'll want to specify your figsize\n",
    "    ax = ax.ravel() # Ravel turns a matrix into a vector, which is easier to iterate\n",
    "    for i, column in enumerate(list_of_columns): # Gives us an index value to get into all our lists\n",
    "        ax[i].set_title(list_of_titles[i])\n",
    "        ax[i].hist(dataframe[column], bins = 30, alpha = 0.5, label = list_of_xlabels[i]) # feel free to add more settings\n",
    "        ax[i].vlines(x = np.mean(dataframe[column]), ymin = 0, ymax = 10, color = 'r')\n",
    "        plt.tight_layout()\n",
    "        \n",
    "        # Set titles, labels, etc here for each subplot"
   ]
  },
  {
   "cell_type": "code",
   "execution_count": 98,
   "metadata": {},
   "outputs": [
    {
     "data": {
      "text/plain": [
       "Index(['State', 'act_participation_18', 'Composite_18', 'sat_participation_18',\n",
       "       'sat_rw_18', 'sat_math_18', 'sat_total_18', 'act_participation_2017',\n",
       "       'act_eng_2017', 'act_math_2017', 'act_reading_2017', 'act_sci_2017',\n",
       "       'Composite_2017', 'sat_participation_2017', 'sat_rw_2017',\n",
       "       'sat_math_2017', 'sat_total_2017'],\n",
       "      dtype='object')"
      ]
     },
     "execution_count": 98,
     "metadata": {},
     "output_type": "execute_result"
    }
   ],
   "source": [
    "final.columns"
   ]
  },
  {
   "cell_type": "code",
   "execution_count": 99,
   "metadata": {},
   "outputs": [
    {
     "data": {
      "text/plain": [
       "Index(['State', 'act_participation_18', 'Composite_18', 'sat_participation_18',\n",
       "       'sat_rw_18', 'sat_math_18', 'sat_total_18', 'act_participation_2017',\n",
       "       'act_eng_2017', 'act_math_2017', 'act_reading_2017', 'act_sci_2017',\n",
       "       'Composite_2017', 'sat_participation_2017', 'sat_rw_2017',\n",
       "       'sat_math_2017', 'sat_total_2017'],\n",
       "      dtype='object')"
      ]
     },
     "execution_count": 99,
     "metadata": {},
     "output_type": "execute_result"
    }
   ],
   "source": [
    "final.columns"
   ]
  },
  {
   "cell_type": "code",
   "execution_count": 100,
   "metadata": {},
   "outputs": [
    {
     "data": {
      "text/html": [
       "<div>\n",
       "<style scoped>\n",
       "    .dataframe tbody tr th:only-of-type {\n",
       "        vertical-align: middle;\n",
       "    }\n",
       "\n",
       "    .dataframe tbody tr th {\n",
       "        vertical-align: top;\n",
       "    }\n",
       "\n",
       "    .dataframe thead th {\n",
       "        text-align: right;\n",
       "    }\n",
       "</style>\n",
       "<table border=\"1\" class=\"dataframe\">\n",
       "  <thead>\n",
       "    <tr style=\"text-align: right;\">\n",
       "      <th></th>\n",
       "      <th>State</th>\n",
       "      <th>act_participation_2017</th>\n",
       "      <th>act_eng_2017</th>\n",
       "      <th>act_math_2017</th>\n",
       "      <th>act_reading_2017</th>\n",
       "      <th>act_sci_2017</th>\n",
       "      <th>Composite_2017</th>\n",
       "    </tr>\n",
       "  </thead>\n",
       "  <tbody>\n",
       "    <tr>\n",
       "      <th>1</th>\n",
       "      <td>Alabama</td>\n",
       "      <td>100.0</td>\n",
       "      <td>18.9</td>\n",
       "      <td>18.4</td>\n",
       "      <td>19.7</td>\n",
       "      <td>19.4</td>\n",
       "      <td>19.0</td>\n",
       "    </tr>\n",
       "    <tr>\n",
       "      <th>2</th>\n",
       "      <td>Alaska</td>\n",
       "      <td>65.0</td>\n",
       "      <td>18.7</td>\n",
       "      <td>19.8</td>\n",
       "      <td>20.4</td>\n",
       "      <td>19.9</td>\n",
       "      <td>19.0</td>\n",
       "    </tr>\n",
       "    <tr>\n",
       "      <th>3</th>\n",
       "      <td>Arizona</td>\n",
       "      <td>62.0</td>\n",
       "      <td>18.6</td>\n",
       "      <td>19.8</td>\n",
       "      <td>20.1</td>\n",
       "      <td>19.8</td>\n",
       "      <td>19.0</td>\n",
       "    </tr>\n",
       "    <tr>\n",
       "      <th>4</th>\n",
       "      <td>Arkansas</td>\n",
       "      <td>100.0</td>\n",
       "      <td>18.9</td>\n",
       "      <td>19.0</td>\n",
       "      <td>19.7</td>\n",
       "      <td>19.5</td>\n",
       "      <td>19.0</td>\n",
       "    </tr>\n",
       "    <tr>\n",
       "      <th>5</th>\n",
       "      <td>California</td>\n",
       "      <td>31.0</td>\n",
       "      <td>22.5</td>\n",
       "      <td>22.7</td>\n",
       "      <td>23.1</td>\n",
       "      <td>22.2</td>\n",
       "      <td>22.0</td>\n",
       "    </tr>\n",
       "  </tbody>\n",
       "</table>\n",
       "</div>"
      ],
      "text/plain": [
       "        State  act_participation_2017  act_eng_2017  act_math_2017  \\\n",
       "1     Alabama                   100.0          18.9           18.4   \n",
       "2      Alaska                    65.0          18.7           19.8   \n",
       "3     Arizona                    62.0          18.6           19.8   \n",
       "4    Arkansas                   100.0          18.9           19.0   \n",
       "5  California                    31.0          22.5           22.7   \n",
       "\n",
       "   act_reading_2017  act_sci_2017  Composite_2017  \n",
       "1              19.7          19.4            19.0  \n",
       "2              20.4          19.9            19.0  \n",
       "3              20.1          19.8            19.0  \n",
       "4              19.7          19.5            19.0  \n",
       "5              23.1          22.2            22.0  "
      ]
     },
     "execution_count": 100,
     "metadata": {},
     "output_type": "execute_result"
    }
   ],
   "source": [
    "act17.head()"
   ]
  },
  {
   "cell_type": "markdown",
   "metadata": {},
   "source": [
    "#### Plot and interpret histograms \n",
    "For each of the following:\n",
    "- Participation rates for SAT & ACT\n",
    "- Math scores for SAT & ACT\n",
    "- Reading/verbal scores for SAT & ACT"
   ]
  },
  {
   "cell_type": "markdown",
   "metadata": {},
   "source": [
    "## SAT & ACT Participation"
   ]
  },
  {
   "cell_type": "code",
   "execution_count": 101,
   "metadata": {},
   "outputs": [
    {
     "data": {
      "text/plain": [
       "<Figure size 1080x1080 with 0 Axes>"
      ]
     },
     "metadata": {},
     "output_type": "display_data"
    },
    {
     "data": {
      "image/png": "[encoded data removed]",
      "text/plain": [
       "<Figure size 432x288 with 4 Axes>"
      ]
     },
     "metadata": {
      "needs_background": "light"
     },
     "output_type": "display_data"
    }
   ],
   "source": [
    "list_col = ['sat_participation_2017','act_participation_2017','sat_participation_18','act_participation_18']\n",
    "list_title = ['SAT Participation 2017', 'ACT Participation 2017','SAT Participation 2018','ACT Participation 2018']\n",
    "list_xlabels = ['SAT Participation 2017', 'ACT Participation 2017','SAT Participation 2018','ACT Participation 2018']\n",
    "\n",
    "plt.figure(figsize = (15, 15))\n",
    "subplot_histograms(final, list_col, list_title, list_xlabels)"
   ]
  },
  {
   "cell_type": "markdown",
   "metadata": {},
   "source": [
    "##  Math scores for SAT & ACT"
   ]
  },
  {
   "cell_type": "code",
   "execution_count": 102,
   "metadata": {},
   "outputs": [
    {
     "data": {
      "text/plain": [
       "<Figure size 1080x1080 with 0 Axes>"
      ]
     },
     "metadata": {},
     "output_type": "display_data"
    },
    {
     "data": {
      "image/png": "[encoded data removed]",
      "text/plain": [
       "<Figure size 432x288 with 4 Axes>"
      ]
     },
     "metadata": {
      "needs_background": "light"
     },
     "output_type": "display_data"
    }
   ],
   "source": [
    "list_col = ['sat_math_2017','act_math_2017','sat_math_18']\n",
    "list_title = ['SAT Math 2017', 'ACT Math 2017', 'SAT Math 2018']\n",
    "list_xlabels = ['SAT Math 2017', 'ACT Math 2017','SAT Math 2018']\n",
    "\n",
    "plt.figure(figsize = (15, 15))\n",
    "subplot_histograms(final, list_col, list_title, list_xlabels)"
   ]
  },
  {
   "cell_type": "markdown",
   "metadata": {},
   "source": [
    "## Reading/verbal scores for SAT & ACT"
   ]
  },
  {
   "cell_type": "code",
   "execution_count": 103,
   "metadata": {},
   "outputs": [
    {
     "data": {
      "text/plain": [
       "<Figure size 1080x1080 with 0 Axes>"
      ]
     },
     "metadata": {},
     "output_type": "display_data"
    },
    {
     "data": {
      "image/png": "[encoded data removed]",
      "text/plain": [
       "<Figure size 432x288 with 4 Axes>"
      ]
     },
     "metadata": {
      "needs_background": "light"
     },
     "output_type": "display_data"
    }
   ],
   "source": [
    "list_col = ['sat_rw_2017', 'act_reading_2017','sat_rw_18','act_eng_2017']\n",
    "list_title = ['SAT Read&Write 2017', 'ACT Reading 2017','SAT Read&Write 2018','ACT English 2017']\n",
    "list_xlabels = ['SAT Read&Write 2017', 'ACT Read 2017','SAT Read&Write 2018','ACT English 2017']\n",
    "\n",
    "plt.figure(figsize = (15, 15))\n",
    "subplot_histograms(final, list_col, list_title, list_xlabels)"
   ]
  },
  {
   "cell_type": "markdown",
   "metadata": {},
   "source": [
    "#### Plot and interpret scatter plots\n",
    "\n",
    "For each of the following:\n",
    "- SAT vs. ACT math scores for 2017\n",
    "- SAT vs. ACT verbal/reading scores for 2017\n",
    "- SAT vs. ACT total/composite scores for 2017\n",
    "- Total scores for SAT 2017 vs. 2018\n",
    "- Composite scores for ACT 2017 vs. 2018\n",
    "\n",
    "Plot the two variables against each other using matplotlib or Seaborn\n",
    "\n",
    "Your plots should show:\n",
    "- Two clearly labeled axes\n",
    "- A proper title\n",
    "- Using colors and symbols that are clear and unmistakable\n",
    "\n",
    "**Feel free to write a custom function, and subplot if you'd like.** Functions save both time and space.\n"
   ]
  },
  {
   "cell_type": "code",
   "execution_count": 104,
   "metadata": {},
   "outputs": [],
   "source": [
    "def scatter(df, cols, title, xlabel, ylabel):\n",
    "    plt.title(title)\n",
    "    plt.scatter(df[cols[0]],df[cols[1]])\n",
    "    plt.xlabel(xlabel, fontsize=10)\n",
    "    plt.ylabel(ylabel,fontsize=10)\n",
    "    plt.show()"
   ]
  },
  {
   "cell_type": "code",
   "execution_count": 105,
   "metadata": {},
   "outputs": [
    {
     "data": {
      "text/plain": [
       "Index(['State', 'act_participation_18', 'Composite_18', 'sat_participation_18',\n",
       "       'sat_rw_18', 'sat_math_18', 'sat_total_18', 'act_participation_2017',\n",
       "       'act_eng_2017', 'act_math_2017', 'act_reading_2017', 'act_sci_2017',\n",
       "       'Composite_2017', 'sat_participation_2017', 'sat_rw_2017',\n",
       "       'sat_math_2017', 'sat_total_2017'],\n",
       "      dtype='object')"
      ]
     },
     "execution_count": 105,
     "metadata": {},
     "output_type": "execute_result"
    }
   ],
   "source": [
    "final.columns"
   ]
  },
  {
   "cell_type": "markdown",
   "metadata": {},
   "source": [
    "## SAT vs. ACT math scores for 2017"
   ]
  },
  {
   "cell_type": "code",
   "execution_count": 106,
   "metadata": {},
   "outputs": [
    {
     "data": {
      "image/png": "[encoded data removed]",
      "text/plain": [
       "<Figure size 432x288 with 1 Axes>"
      ]
     },
     "metadata": {
      "needs_background": "light"
     },
     "output_type": "display_data"
    }
   ],
   "source": [
    "list_col = ['sat_math_2017', 'act_math_2017' ]\n",
    "title = '2017 SAT Math Score vs 2017 ACT Math Score'\n",
    "xlabel = 'SAT Math Score 2017'\n",
    "ylabel = 'ACT Math Score 2017'\n",
    "\n",
    "scatter(final, list_col, title, xlabel, ylabel)"
   ]
  },
  {
   "cell_type": "code",
   "execution_count": 107,
   "metadata": {},
   "outputs": [
    {
     "data": {
      "text/html": [
       "<div>\n",
       "<style scoped>\n",
       "    .dataframe tbody tr th:only-of-type {\n",
       "        vertical-align: middle;\n",
       "    }\n",
       "\n",
       "    .dataframe tbody tr th {\n",
       "        vertical-align: top;\n",
       "    }\n",
       "\n",
       "    .dataframe thead th {\n",
       "        text-align: right;\n",
       "    }\n",
       "</style>\n",
       "<table border=\"1\" class=\"dataframe\">\n",
       "  <thead>\n",
       "    <tr style=\"text-align: right;\">\n",
       "      <th></th>\n",
       "      <th>State</th>\n",
       "      <th>act_participation_18</th>\n",
       "      <th>Composite_18</th>\n",
       "      <th>sat_participation_18</th>\n",
       "      <th>sat_rw_18</th>\n",
       "      <th>sat_math_18</th>\n",
       "      <th>sat_total_18</th>\n",
       "      <th>act_participation_2017</th>\n",
       "      <th>act_eng_2017</th>\n",
       "      <th>act_math_2017</th>\n",
       "      <th>act_reading_2017</th>\n",
       "      <th>act_sci_2017</th>\n",
       "      <th>Composite_2017</th>\n",
       "      <th>sat_participation_2017</th>\n",
       "      <th>sat_rw_2017</th>\n",
       "      <th>sat_math_2017</th>\n",
       "      <th>sat_total_2017</th>\n",
       "    </tr>\n",
       "  </thead>\n",
       "  <tbody>\n",
       "    <tr>\n",
       "      <th>0</th>\n",
       "      <td>Alabama</td>\n",
       "      <td>100.0</td>\n",
       "      <td>19.1</td>\n",
       "      <td>6.0</td>\n",
       "      <td>595</td>\n",
       "      <td>571</td>\n",
       "      <td>1166</td>\n",
       "      <td>100.0</td>\n",
       "      <td>18.9</td>\n",
       "      <td>18.4</td>\n",
       "      <td>19.7</td>\n",
       "      <td>19.4</td>\n",
       "      <td>19.0</td>\n",
       "      <td>5.0</td>\n",
       "      <td>593</td>\n",
       "      <td>572</td>\n",
       "      <td>1165</td>\n",
       "    </tr>\n",
       "    <tr>\n",
       "      <th>1</th>\n",
       "      <td>Alaska</td>\n",
       "      <td>33.0</td>\n",
       "      <td>20.8</td>\n",
       "      <td>43.0</td>\n",
       "      <td>562</td>\n",
       "      <td>544</td>\n",
       "      <td>1106</td>\n",
       "      <td>65.0</td>\n",
       "      <td>18.7</td>\n",
       "      <td>19.8</td>\n",
       "      <td>20.4</td>\n",
       "      <td>19.9</td>\n",
       "      <td>19.0</td>\n",
       "      <td>38.0</td>\n",
       "      <td>547</td>\n",
       "      <td>533</td>\n",
       "      <td>1080</td>\n",
       "    </tr>\n",
       "    <tr>\n",
       "      <th>2</th>\n",
       "      <td>Arizona</td>\n",
       "      <td>66.0</td>\n",
       "      <td>19.2</td>\n",
       "      <td>29.0</td>\n",
       "      <td>577</td>\n",
       "      <td>572</td>\n",
       "      <td>1149</td>\n",
       "      <td>62.0</td>\n",
       "      <td>18.6</td>\n",
       "      <td>19.8</td>\n",
       "      <td>20.1</td>\n",
       "      <td>19.8</td>\n",
       "      <td>19.0</td>\n",
       "      <td>30.0</td>\n",
       "      <td>563</td>\n",
       "      <td>553</td>\n",
       "      <td>1116</td>\n",
       "    </tr>\n",
       "    <tr>\n",
       "      <th>3</th>\n",
       "      <td>Arkansas</td>\n",
       "      <td>100.0</td>\n",
       "      <td>19.4</td>\n",
       "      <td>5.0</td>\n",
       "      <td>592</td>\n",
       "      <td>576</td>\n",
       "      <td>1169</td>\n",
       "      <td>100.0</td>\n",
       "      <td>18.9</td>\n",
       "      <td>19.0</td>\n",
       "      <td>19.7</td>\n",
       "      <td>19.5</td>\n",
       "      <td>19.0</td>\n",
       "      <td>3.0</td>\n",
       "      <td>614</td>\n",
       "      <td>594</td>\n",
       "      <td>1208</td>\n",
       "    </tr>\n",
       "    <tr>\n",
       "      <th>4</th>\n",
       "      <td>California</td>\n",
       "      <td>27.0</td>\n",
       "      <td>22.7</td>\n",
       "      <td>60.0</td>\n",
       "      <td>540</td>\n",
       "      <td>536</td>\n",
       "      <td>1076</td>\n",
       "      <td>31.0</td>\n",
       "      <td>22.5</td>\n",
       "      <td>22.7</td>\n",
       "      <td>23.1</td>\n",
       "      <td>22.2</td>\n",
       "      <td>22.0</td>\n",
       "      <td>53.0</td>\n",
       "      <td>531</td>\n",
       "      <td>524</td>\n",
       "      <td>1055</td>\n",
       "    </tr>\n",
       "  </tbody>\n",
       "</table>\n",
       "</div>"
      ],
      "text/plain": [
       "        State  act_participation_18  Composite_18  sat_participation_18  \\\n",
       "0     Alabama                 100.0          19.1                   6.0   \n",
       "1      Alaska                  33.0          20.8                  43.0   \n",
       "2     Arizona                  66.0          19.2                  29.0   \n",
       "3    Arkansas                 100.0          19.4                   5.0   \n",
       "4  California                  27.0          22.7                  60.0   \n",
       "\n",
       "   sat_rw_18  sat_math_18  sat_total_18  act_participation_2017  act_eng_2017  \\\n",
       "0        595          571          1166                   100.0          18.9   \n",
       "1        562          544          1106                    65.0          18.7   \n",
       "2        577          572          1149                    62.0          18.6   \n",
       "3        592          576          1169                   100.0          18.9   \n",
       "4        540          536          1076                    31.0          22.5   \n",
       "\n",
       "   act_math_2017  act_reading_2017  act_sci_2017  Composite_2017  \\\n",
       "0           18.4              19.7          19.4            19.0   \n",
       "1           19.8              20.4          19.9            19.0   \n",
       "2           19.8              20.1          19.8            19.0   \n",
       "3           19.0              19.7          19.5            19.0   \n",
       "4           22.7              23.1          22.2            22.0   \n",
       "\n",
       "   sat_participation_2017  sat_rw_2017  sat_math_2017  sat_total_2017  \n",
       "0                     5.0          593            572            1165  \n",
       "1                    38.0          547            533            1080  \n",
       "2                    30.0          563            553            1116  \n",
       "3                     3.0          614            594            1208  \n",
       "4                    53.0          531            524            1055  "
      ]
     },
     "execution_count": 107,
     "metadata": {},
     "output_type": "execute_result"
    }
   ],
   "source": [
    "final.head()"
   ]
  },
  {
   "cell_type": "markdown",
   "metadata": {},
   "source": [
    "## SAT vs. ACT verbal/reading scores for 2017"
   ]
  },
  {
   "cell_type": "code",
   "execution_count": 108,
   "metadata": {},
   "outputs": [
    {
     "data": {
      "image/png": "[encoded data removed]",
      "text/plain": [
       "<Figure size 432x288 with 1 Axes>"
      ]
     },
     "metadata": {
      "needs_background": "light"
     },
     "output_type": "display_data"
    }
   ],
   "source": [
    "list_col = ['sat_rw_2017','act_reading_2017']\n",
    "title = 'SAT Reading 2017/ACT Reading 2017'\n",
    "xlabel = 'SAT Reading 2017'\n",
    "ylabel = 'ACT Reading Score 2017'\n",
    "\n",
    "scatter(final, list_col, title, xlabel, ylabel)"
   ]
  },
  {
   "cell_type": "code",
   "execution_count": 109,
   "metadata": {},
   "outputs": [
    {
     "data": {
      "text/html": [
       "<div>\n",
       "<style scoped>\n",
       "    .dataframe tbody tr th:only-of-type {\n",
       "        vertical-align: middle;\n",
       "    }\n",
       "\n",
       "    .dataframe tbody tr th {\n",
       "        vertical-align: top;\n",
       "    }\n",
       "\n",
       "    .dataframe thead th {\n",
       "        text-align: right;\n",
       "    }\n",
       "</style>\n",
       "<table border=\"1\" class=\"dataframe\">\n",
       "  <thead>\n",
       "    <tr style=\"text-align: right;\">\n",
       "      <th></th>\n",
       "      <th>State</th>\n",
       "      <th>act_participation_18</th>\n",
       "      <th>Composite_18</th>\n",
       "      <th>sat_participation_18</th>\n",
       "      <th>sat_rw_18</th>\n",
       "      <th>sat_math_18</th>\n",
       "      <th>sat_total_18</th>\n",
       "      <th>act_participation_2017</th>\n",
       "      <th>act_eng_2017</th>\n",
       "      <th>act_math_2017</th>\n",
       "      <th>act_reading_2017</th>\n",
       "      <th>act_sci_2017</th>\n",
       "      <th>Composite_2017</th>\n",
       "      <th>sat_participation_2017</th>\n",
       "      <th>sat_rw_2017</th>\n",
       "      <th>sat_math_2017</th>\n",
       "      <th>sat_total_2017</th>\n",
       "    </tr>\n",
       "  </thead>\n",
       "  <tbody>\n",
       "    <tr>\n",
       "      <th>0</th>\n",
       "      <td>Alabama</td>\n",
       "      <td>100.0</td>\n",
       "      <td>19.1</td>\n",
       "      <td>6.0</td>\n",
       "      <td>595</td>\n",
       "      <td>571</td>\n",
       "      <td>1166</td>\n",
       "      <td>100.0</td>\n",
       "      <td>18.9</td>\n",
       "      <td>18.4</td>\n",
       "      <td>19.7</td>\n",
       "      <td>19.4</td>\n",
       "      <td>19.0</td>\n",
       "      <td>5.0</td>\n",
       "      <td>593</td>\n",
       "      <td>572</td>\n",
       "      <td>1165</td>\n",
       "    </tr>\n",
       "    <tr>\n",
       "      <th>1</th>\n",
       "      <td>Alaska</td>\n",
       "      <td>33.0</td>\n",
       "      <td>20.8</td>\n",
       "      <td>43.0</td>\n",
       "      <td>562</td>\n",
       "      <td>544</td>\n",
       "      <td>1106</td>\n",
       "      <td>65.0</td>\n",
       "      <td>18.7</td>\n",
       "      <td>19.8</td>\n",
       "      <td>20.4</td>\n",
       "      <td>19.9</td>\n",
       "      <td>19.0</td>\n",
       "      <td>38.0</td>\n",
       "      <td>547</td>\n",
       "      <td>533</td>\n",
       "      <td>1080</td>\n",
       "    </tr>\n",
       "    <tr>\n",
       "      <th>2</th>\n",
       "      <td>Arizona</td>\n",
       "      <td>66.0</td>\n",
       "      <td>19.2</td>\n",
       "      <td>29.0</td>\n",
       "      <td>577</td>\n",
       "      <td>572</td>\n",
       "      <td>1149</td>\n",
       "      <td>62.0</td>\n",
       "      <td>18.6</td>\n",
       "      <td>19.8</td>\n",
       "      <td>20.1</td>\n",
       "      <td>19.8</td>\n",
       "      <td>19.0</td>\n",
       "      <td>30.0</td>\n",
       "      <td>563</td>\n",
       "      <td>553</td>\n",
       "      <td>1116</td>\n",
       "    </tr>\n",
       "    <tr>\n",
       "      <th>3</th>\n",
       "      <td>Arkansas</td>\n",
       "      <td>100.0</td>\n",
       "      <td>19.4</td>\n",
       "      <td>5.0</td>\n",
       "      <td>592</td>\n",
       "      <td>576</td>\n",
       "      <td>1169</td>\n",
       "      <td>100.0</td>\n",
       "      <td>18.9</td>\n",
       "      <td>19.0</td>\n",
       "      <td>19.7</td>\n",
       "      <td>19.5</td>\n",
       "      <td>19.0</td>\n",
       "      <td>3.0</td>\n",
       "      <td>614</td>\n",
       "      <td>594</td>\n",
       "      <td>1208</td>\n",
       "    </tr>\n",
       "    <tr>\n",
       "      <th>4</th>\n",
       "      <td>California</td>\n",
       "      <td>27.0</td>\n",
       "      <td>22.7</td>\n",
       "      <td>60.0</td>\n",
       "      <td>540</td>\n",
       "      <td>536</td>\n",
       "      <td>1076</td>\n",
       "      <td>31.0</td>\n",
       "      <td>22.5</td>\n",
       "      <td>22.7</td>\n",
       "      <td>23.1</td>\n",
       "      <td>22.2</td>\n",
       "      <td>22.0</td>\n",
       "      <td>53.0</td>\n",
       "      <td>531</td>\n",
       "      <td>524</td>\n",
       "      <td>1055</td>\n",
       "    </tr>\n",
       "  </tbody>\n",
       "</table>\n",
       "</div>"
      ],
      "text/plain": [
       "        State  act_participation_18  Composite_18  sat_participation_18  \\\n",
       "0     Alabama                 100.0          19.1                   6.0   \n",
       "1      Alaska                  33.0          20.8                  43.0   \n",
       "2     Arizona                  66.0          19.2                  29.0   \n",
       "3    Arkansas                 100.0          19.4                   5.0   \n",
       "4  California                  27.0          22.7                  60.0   \n",
       "\n",
       "   sat_rw_18  sat_math_18  sat_total_18  act_participation_2017  act_eng_2017  \\\n",
       "0        595          571          1166                   100.0          18.9   \n",
       "1        562          544          1106                    65.0          18.7   \n",
       "2        577          572          1149                    62.0          18.6   \n",
       "3        592          576          1169                   100.0          18.9   \n",
       "4        540          536          1076                    31.0          22.5   \n",
       "\n",
       "   act_math_2017  act_reading_2017  act_sci_2017  Composite_2017  \\\n",
       "0           18.4              19.7          19.4            19.0   \n",
       "1           19.8              20.4          19.9            19.0   \n",
       "2           19.8              20.1          19.8            19.0   \n",
       "3           19.0              19.7          19.5            19.0   \n",
       "4           22.7              23.1          22.2            22.0   \n",
       "\n",
       "   sat_participation_2017  sat_rw_2017  sat_math_2017  sat_total_2017  \n",
       "0                     5.0          593            572            1165  \n",
       "1                    38.0          547            533            1080  \n",
       "2                    30.0          563            553            1116  \n",
       "3                     3.0          614            594            1208  \n",
       "4                    53.0          531            524            1055  "
      ]
     },
     "execution_count": 109,
     "metadata": {},
     "output_type": "execute_result"
    }
   ],
   "source": [
    "final.head()"
   ]
  },
  {
   "cell_type": "markdown",
   "metadata": {},
   "source": [
    "## SAT vs. ACT total/composite scores for 2017"
   ]
  },
  {
   "cell_type": "code",
   "execution_count": 110,
   "metadata": {},
   "outputs": [
    {
     "data": {
      "image/png": "[encoded data removed]",
      "text/plain": [
       "<Figure size 432x288 with 1 Axes>"
      ]
     },
     "metadata": {
      "needs_background": "light"
     },
     "output_type": "display_data"
    }
   ],
   "source": [
    "# Code\n",
    "list_col = ['Composite_2017','sat_total_2017']\n",
    "title = 'ACT Composite 2017 vs SAT Total 2017'\n",
    "xlabel = 'ACT Composite 2017'\n",
    "ylabel = 'SAT Total 2017'\n",
    "\n",
    "scatter(final, list_col, title, xlabel, ylabel)"
   ]
  },
  {
   "cell_type": "code",
   "execution_count": 111,
   "metadata": {},
   "outputs": [
    {
     "data": {
      "text/html": [
       "<div>\n",
       "<style scoped>\n",
       "    .dataframe tbody tr th:only-of-type {\n",
       "        vertical-align: middle;\n",
       "    }\n",
       "\n",
       "    .dataframe tbody tr th {\n",
       "        vertical-align: top;\n",
       "    }\n",
       "\n",
       "    .dataframe thead th {\n",
       "        text-align: right;\n",
       "    }\n",
       "</style>\n",
       "<table border=\"1\" class=\"dataframe\">\n",
       "  <thead>\n",
       "    <tr style=\"text-align: right;\">\n",
       "      <th></th>\n",
       "      <th>State</th>\n",
       "      <th>act_participation_18</th>\n",
       "      <th>Composite_18</th>\n",
       "      <th>sat_participation_18</th>\n",
       "      <th>sat_rw_18</th>\n",
       "      <th>sat_math_18</th>\n",
       "      <th>sat_total_18</th>\n",
       "      <th>act_participation_2017</th>\n",
       "      <th>act_eng_2017</th>\n",
       "      <th>act_math_2017</th>\n",
       "      <th>act_reading_2017</th>\n",
       "      <th>act_sci_2017</th>\n",
       "      <th>Composite_2017</th>\n",
       "      <th>sat_participation_2017</th>\n",
       "      <th>sat_rw_2017</th>\n",
       "      <th>sat_math_2017</th>\n",
       "      <th>sat_total_2017</th>\n",
       "    </tr>\n",
       "  </thead>\n",
       "  <tbody>\n",
       "    <tr>\n",
       "      <th>0</th>\n",
       "      <td>Alabama</td>\n",
       "      <td>100.0</td>\n",
       "      <td>19.1</td>\n",
       "      <td>6.0</td>\n",
       "      <td>595</td>\n",
       "      <td>571</td>\n",
       "      <td>1166</td>\n",
       "      <td>100.0</td>\n",
       "      <td>18.9</td>\n",
       "      <td>18.4</td>\n",
       "      <td>19.7</td>\n",
       "      <td>19.4</td>\n",
       "      <td>19.0</td>\n",
       "      <td>5.0</td>\n",
       "      <td>593</td>\n",
       "      <td>572</td>\n",
       "      <td>1165</td>\n",
       "    </tr>\n",
       "    <tr>\n",
       "      <th>1</th>\n",
       "      <td>Alaska</td>\n",
       "      <td>33.0</td>\n",
       "      <td>20.8</td>\n",
       "      <td>43.0</td>\n",
       "      <td>562</td>\n",
       "      <td>544</td>\n",
       "      <td>1106</td>\n",
       "      <td>65.0</td>\n",
       "      <td>18.7</td>\n",
       "      <td>19.8</td>\n",
       "      <td>20.4</td>\n",
       "      <td>19.9</td>\n",
       "      <td>19.0</td>\n",
       "      <td>38.0</td>\n",
       "      <td>547</td>\n",
       "      <td>533</td>\n",
       "      <td>1080</td>\n",
       "    </tr>\n",
       "    <tr>\n",
       "      <th>2</th>\n",
       "      <td>Arizona</td>\n",
       "      <td>66.0</td>\n",
       "      <td>19.2</td>\n",
       "      <td>29.0</td>\n",
       "      <td>577</td>\n",
       "      <td>572</td>\n",
       "      <td>1149</td>\n",
       "      <td>62.0</td>\n",
       "      <td>18.6</td>\n",
       "      <td>19.8</td>\n",
       "      <td>20.1</td>\n",
       "      <td>19.8</td>\n",
       "      <td>19.0</td>\n",
       "      <td>30.0</td>\n",
       "      <td>563</td>\n",
       "      <td>553</td>\n",
       "      <td>1116</td>\n",
       "    </tr>\n",
       "    <tr>\n",
       "      <th>3</th>\n",
       "      <td>Arkansas</td>\n",
       "      <td>100.0</td>\n",
       "      <td>19.4</td>\n",
       "      <td>5.0</td>\n",
       "      <td>592</td>\n",
       "      <td>576</td>\n",
       "      <td>1169</td>\n",
       "      <td>100.0</td>\n",
       "      <td>18.9</td>\n",
       "      <td>19.0</td>\n",
       "      <td>19.7</td>\n",
       "      <td>19.5</td>\n",
       "      <td>19.0</td>\n",
       "      <td>3.0</td>\n",
       "      <td>614</td>\n",
       "      <td>594</td>\n",
       "      <td>1208</td>\n",
       "    </tr>\n",
       "    <tr>\n",
       "      <th>4</th>\n",
       "      <td>California</td>\n",
       "      <td>27.0</td>\n",
       "      <td>22.7</td>\n",
       "      <td>60.0</td>\n",
       "      <td>540</td>\n",
       "      <td>536</td>\n",
       "      <td>1076</td>\n",
       "      <td>31.0</td>\n",
       "      <td>22.5</td>\n",
       "      <td>22.7</td>\n",
       "      <td>23.1</td>\n",
       "      <td>22.2</td>\n",
       "      <td>22.0</td>\n",
       "      <td>53.0</td>\n",
       "      <td>531</td>\n",
       "      <td>524</td>\n",
       "      <td>1055</td>\n",
       "    </tr>\n",
       "  </tbody>\n",
       "</table>\n",
       "</div>"
      ],
      "text/plain": [
       "        State  act_participation_18  Composite_18  sat_participation_18  \\\n",
       "0     Alabama                 100.0          19.1                   6.0   \n",
       "1      Alaska                  33.0          20.8                  43.0   \n",
       "2     Arizona                  66.0          19.2                  29.0   \n",
       "3    Arkansas                 100.0          19.4                   5.0   \n",
       "4  California                  27.0          22.7                  60.0   \n",
       "\n",
       "   sat_rw_18  sat_math_18  sat_total_18  act_participation_2017  act_eng_2017  \\\n",
       "0        595          571          1166                   100.0          18.9   \n",
       "1        562          544          1106                    65.0          18.7   \n",
       "2        577          572          1149                    62.0          18.6   \n",
       "3        592          576          1169                   100.0          18.9   \n",
       "4        540          536          1076                    31.0          22.5   \n",
       "\n",
       "   act_math_2017  act_reading_2017  act_sci_2017  Composite_2017  \\\n",
       "0           18.4              19.7          19.4            19.0   \n",
       "1           19.8              20.4          19.9            19.0   \n",
       "2           19.8              20.1          19.8            19.0   \n",
       "3           19.0              19.7          19.5            19.0   \n",
       "4           22.7              23.1          22.2            22.0   \n",
       "\n",
       "   sat_participation_2017  sat_rw_2017  sat_math_2017  sat_total_2017  \n",
       "0                     5.0          593            572            1165  \n",
       "1                    38.0          547            533            1080  \n",
       "2                    30.0          563            553            1116  \n",
       "3                     3.0          614            594            1208  \n",
       "4                    53.0          531            524            1055  "
      ]
     },
     "execution_count": 111,
     "metadata": {},
     "output_type": "execute_result"
    }
   ],
   "source": [
    "final.head()"
   ]
  },
  {
   "cell_type": "markdown",
   "metadata": {},
   "source": [
    "## Total scores for SAT 2017 vs. 2018"
   ]
  },
  {
   "cell_type": "code",
   "execution_count": 112,
   "metadata": {},
   "outputs": [
    {
     "data": {
      "image/png": "[encoded data removed]",
      "text/plain": [
       "<Figure size 432x288 with 1 Axes>"
      ]
     },
     "metadata": {
      "needs_background": "light"
     },
     "output_type": "display_data"
    }
   ],
   "source": [
    "list_col = ['sat_total_18','sat_total_2017']\n",
    "title = 'SAT Total 2018 vs SAT Total 2017'\n",
    "xlabel = 'SAT Total 2018'\n",
    "ylabel = 'SAT Total 2017'\n",
    "\n",
    "scatter(final, list_col, title, xlabel, ylabel)"
   ]
  },
  {
   "cell_type": "code",
   "execution_count": 113,
   "metadata": {},
   "outputs": [
    {
     "data": {
      "text/html": [
       "<div>\n",
       "<style scoped>\n",
       "    .dataframe tbody tr th:only-of-type {\n",
       "        vertical-align: middle;\n",
       "    }\n",
       "\n",
       "    .dataframe tbody tr th {\n",
       "        vertical-align: top;\n",
       "    }\n",
       "\n",
       "    .dataframe thead th {\n",
       "        text-align: right;\n",
       "    }\n",
       "</style>\n",
       "<table border=\"1\" class=\"dataframe\">\n",
       "  <thead>\n",
       "    <tr style=\"text-align: right;\">\n",
       "      <th></th>\n",
       "      <th>State</th>\n",
       "      <th>act_participation_18</th>\n",
       "      <th>Composite_18</th>\n",
       "      <th>sat_participation_18</th>\n",
       "      <th>sat_rw_18</th>\n",
       "      <th>sat_math_18</th>\n",
       "      <th>sat_total_18</th>\n",
       "      <th>act_participation_2017</th>\n",
       "      <th>act_eng_2017</th>\n",
       "      <th>act_math_2017</th>\n",
       "      <th>act_reading_2017</th>\n",
       "      <th>act_sci_2017</th>\n",
       "      <th>Composite_2017</th>\n",
       "      <th>sat_participation_2017</th>\n",
       "      <th>sat_rw_2017</th>\n",
       "      <th>sat_math_2017</th>\n",
       "      <th>sat_total_2017</th>\n",
       "    </tr>\n",
       "  </thead>\n",
       "  <tbody>\n",
       "    <tr>\n",
       "      <th>0</th>\n",
       "      <td>Alabama</td>\n",
       "      <td>100.0</td>\n",
       "      <td>19.1</td>\n",
       "      <td>6.0</td>\n",
       "      <td>595</td>\n",
       "      <td>571</td>\n",
       "      <td>1166</td>\n",
       "      <td>100.0</td>\n",
       "      <td>18.9</td>\n",
       "      <td>18.4</td>\n",
       "      <td>19.7</td>\n",
       "      <td>19.4</td>\n",
       "      <td>19.0</td>\n",
       "      <td>5.0</td>\n",
       "      <td>593</td>\n",
       "      <td>572</td>\n",
       "      <td>1165</td>\n",
       "    </tr>\n",
       "    <tr>\n",
       "      <th>1</th>\n",
       "      <td>Alaska</td>\n",
       "      <td>33.0</td>\n",
       "      <td>20.8</td>\n",
       "      <td>43.0</td>\n",
       "      <td>562</td>\n",
       "      <td>544</td>\n",
       "      <td>1106</td>\n",
       "      <td>65.0</td>\n",
       "      <td>18.7</td>\n",
       "      <td>19.8</td>\n",
       "      <td>20.4</td>\n",
       "      <td>19.9</td>\n",
       "      <td>19.0</td>\n",
       "      <td>38.0</td>\n",
       "      <td>547</td>\n",
       "      <td>533</td>\n",
       "      <td>1080</td>\n",
       "    </tr>\n",
       "    <tr>\n",
       "      <th>2</th>\n",
       "      <td>Arizona</td>\n",
       "      <td>66.0</td>\n",
       "      <td>19.2</td>\n",
       "      <td>29.0</td>\n",
       "      <td>577</td>\n",
       "      <td>572</td>\n",
       "      <td>1149</td>\n",
       "      <td>62.0</td>\n",
       "      <td>18.6</td>\n",
       "      <td>19.8</td>\n",
       "      <td>20.1</td>\n",
       "      <td>19.8</td>\n",
       "      <td>19.0</td>\n",
       "      <td>30.0</td>\n",
       "      <td>563</td>\n",
       "      <td>553</td>\n",
       "      <td>1116</td>\n",
       "    </tr>\n",
       "    <tr>\n",
       "      <th>3</th>\n",
       "      <td>Arkansas</td>\n",
       "      <td>100.0</td>\n",
       "      <td>19.4</td>\n",
       "      <td>5.0</td>\n",
       "      <td>592</td>\n",
       "      <td>576</td>\n",
       "      <td>1169</td>\n",
       "      <td>100.0</td>\n",
       "      <td>18.9</td>\n",
       "      <td>19.0</td>\n",
       "      <td>19.7</td>\n",
       "      <td>19.5</td>\n",
       "      <td>19.0</td>\n",
       "      <td>3.0</td>\n",
       "      <td>614</td>\n",
       "      <td>594</td>\n",
       "      <td>1208</td>\n",
       "    </tr>\n",
       "    <tr>\n",
       "      <th>4</th>\n",
       "      <td>California</td>\n",
       "      <td>27.0</td>\n",
       "      <td>22.7</td>\n",
       "      <td>60.0</td>\n",
       "      <td>540</td>\n",
       "      <td>536</td>\n",
       "      <td>1076</td>\n",
       "      <td>31.0</td>\n",
       "      <td>22.5</td>\n",
       "      <td>22.7</td>\n",
       "      <td>23.1</td>\n",
       "      <td>22.2</td>\n",
       "      <td>22.0</td>\n",
       "      <td>53.0</td>\n",
       "      <td>531</td>\n",
       "      <td>524</td>\n",
       "      <td>1055</td>\n",
       "    </tr>\n",
       "  </tbody>\n",
       "</table>\n",
       "</div>"
      ],
      "text/plain": [
       "        State  act_participation_18  Composite_18  sat_participation_18  \\\n",
       "0     Alabama                 100.0          19.1                   6.0   \n",
       "1      Alaska                  33.0          20.8                  43.0   \n",
       "2     Arizona                  66.0          19.2                  29.0   \n",
       "3    Arkansas                 100.0          19.4                   5.0   \n",
       "4  California                  27.0          22.7                  60.0   \n",
       "\n",
       "   sat_rw_18  sat_math_18  sat_total_18  act_participation_2017  act_eng_2017  \\\n",
       "0        595          571          1166                   100.0          18.9   \n",
       "1        562          544          1106                    65.0          18.7   \n",
       "2        577          572          1149                    62.0          18.6   \n",
       "3        592          576          1169                   100.0          18.9   \n",
       "4        540          536          1076                    31.0          22.5   \n",
       "\n",
       "   act_math_2017  act_reading_2017  act_sci_2017  Composite_2017  \\\n",
       "0           18.4              19.7          19.4            19.0   \n",
       "1           19.8              20.4          19.9            19.0   \n",
       "2           19.8              20.1          19.8            19.0   \n",
       "3           19.0              19.7          19.5            19.0   \n",
       "4           22.7              23.1          22.2            22.0   \n",
       "\n",
       "   sat_participation_2017  sat_rw_2017  sat_math_2017  sat_total_2017  \n",
       "0                     5.0          593            572            1165  \n",
       "1                    38.0          547            533            1080  \n",
       "2                    30.0          563            553            1116  \n",
       "3                     3.0          614            594            1208  \n",
       "4                    53.0          531            524            1055  "
      ]
     },
     "execution_count": 113,
     "metadata": {},
     "output_type": "execute_result"
    }
   ],
   "source": [
    "final.head()"
   ]
  },
  {
   "cell_type": "markdown",
   "metadata": {},
   "source": [
    "## Composite scores for ACT 2017 vs. 2018"
   ]
  },
  {
   "cell_type": "code",
   "execution_count": 114,
   "metadata": {},
   "outputs": [
    {
     "data": {
      "image/png": "[encoded data removed]",
      "text/plain": [
       "<Figure size 432x288 with 1 Axes>"
      ]
     },
     "metadata": {
      "needs_background": "light"
     },
     "output_type": "display_data"
    }
   ],
   "source": [
    "list_col = ['Composite_18','Composite_2017']\n",
    "title = 'ACT Composite 2018 vs ACT Composite 2017'\n",
    "xlabel = 'ACT Composite 2018'\n",
    "ylabel = 'ACT Composite 2017'\n",
    "\n",
    "scatter(final, list_col, title, xlabel, ylabel)"
   ]
  },
  {
   "cell_type": "markdown",
   "metadata": {},
   "source": [
    "#### Plot and interpret boxplots\n",
    "\n",
    "For each numeric variable in the dataframe create a boxplot using Seaborn. Boxplots demonstrate central tendency and spread in variables. In a certain sense, these are somewhat redundant with histograms, but you may be better able to identify clear outliers or differences in IQR, etc.\n",
    "\n",
    "Multiple values can be plotted to a single boxplot as long as they are of the same relative scale (meaning they have similar min/max values).\n",
    "\n",
    "Each boxplot should:\n",
    "- Only include variables of a similar scale\n",
    "- Have clear labels for each variable\n",
    "- Have appropriate titles and labels"
   ]
  },
  {
   "cell_type": "code",
   "execution_count": 115,
   "metadata": {},
   "outputs": [],
   "source": [
    "import scipy.stats as stats"
   ]
  },
  {
   "cell_type": "code",
   "execution_count": 116,
   "metadata": {},
   "outputs": [
    {
     "data": {
      "text/plain": [
       "Index(['State', 'act_participation_18', 'Composite_18', 'sat_participation_18',\n",
       "       'sat_rw_18', 'sat_math_18', 'sat_total_18', 'act_participation_2017',\n",
       "       'act_eng_2017', 'act_math_2017', 'act_reading_2017', 'act_sci_2017',\n",
       "       'Composite_2017', 'sat_participation_2017', 'sat_rw_2017',\n",
       "       'sat_math_2017', 'sat_total_2017'],\n",
       "      dtype='object')"
      ]
     },
     "execution_count": 116,
     "metadata": {},
     "output_type": "execute_result"
    }
   ],
   "source": [
    "final.columns"
   ]
  },
  {
   "cell_type": "code",
   "execution_count": 117,
   "metadata": {},
   "outputs": [
    {
     "data": {
      "text/plain": [
       "Index(['State', 'act_participation_18', 'Composite_18', 'sat_participation_18',\n",
       "       'sat_rw_18', 'sat_math_18', 'sat_total_18', 'act_participation_2017',\n",
       "       'act_eng_2017', 'act_math_2017', 'act_reading_2017', 'act_sci_2017',\n",
       "       'Composite_2017', 'sat_participation_2017', 'sat_rw_2017',\n",
       "       'sat_math_2017', 'sat_total_2017'],\n",
       "      dtype='object')"
      ]
     },
     "execution_count": 117,
     "metadata": {},
     "output_type": "execute_result"
    }
   ],
   "source": [
    "final.columns"
   ]
  },
  {
   "cell_type": "code",
   "execution_count": 118,
   "metadata": {},
   "outputs": [
    {
     "data": {
      "image/png": "[encoded data removed]",
      "text/plain": [
       "<Figure size 648x432 with 1 Axes>"
      ]
     },
     "metadata": {
      "needs_background": "light"
     },
     "output_type": "display_data"
    }
   ],
   "source": [
    "plot_1 = final['act_participation_2017']\n",
    "plot_2 = final['act_participation_18']\n",
    "plot_3 = final['sat_participation_2017']\n",
    "plot_4 = final['sat_participation_18']\n",
    "\n",
    "my_plots = [plot_1, plot_2, plot_3, plot_4]\n",
    "\n",
    "fig = plt.figure(1, figsize=(9, 6))\n",
    "ax = fig.add_subplot(111)\n",
    "bp = ax.boxplot(my_plots)\n",
    "\n",
    "ax.set_xticklabels(['ACT Participation 2017', 'Act Participation 2018', 'SAT Participation 2017', \n",
    "                    'SAT Participation 2018'])\n",
    "plt.title('Particpation Rates for SAT & ACT in 2017 & 2018', fontsize = 20);"
   ]
  },
  {
   "cell_type": "code",
   "execution_count": 119,
   "metadata": {},
   "outputs": [
    {
     "data": {
      "text/plain": [
       "Index(['State', 'act_participation_18', 'Composite_18', 'sat_participation_18',\n",
       "       'sat_rw_18', 'sat_math_18', 'sat_total_18', 'act_participation_2017',\n",
       "       'act_eng_2017', 'act_math_2017', 'act_reading_2017', 'act_sci_2017',\n",
       "       'Composite_2017', 'sat_participation_2017', 'sat_rw_2017',\n",
       "       'sat_math_2017', 'sat_total_2017'],\n",
       "      dtype='object')"
      ]
     },
     "execution_count": 119,
     "metadata": {},
     "output_type": "execute_result"
    }
   ],
   "source": [
    "final.columns"
   ]
  },
  {
   "cell_type": "code",
   "execution_count": 120,
   "metadata": {},
   "outputs": [
    {
     "data": {
      "image/png": "[encoded data removed]",
      "text/plain": [
       "<Figure size 648x432 with 1 Axes>"
      ]
     },
     "metadata": {
      "needs_background": "light"
     },
     "output_type": "display_data"
    }
   ],
   "source": [
    "plot_1 = final['sat_math_18']\n",
    "plot_2 = final['sat_math_2017']\n",
    "\n",
    "my_plots = [plot_1, plot_2]\n",
    "\n",
    "fig = plt.figure(1, figsize=(9, 6))\n",
    "ax = fig.add_subplot(111)\n",
    "bp = ax.boxplot(my_plots)\n",
    "\n",
    "ax.set_xticklabels(['SAT Math 2018', 'SAT Math 2017'])\n",
    "plt.title('Math Scores for SAT in 2017 & 2018', fontsize = 20);"
   ]
  },
  {
   "cell_type": "code",
   "execution_count": 121,
   "metadata": {},
   "outputs": [
    {
     "data": {
      "image/png": "[encoded data removed]",
      "text/plain": [
       "<Figure size 648x432 with 1 Axes>"
      ]
     },
     "metadata": {
      "needs_background": "light"
     },
     "output_type": "display_data"
    }
   ],
   "source": [
    "plot = final['act_math_2017']\n",
    "\n",
    "my_plots = [plot]\n",
    "\n",
    "fig = plt.figure(1, figsize=(9, 6))\n",
    "ax = fig.add_subplot(111)\n",
    "bp = ax.boxplot(my_plots)\n",
    "\n",
    "ax.set_xticklabels(['ACT Math 2017'])\n",
    "plt.title('Math Scores for ACT in 2017', fontsize = 20);"
   ]
  },
  {
   "cell_type": "code",
   "execution_count": 122,
   "metadata": {},
   "outputs": [
    {
     "data": {
      "text/plain": [
       "Index(['State', 'act_participation_18', 'Composite_18', 'sat_participation_18',\n",
       "       'sat_rw_18', 'sat_math_18', 'sat_total_18', 'act_participation_2017',\n",
       "       'act_eng_2017', 'act_math_2017', 'act_reading_2017', 'act_sci_2017',\n",
       "       'Composite_2017', 'sat_participation_2017', 'sat_rw_2017',\n",
       "       'sat_math_2017', 'sat_total_2017'],\n",
       "      dtype='object')"
      ]
     },
     "execution_count": 122,
     "metadata": {},
     "output_type": "execute_result"
    }
   ],
   "source": [
    "final.columns"
   ]
  },
  {
   "cell_type": "code",
   "execution_count": 123,
   "metadata": {},
   "outputs": [
    {
     "data": {
      "image/png": "[encoded data removed]",
      "text/plain": [
       "<Figure size 648x432 with 1 Axes>"
      ]
     },
     "metadata": {
      "needs_background": "light"
     },
     "output_type": "display_data"
    }
   ],
   "source": [
    "plot_1 = final['act_eng_2017']\n",
    "plot_2 = final['act_reading_2017']\n",
    "my_plots = [plot_1, plot_2]\n",
    "\n",
    "fig = plt.figure(1, figsize=(9, 6))\n",
    "ax = fig.add_subplot(111)\n",
    "bp = ax.boxplot(my_plots)\n",
    "\n",
    "ax.set_xticklabels(['ACT English 2017', 'ACT Reading 2017'])\n",
    "plt.title('English Scores for ACT in 2017 & 2018', fontsize = 20);"
   ]
  },
  {
   "cell_type": "code",
   "execution_count": 124,
   "metadata": {},
   "outputs": [
    {
     "data": {
      "image/png": "[encoded data removed]",
      "text/plain": [
       "<Figure size 648x432 with 1 Axes>"
      ]
     },
     "metadata": {
      "needs_background": "light"
     },
     "output_type": "display_data"
    }
   ],
   "source": [
    "plot_1 = final['sat_rw_18']\n",
    "plot_2 = final['sat_rw_2017']\n",
    "\n",
    "my_plots = [plot_1, plot_2]\n",
    "\n",
    "fig = plt.figure(1, figsize=(9, 6))\n",
    "ax = fig.add_subplot(111)\n",
    "bp = ax.boxplot(my_plots)\n",
    "\n",
    "ax.set_xticklabels(['SAT Reading&Writing 2018', \n",
    "                    'SAT Reading&Writing 2017'])\n",
    "plt.title('Reading&Writing Scores for SAT in 2017 & 2018', fontsize = 20);"
   ]
  },
  {
   "cell_type": "code",
   "execution_count": 125,
   "metadata": {},
   "outputs": [
    {
     "data": {
      "text/plain": [
       "Index(['State', 'act_participation_18', 'Composite_18', 'sat_participation_18',\n",
       "       'sat_rw_18', 'sat_math_18', 'sat_total_18', 'act_participation_2017',\n",
       "       'act_eng_2017', 'act_math_2017', 'act_reading_2017', 'act_sci_2017',\n",
       "       'Composite_2017', 'sat_participation_2017', 'sat_rw_2017',\n",
       "       'sat_math_2017', 'sat_total_2017'],\n",
       "      dtype='object')"
      ]
     },
     "execution_count": 125,
     "metadata": {},
     "output_type": "execute_result"
    }
   ],
   "source": [
    "final.columns"
   ]
  },
  {
   "cell_type": "code",
   "execution_count": 126,
   "metadata": {},
   "outputs": [
    {
     "data": {
      "image/png": "[encoded data removed]",
      "text/plain": [
       "<Figure size 648x432 with 1 Axes>"
      ]
     },
     "metadata": {
      "needs_background": "light"
     },
     "output_type": "display_data"
    }
   ],
   "source": [
    "plot_1 = final['Composite_18']\n",
    "plot_2 = final['Composite_2017']\n",
    "\n",
    "\n",
    "my_plots = [plot_1, plot_2]\n",
    "\n",
    "fig = plt.figure(1, figsize=(9, 6))\n",
    "ax = fig.add_subplot(111)\n",
    "bp = ax.boxplot(my_plots)\n",
    "\n",
    "ax.set_xticklabels(['ACT Composite 2018', 'ACT Composite 2017'])\n",
    "plt.title('ACT Composite Scores 2017&2018', fontsize = 20);"
   ]
  },
  {
   "cell_type": "code",
   "execution_count": 127,
   "metadata": {},
   "outputs": [
    {
     "data": {
      "image/png": "[encoded data removed]",
      "text/plain": [
       "<Figure size 648x432 with 1 Axes>"
      ]
     },
     "metadata": {
      "needs_background": "light"
     },
     "output_type": "display_data"
    }
   ],
   "source": [
    "plot_1 = final['sat_total_18']\n",
    "plot_2 = final['sat_total_2017']\n",
    "\n",
    "my_plots = [plot_1, plot_2]\n",
    "\n",
    "fig = plt.figure(1, figsize=(9, 6))\n",
    "ax = fig.add_subplot(111)\n",
    "bp = ax.boxplot(my_plots)\n",
    "\n",
    "ax.set_xticklabels(['SAT Total 2018', 'SAT Total 2017'])\n",
    "plt.title('SAT Total Scores 2017&2018', fontsize = 20);"
   ]
  },
  {
   "cell_type": "markdown",
   "metadata": {},
   "source": [
    "#### Feel free to do additional plots below\n",
    "*(do research and choose your own chart types & variables)*\n",
    "\n",
    "Are there any additional trends or relationships you haven't explored? Was there something interesting you saw that you'd like to dive further into? It's likely that there are a few more plots you might want to generate to support your narrative and recommendations that you are building toward. **As always, make sure you're interpreting your plots as you go**."
   ]
  },
  {
   "cell_type": "code",
   "execution_count": null,
   "metadata": {},
   "outputs": [],
   "source": []
  },
  {
   "cell_type": "markdown",
   "metadata": {},
   "source": [
    "#### (Optional): Using Tableau, create a choropleth map for each variable using a map of the US. \n",
    "\n",
    "Save this plot as an image file in an images directory, provide a relative path, and insert the image into notebook in markdown."
   ]
  },
  {
   "cell_type": "code",
   "execution_count": null,
   "metadata": {},
   "outputs": [],
   "source": []
  },
  {
   "cell_type": "markdown",
   "metadata": {},
   "source": [
    "## Descriptive and Inferential Statistics"
   ]
  },
  {
   "cell_type": "markdown",
   "metadata": {},
   "source": [
    "#### Summarizing Distributions\n",
    "\n",
    "Above, we used pandas `describe` to provide quick summary statistics of our numeric columns. We also demonstrated many visual relationships.\n",
    "\n",
    "As data scientists, having a complete understanding of data is imperative prior to modeling.\n",
    "\n",
    "While we will continue to build our analytic tools, we know that measures of *central tendency*, *spread*, and *shape/skewness* provide a quick summary of distributions.\n",
    "\n",
    "For each variable in your data, summarize the underlying distributions (in words & statistics)\n",
    " - Be thorough in your verbal description of these distributions.\n",
    " - Be sure to back up these summaries with statistics."
   ]
  },
  {
   "cell_type": "code",
   "execution_count": 128,
   "metadata": {},
   "outputs": [
    {
     "data": {
      "text/plain": [
       "Index(['State', 'act_participation_18', 'Composite_18', 'sat_participation_18',\n",
       "       'sat_rw_18', 'sat_math_18', 'sat_total_18', 'act_participation_2017',\n",
       "       'act_eng_2017', 'act_math_2017', 'act_reading_2017', 'act_sci_2017',\n",
       "       'Composite_2017', 'sat_participation_2017', 'sat_rw_2017',\n",
       "       'sat_math_2017', 'sat_total_2017'],\n",
       "      dtype='object')"
      ]
     },
     "execution_count": 128,
     "metadata": {},
     "output_type": "execute_result"
    }
   ],
   "source": [
    "final.columns"
   ]
  },
  {
   "cell_type": "code",
   "execution_count": 129,
   "metadata": {},
   "outputs": [],
   "source": [
    "box_cols = [\n",
    "    'act_participation_18', \n",
    "    'Composite_18', \n",
    "    'sat_participation_18',\n",
    "    'sat_rw_18', \n",
    "    'sat_math_18', \n",
    "    'sat_total_18', \n",
    "    'act_participation_2017',\n",
    "    'act_eng_2017', \n",
    "    'act_math_2017', \n",
    "    'act_reading_2017', \n",
    "    'act_sci_2017',\n",
    "    'Composite_2017', \n",
    "    'sat_participation_2017', \n",
    "    'sat_rw_2017',\n",
    "    'sat_math_2017', \n",
    "    'sat_total_2017']"
   ]
  },
  {
   "cell_type": "code",
   "execution_count": 130,
   "metadata": {},
   "outputs": [
    {
     "name": "stdout",
     "output_type": "stream",
     "text": [
      "For act_participation_18, 1. skewness:-0.026 2. central tendency: 61.725 3. standard deviation: 33.702\n",
      "For Composite_18, 1. skewness:0.264 2. central tendency: 21.496 3. standard deviation: 2.091\n",
      "For sat_participation_18, 1. skewness:0.132 2. central tendency: 45.745 3. standard deviation: 36.947\n",
      "For sat_rw_18, 1. skewness:0.274 2. central tendency: 563.686 3. standard deviation: 47.035\n",
      "For sat_math_18, 1. skewness:0.515 2. central tendency: 556.235 3. standard deviation: 47.302\n",
      "For sat_total_18, 1. skewness:0.453 2. central tendency: 1120.02 3. standard deviation: 93.227\n",
      "For act_participation_2017, 1. skewness:-0.192 2. central tendency: 65.255 3. standard deviation: 31.824\n",
      "For act_eng_2017, 1. skewness:0.342 2. central tendency: 20.931 3. standard deviation: 2.33\n",
      "For act_math_2017, 1. skewness:0.323 2. central tendency: 21.182 3. standard deviation: 1.962\n",
      "For act_reading_2017, 1. skewness:0.261 2. central tendency: 22.014 3. standard deviation: 2.047\n",
      "For act_sci_2017, 1. skewness:-3.978 2. central tendency: 21.041 3. standard deviation: 3.151\n",
      "For Composite_2017, 1. skewness:0.354 2. central tendency: 21.043 3. standard deviation: 2.046\n",
      "For sat_participation_2017, 1. skewness:0.336 2. central tendency: 39.804 3. standard deviation: 34.929\n",
      "For sat_rw_2017, 1. skewness:0.265 2. central tendency: 569.118 3. standard deviation: 45.217\n",
      "For sat_math_2017, 1. skewness:-3.853 2. central tendency: 547.627 3. standard deviation: 84.073\n",
      "For sat_total_2017, 1. skewness:0.302 2. central tendency: 1126.098 3. standard deviation: 91.584\n"
     ]
    }
   ],
   "source": [
    "for x in box_cols:\n",
    "    skew = stats.skew(final[x])\n",
    "    central_tendency = final[x].mean()\n",
    "    std = np.std(final[x])\n",
    "    print(f'For {x}, 1. skewness:{round(skew,3)} 2. central tendency: {round(central_tendency,3)} 3. standard deviation: {round(std,3)}')"
   ]
  },
  {
   "cell_type": "markdown",
   "metadata": {},
   "source": [
    "Answers:"
   ]
  },
  {
   "cell_type": "markdown",
   "metadata": {},
   "source": [
    "#### We generally assuming that data we sample from a population will be normally distributed. Do we observe this trend?"
   ]
  },
  {
   "cell_type": "markdown",
   "metadata": {},
   "source": [
    "Answer: No we don't see normally distributed data in particular I believe this is due to different state laws. Some requiring SAT or ACT test and some not requiring it at all which results in different sample sizes."
   ]
  },
  {
   "cell_type": "markdown",
   "metadata": {},
   "source": [
    "Does This Assumption Hold for:\n",
    "    - Math\n",
    "    - Reading\n",
    "    - Rates\n",
    "Explain your answers for each distribution and how you think this will affect estimates made from these data."
   ]
  },
  {
   "cell_type": "code",
   "execution_count": 131,
   "metadata": {},
   "outputs": [
    {
     "data": {
      "text/plain": [
       "Index(['State', 'act_participation_18', 'Composite_18', 'sat_participation_18',\n",
       "       'sat_rw_18', 'sat_math_18', 'sat_total_18', 'act_participation_2017',\n",
       "       'act_eng_2017', 'act_math_2017', 'act_reading_2017', 'act_sci_2017',\n",
       "       'Composite_2017', 'sat_participation_2017', 'sat_rw_2017',\n",
       "       'sat_math_2017', 'sat_total_2017'],\n",
       "      dtype='object')"
      ]
     },
     "execution_count": 131,
     "metadata": {},
     "output_type": "execute_result"
    }
   ],
   "source": [
    "final.columns"
   ]
  },
  {
   "cell_type": "code",
   "execution_count": 132,
   "metadata": {},
   "outputs": [
    {
     "data": {
      "text/plain": [
       "[]"
      ]
     },
     "execution_count": 132,
     "metadata": {},
     "output_type": "execute_result"
    },
    {
     "data": {
      "image/png": "[encoded data removed]",
      "text/plain": [
       "<Figure size 432x288 with 1 Axes>"
      ]
     },
     "metadata": {
      "needs_background": "light"
     },
     "output_type": "display_data"
    }
   ],
   "source": [
    "# x = (final['sat_math_18'], name=\"SAT Math 2018\n",
    "import scipy\n",
    "ax = sns.distplot(final['sat_math_18'],fit=scipy.stats.norm, kde=False, hist=True, color='r', label='SAT Math 2018')\n",
    "ax.plot()\n",
    "# sns.distplot(final['sat_math_18'])"
   ]
  },
  {
   "cell_type": "code",
   "execution_count": 157,
   "metadata": {},
   "outputs": [
    {
     "data": {
      "image/png": "[encoded data removed]",
      "text/plain": [
       "<Figure size 432x288 with 1 Axes>"
      ]
     },
     "metadata": {
      "needs_background": "light"
     },
     "output_type": "display_data"
    }
   ],
   "source": [
    "# Thanks StackOverflow\n",
    "sample_means = []\n",
    "\n",
    "for i in range(10_000):\n",
    "    s = np.random.choice(final['sat_math_18'], size= 50, replace=False)\n",
    "    x_bar = s.mean()\n",
    "    sample_means.append(x_bar)\n",
    "\n",
    "plt.hist(sample_means);"
   ]
  },
  {
   "cell_type": "code",
   "execution_count": 134,
   "metadata": {},
   "outputs": [
    {
     "data": {
      "text/plain": [
       "[]"
      ]
     },
     "execution_count": 134,
     "metadata": {},
     "output_type": "execute_result"
    },
    {
     "data": {
      "image/png": "[encoded data removed]",
      "text/plain": [
       "<Figure size 432x288 with 1 Axes>"
      ]
     },
     "metadata": {
      "needs_background": "light"
     },
     "output_type": "display_data"
    }
   ],
   "source": [
    "ax = sns.distplot(final['sat_math_2017'],fit=scipy.stats.norm, kde=False, hist=True, color='r', label='SAT Math 2018')\n",
    "ax.plot()"
   ]
  },
  {
   "cell_type": "code",
   "execution_count": 158,
   "metadata": {},
   "outputs": [
    {
     "data": {
      "image/png": "[encoded data removed]",
      "text/plain": [
       "<Figure size 432x288 with 1 Axes>"
      ]
     },
     "metadata": {
      "needs_background": "light"
     },
     "output_type": "display_data"
    }
   ],
   "source": [
    "sample_means = []\n",
    "\n",
    "for i in range(10_000):\n",
    "    s = np.random.choice(final['sat_math_2017'], size= 50, replace=False)\n",
    "    x_bar = s.mean()\n",
    "    sample_means.append(x_bar)\n",
    "\n",
    "plt.hist(sample_means);"
   ]
  },
  {
   "cell_type": "code",
   "execution_count": 136,
   "metadata": {},
   "outputs": [
    {
     "data": {
      "text/plain": [
       "[]"
      ]
     },
     "execution_count": 136,
     "metadata": {},
     "output_type": "execute_result"
    },
    {
     "data": {
      "image/png": "[encoded data removed]",
      "text/plain": [
       "<Figure size 432x288 with 1 Axes>"
      ]
     },
     "metadata": {
      "needs_background": "light"
     },
     "output_type": "display_data"
    }
   ],
   "source": [
    "ax = sns.distplot(final['act_math_2017'],fit=scipy.stats.norm, kde=False, hist=True, color='r', label='ACT Math 2017')\n",
    "ax.plot()"
   ]
  },
  {
   "cell_type": "code",
   "execution_count": 159,
   "metadata": {},
   "outputs": [
    {
     "data": {
      "image/png": "[encoded data removed]",
      "text/plain": [
       "<Figure size 432x288 with 1 Axes>"
      ]
     },
     "metadata": {
      "needs_background": "light"
     },
     "output_type": "display_data"
    }
   ],
   "source": [
    "sample_means = []\n",
    "\n",
    "for i in range(10_000):\n",
    "    s = np.random.choice(final['act_math_2017'], size= 50, replace=False)\n",
    "    x_bar = s.mean()\n",
    "    sample_means.append(x_bar)\n",
    "\n",
    "plt.hist(sample_means);"
   ]
  },
  {
   "cell_type": "code",
   "execution_count": 138,
   "metadata": {},
   "outputs": [
    {
     "data": {
      "text/plain": [
       "Index(['State', 'act_participation_18', 'Composite_18', 'sat_participation_18',\n",
       "       'sat_rw_18', 'sat_math_18', 'sat_total_18', 'act_participation_2017',\n",
       "       'act_eng_2017', 'act_math_2017', 'act_reading_2017', 'act_sci_2017',\n",
       "       'Composite_2017', 'sat_participation_2017', 'sat_rw_2017',\n",
       "       'sat_math_2017', 'sat_total_2017'],\n",
       "      dtype='object')"
      ]
     },
     "execution_count": 138,
     "metadata": {},
     "output_type": "execute_result"
    }
   ],
   "source": [
    "final.columns"
   ]
  },
  {
   "cell_type": "code",
   "execution_count": 139,
   "metadata": {},
   "outputs": [
    {
     "data": {
      "text/plain": [
       "[]"
      ]
     },
     "execution_count": 139,
     "metadata": {},
     "output_type": "execute_result"
    },
    {
     "data": {
      "image/png": "[encoded data removed]",
      "text/plain": [
       "<Figure size 432x288 with 1 Axes>"
      ]
     },
     "metadata": {
      "needs_background": "light"
     },
     "output_type": "display_data"
    }
   ],
   "source": [
    "ax = sns.distplot(final['act_participation_2017'],fit=scipy.stats.norm, kde=False, hist=True, color='r', label='ACT Participation 2017')\n",
    "ax.plot()"
   ]
  },
  {
   "cell_type": "code",
   "execution_count": 160,
   "metadata": {},
   "outputs": [
    {
     "data": {
      "image/png": "[encoded data removed]",
      "text/plain": [
       "<Figure size 432x288 with 1 Axes>"
      ]
     },
     "metadata": {
      "needs_background": "light"
     },
     "output_type": "display_data"
    }
   ],
   "source": [
    "sample_means = []\n",
    "\n",
    "for i in range(10_000):\n",
    "    s = np.random.choice(final['act_participation_2017'], size= 50, replace=False)\n",
    "    x_bar = s.mean()\n",
    "    sample_means.append(x_bar)\n",
    "\n",
    "plt.hist(sample_means);"
   ]
  },
  {
   "cell_type": "code",
   "execution_count": 141,
   "metadata": {},
   "outputs": [
    {
     "data": {
      "text/plain": [
       "[]"
      ]
     },
     "execution_count": 141,
     "metadata": {},
     "output_type": "execute_result"
    },
    {
     "data": {
      "image/png": "[encoded data removed]",
      "text/plain": [
       "<Figure size 432x288 with 1 Axes>"
      ]
     },
     "metadata": {
      "needs_background": "light"
     },
     "output_type": "display_data"
    }
   ],
   "source": [
    "ax = sns.distplot(final['act_participation_18'],fit=scipy.stats.norm, kde=False, hist=True, color='r', label='ACT Math 2017')\n",
    "ax.plot()"
   ]
  },
  {
   "cell_type": "code",
   "execution_count": 161,
   "metadata": {},
   "outputs": [
    {
     "data": {
      "image/png": "[encoded data removed]",
      "text/plain": [
       "<Figure size 432x288 with 1 Axes>"
      ]
     },
     "metadata": {
      "needs_background": "light"
     },
     "output_type": "display_data"
    }
   ],
   "source": [
    "sample_means = []\n",
    "\n",
    "for i in range(10_000):\n",
    "    s = np.random.choice(final['act_participation_18'], size= 50, replace=False)\n",
    "    x_bar = s.mean()\n",
    "    sample_means.append(x_bar)\n",
    "\n",
    "plt.hist(sample_means);"
   ]
  },
  {
   "cell_type": "code",
   "execution_count": 143,
   "metadata": {},
   "outputs": [
    {
     "data": {
      "text/plain": [
       "[]"
      ]
     },
     "execution_count": 143,
     "metadata": {},
     "output_type": "execute_result"
    },
    {
     "data": {
      "image/png": "[encoded data removed]",
      "text/plain": [
       "<Figure size 432x288 with 1 Axes>"
      ]
     },
     "metadata": {
      "needs_background": "light"
     },
     "output_type": "display_data"
    }
   ],
   "source": [
    "ax = sns.distplot(final['sat_participation_18'],fit=scipy.stats.norm, kde=False, hist=True, color='r', label='ACT Math 2017')\n",
    "ax.plot()"
   ]
  },
  {
   "cell_type": "code",
   "execution_count": 162,
   "metadata": {},
   "outputs": [
    {
     "data": {
      "image/png": "[encoded data removed]",
      "text/plain": [
       "<Figure size 432x288 with 1 Axes>"
      ]
     },
     "metadata": {
      "needs_background": "light"
     },
     "output_type": "display_data"
    }
   ],
   "source": [
    "sample_means = []\n",
    "\n",
    "for i in range(10_000):\n",
    "    s = np.random.choice(final['sat_math_18'], size= 50, replace=False)\n",
    "    x_bar = s.mean()\n",
    "    sample_means.append(x_bar)\n",
    "\n",
    "plt.hist(sample_means);"
   ]
  },
  {
   "cell_type": "code",
   "execution_count": 145,
   "metadata": {},
   "outputs": [
    {
     "data": {
      "text/plain": [
       "[]"
      ]
     },
     "execution_count": 145,
     "metadata": {},
     "output_type": "execute_result"
    },
    {
     "data": {
      "image/png": "[encoded data removed]",
      "text/plain": [
       "<Figure size 432x288 with 1 Axes>"
      ]
     },
     "metadata": {
      "needs_background": "light"
     },
     "output_type": "display_data"
    }
   ],
   "source": [
    "ax = sns.distplot(final['sat_participation_2017'],fit=scipy.stats.norm, kde=False, hist=True, color='r', label='SAT Participation 2017')\n",
    "ax.plot()"
   ]
  },
  {
   "cell_type": "code",
   "execution_count": 164,
   "metadata": {},
   "outputs": [
    {
     "data": {
      "text/plain": [
       "(array([1361.,  188.,  421., 1803.,  586.,  612.,  207.,  391.,  416.,\n",
       "        4015.]),\n",
       " array([38.6  , 38.796, 38.992, 39.188, 39.384, 39.58 , 39.776, 39.972,\n",
       "        40.168, 40.364, 40.56 ]),\n",
       " <a list of 10 Patch objects>)"
      ]
     },
     "execution_count": 164,
     "metadata": {},
     "output_type": "execute_result"
    },
    {
     "data": {
      "image/png": "[encoded data removed]",
      "text/plain": [
       "<Figure size 432x288 with 1 Axes>"
      ]
     },
     "metadata": {
      "needs_background": "light"
     },
     "output_type": "display_data"
    }
   ],
   "source": [
    "sampleMeans = []\n",
    "for i in range(10_000):\n",
    "    s = np.random.choice(final['sat_participation_2017'], size= 50, replace=False)\n",
    "    sampleMean = s.mean()\n",
    "    sampleMeans.append(sampleMean)\n",
    "plt.hist(sampleMeans)"
   ]
  },
  {
   "cell_type": "code",
   "execution_count": 147,
   "metadata": {},
   "outputs": [
    {
     "data": {
      "text/plain": [
       "Index(['State', 'act_participation_18', 'Composite_18', 'sat_participation_18',\n",
       "       'sat_rw_18', 'sat_math_18', 'sat_total_18', 'act_participation_2017',\n",
       "       'act_eng_2017', 'act_math_2017', 'act_reading_2017', 'act_sci_2017',\n",
       "       'Composite_2017', 'sat_participation_2017', 'sat_rw_2017',\n",
       "       'sat_math_2017', 'sat_total_2017'],\n",
       "      dtype='object')"
      ]
     },
     "execution_count": 147,
     "metadata": {},
     "output_type": "execute_result"
    }
   ],
   "source": [
    "final.columns"
   ]
  },
  {
   "cell_type": "code",
   "execution_count": 148,
   "metadata": {},
   "outputs": [
    {
     "data": {
      "text/plain": [
       "[]"
      ]
     },
     "execution_count": 148,
     "metadata": {},
     "output_type": "execute_result"
    },
    {
     "data": {
      "image/png": "[encoded data removed]",
      "text/plain": [
       "<Figure size 432x288 with 1 Axes>"
      ]
     },
     "metadata": {
      "needs_background": "light"
     },
     "output_type": "display_data"
    }
   ],
   "source": [
    "ax = sns.distplot(final['act_eng_2017'],fit=scipy.stats.norm, kde=False, hist=True, color='r', label='ACT English 2017')\n",
    "ax.plot()"
   ]
  },
  {
   "cell_type": "code",
   "execution_count": 165,
   "metadata": {},
   "outputs": [
    {
     "data": {
      "text/plain": [
       "(array([ 573., 1388.,  794.,  592., 1380.,  940., 1541., 2021.,  554.,\n",
       "         217.]),\n",
       " array([20.84  , 20.8584, 20.8768, 20.8952, 20.9136, 20.932 , 20.9504,\n",
       "        20.9688, 20.9872, 21.0056, 21.024 ]),\n",
       " <a list of 10 Patch objects>)"
      ]
     },
     "execution_count": 165,
     "metadata": {},
     "output_type": "execute_result"
    },
    {
     "data": {
      "image/png": "[encoded data removed]",
      "text/plain": [
       "<Figure size 432x288 with 1 Axes>"
      ]
     },
     "metadata": {
      "needs_background": "light"
     },
     "output_type": "display_data"
    }
   ],
   "source": [
    "sampleMeans = []\n",
    "for _ in range(10_000):\n",
    "    s = np.random.choice(final['act_eng_2017'], size= 50, replace=False)\n",
    "    sampleMean = s.mean()\n",
    "    sampleMeans.append(sampleMean)\n",
    "plt.hist(sampleMeans)"
   ]
  },
  {
   "cell_type": "code",
   "execution_count": 150,
   "metadata": {},
   "outputs": [
    {
     "data": {
      "text/plain": [
       "[]"
      ]
     },
     "execution_count": 150,
     "metadata": {},
     "output_type": "execute_result"
    },
    {
     "data": {
      "image/png": "[encoded data removed]",
      "text/plain": [
       "<Figure size 432x288 with 1 Axes>"
      ]
     },
     "metadata": {
      "needs_background": "light"
     },
     "output_type": "display_data"
    }
   ],
   "source": [
    "ax = sns.distplot(final['act_reading_2017'],fit=scipy.stats.norm, kde=False, hist=True, color='r', label='ACT Reading 2017')\n",
    "ax.plot()"
   ]
  },
  {
   "cell_type": "code",
   "execution_count": 166,
   "metadata": {},
   "outputs": [
    {
     "data": {
      "text/plain": [
       "(array([ 594., 1369.,  813.,  597., 1208.,  793., 2148., 1560.,  580.,\n",
       "         338.]),\n",
       " array([21.934 , 21.9498, 21.9656, 21.9814, 21.9972, 22.013 , 22.0288,\n",
       "        22.0446, 22.0604, 22.0762, 22.092 ]),\n",
       " <a list of 10 Patch objects>)"
      ]
     },
     "execution_count": 166,
     "metadata": {},
     "output_type": "execute_result"
    },
    {
     "data": {
      "image/png": "[encoded data removed]",
      "text/plain": [
       "<Figure size 432x288 with 1 Axes>"
      ]
     },
     "metadata": {
      "needs_background": "light"
     },
     "output_type": "display_data"
    }
   ],
   "source": [
    "sampleMeans = []\n",
    "for _ in range(10_000):\n",
    "    s = np.random.choice(final['act_reading_2017'], size= 50, replace=False)\n",
    "    sampleMean = s.mean()\n",
    "    sampleMeans.append(sampleMean)\n",
    "plt.hist(sampleMeans)"
   ]
  },
  {
   "cell_type": "code",
   "execution_count": 152,
   "metadata": {},
   "outputs": [
    {
     "data": {
      "text/plain": [
       "[]"
      ]
     },
     "execution_count": 152,
     "metadata": {},
     "output_type": "execute_result"
    },
    {
     "data": {
      "image/png": "[encoded data removed]",
      "text/plain": [
       "<Figure size 432x288 with 1 Axes>"
      ]
     },
     "metadata": {
      "needs_background": "light"
     },
     "output_type": "display_data"
    }
   ],
   "source": [
    "ax = sns.distplot(final['sat_rw_18'],fit=scipy.stats.norm, kde=False, hist=True, color='r', label='SAT Reading&Writing 2018')\n",
    "ax.plot()"
   ]
  },
  {
   "cell_type": "code",
   "execution_count": 167,
   "metadata": {},
   "outputs": [
    {
     "data": {
      "text/plain": [
       "(array([1963.,  599.,  404.,  201., 1399., 1342., 1735., 1009.,  980.,\n",
       "         368.]),\n",
       " array([562.1  , 562.426, 562.752, 563.078, 563.404, 563.73 , 564.056,\n",
       "        564.382, 564.708, 565.034, 565.36 ]),\n",
       " <a list of 10 Patch objects>)"
      ]
     },
     "execution_count": 167,
     "metadata": {},
     "output_type": "execute_result"
    },
    {
     "data": {
      "image/png": "[encoded data removed]",
      "text/plain": [
       "<Figure size 432x288 with 1 Axes>"
      ]
     },
     "metadata": {
      "needs_background": "light"
     },
     "output_type": "display_data"
    }
   ],
   "source": [
    "sampleMeans = []\n",
    "for _ in range(10_000):\n",
    "    s = np.random.choice(final['sat_rw_18'], size= 50, replace=False)\n",
    "    sampleMean = s.mean()\n",
    "    sampleMeans.append(sampleMean)\n",
    "plt.hist(sampleMeans)"
   ]
  },
  {
   "cell_type": "code",
   "execution_count": 154,
   "metadata": {},
   "outputs": [
    {
     "data": {
      "text/plain": [
       "[]"
      ]
     },
     "execution_count": 154,
     "metadata": {},
     "output_type": "execute_result"
    },
    {
     "data": {
      "image/png": "[encoded data removed]",
      "text/plain": [
       "<Figure size 432x288 with 1 Axes>"
      ]
     },
     "metadata": {
      "needs_background": "light"
     },
     "output_type": "display_data"
    }
   ],
   "source": [
    "ax = sns.distplot(final['sat_rw_2017'],fit=scipy.stats.norm, kde=False, hist=True, color='r', label='SAT Reading&Writing 2017')\n",
    "ax.plot()"
   ]
  },
  {
   "cell_type": "code",
   "execution_count": 168,
   "metadata": {},
   "outputs": [
    {
     "data": {
      "text/plain": [
       "(array([1667.,  993.,  580.,  192.,  394., 1775., 2199., 1016.,  980.,\n",
       "         204.]),\n",
       " array([567.62 , 567.944, 568.268, 568.592, 568.916, 569.24 , 569.564,\n",
       "        569.888, 570.212, 570.536, 570.86 ]),\n",
       " <a list of 10 Patch objects>)"
      ]
     },
     "execution_count": 168,
     "metadata": {},
     "output_type": "execute_result"
    },
    {
     "data": {
      "image/png": "[encoded data removed]",
      "text/plain": [
       "<Figure size 432x288 with 1 Axes>"
      ]
     },
     "metadata": {
      "needs_background": "light"
     },
     "output_type": "display_data"
    }
   ],
   "source": [
    "sampleMeans = []\n",
    "for _ in range(10_000):\n",
    "    s = np.random.choice(final['sat_rw_2017'], size= 50, replace=False)\n",
    "    sampleMean = s.mean()\n",
    "    sampleMeans.append(sampleMean)\n",
    "plt.hist(sampleMeans)"
   ]
  },
  {
   "cell_type": "markdown",
   "metadata": {},
   "source": [
    "Answer:"
   ]
  },
  {
   "cell_type": "code",
   "execution_count": 169,
   "metadata": {},
   "outputs": [
    {
     "data": {
      "text/html": [
       "<div>\n",
       "<style scoped>\n",
       "    .dataframe tbody tr th:only-of-type {\n",
       "        vertical-align: middle;\n",
       "    }\n",
       "\n",
       "    .dataframe tbody tr th {\n",
       "        vertical-align: top;\n",
       "    }\n",
       "\n",
       "    .dataframe thead th {\n",
       "        text-align: right;\n",
       "    }\n",
       "</style>\n",
       "<table border=\"1\" class=\"dataframe\">\n",
       "  <thead>\n",
       "    <tr style=\"text-align: right;\">\n",
       "      <th></th>\n",
       "      <th>State</th>\n",
       "      <th>act_participation_18</th>\n",
       "      <th>Composite_18</th>\n",
       "      <th>sat_participation_18</th>\n",
       "      <th>sat_rw_18</th>\n",
       "      <th>sat_math_18</th>\n",
       "      <th>sat_total_18</th>\n",
       "      <th>act_participation_2017</th>\n",
       "      <th>act_eng_2017</th>\n",
       "      <th>act_math_2017</th>\n",
       "      <th>act_reading_2017</th>\n",
       "      <th>act_sci_2017</th>\n",
       "      <th>Composite_2017</th>\n",
       "      <th>sat_participation_2017</th>\n",
       "      <th>sat_rw_2017</th>\n",
       "      <th>sat_math_2017</th>\n",
       "      <th>sat_total_2017</th>\n",
       "    </tr>\n",
       "  </thead>\n",
       "  <tbody>\n",
       "    <tr>\n",
       "      <th>0</th>\n",
       "      <td>Alabama</td>\n",
       "      <td>100.0</td>\n",
       "      <td>19.1</td>\n",
       "      <td>6.0</td>\n",
       "      <td>595</td>\n",
       "      <td>571</td>\n",
       "      <td>1166</td>\n",
       "      <td>100.0</td>\n",
       "      <td>18.9</td>\n",
       "      <td>18.4</td>\n",
       "      <td>19.7</td>\n",
       "      <td>19.4</td>\n",
       "      <td>19.0</td>\n",
       "      <td>5.0</td>\n",
       "      <td>593</td>\n",
       "      <td>572</td>\n",
       "      <td>1165</td>\n",
       "    </tr>\n",
       "    <tr>\n",
       "      <th>1</th>\n",
       "      <td>Alaska</td>\n",
       "      <td>33.0</td>\n",
       "      <td>20.8</td>\n",
       "      <td>43.0</td>\n",
       "      <td>562</td>\n",
       "      <td>544</td>\n",
       "      <td>1106</td>\n",
       "      <td>65.0</td>\n",
       "      <td>18.7</td>\n",
       "      <td>19.8</td>\n",
       "      <td>20.4</td>\n",
       "      <td>19.9</td>\n",
       "      <td>19.0</td>\n",
       "      <td>38.0</td>\n",
       "      <td>547</td>\n",
       "      <td>533</td>\n",
       "      <td>1080</td>\n",
       "    </tr>\n",
       "    <tr>\n",
       "      <th>2</th>\n",
       "      <td>Arizona</td>\n",
       "      <td>66.0</td>\n",
       "      <td>19.2</td>\n",
       "      <td>29.0</td>\n",
       "      <td>577</td>\n",
       "      <td>572</td>\n",
       "      <td>1149</td>\n",
       "      <td>62.0</td>\n",
       "      <td>18.6</td>\n",
       "      <td>19.8</td>\n",
       "      <td>20.1</td>\n",
       "      <td>19.8</td>\n",
       "      <td>19.0</td>\n",
       "      <td>30.0</td>\n",
       "      <td>563</td>\n",
       "      <td>553</td>\n",
       "      <td>1116</td>\n",
       "    </tr>\n",
       "    <tr>\n",
       "      <th>3</th>\n",
       "      <td>Arkansas</td>\n",
       "      <td>100.0</td>\n",
       "      <td>19.4</td>\n",
       "      <td>5.0</td>\n",
       "      <td>592</td>\n",
       "      <td>576</td>\n",
       "      <td>1169</td>\n",
       "      <td>100.0</td>\n",
       "      <td>18.9</td>\n",
       "      <td>19.0</td>\n",
       "      <td>19.7</td>\n",
       "      <td>19.5</td>\n",
       "      <td>19.0</td>\n",
       "      <td>3.0</td>\n",
       "      <td>614</td>\n",
       "      <td>594</td>\n",
       "      <td>1208</td>\n",
       "    </tr>\n",
       "    <tr>\n",
       "      <th>4</th>\n",
       "      <td>California</td>\n",
       "      <td>27.0</td>\n",
       "      <td>22.7</td>\n",
       "      <td>60.0</td>\n",
       "      <td>540</td>\n",
       "      <td>536</td>\n",
       "      <td>1076</td>\n",
       "      <td>31.0</td>\n",
       "      <td>22.5</td>\n",
       "      <td>22.7</td>\n",
       "      <td>23.1</td>\n",
       "      <td>22.2</td>\n",
       "      <td>22.0</td>\n",
       "      <td>53.0</td>\n",
       "      <td>531</td>\n",
       "      <td>524</td>\n",
       "      <td>1055</td>\n",
       "    </tr>\n",
       "  </tbody>\n",
       "</table>\n",
       "</div>"
      ],
      "text/plain": [
       "        State  act_participation_18  Composite_18  sat_participation_18  \\\n",
       "0     Alabama                 100.0          19.1                   6.0   \n",
       "1      Alaska                  33.0          20.8                  43.0   \n",
       "2     Arizona                  66.0          19.2                  29.0   \n",
       "3    Arkansas                 100.0          19.4                   5.0   \n",
       "4  California                  27.0          22.7                  60.0   \n",
       "\n",
       "   sat_rw_18  sat_math_18  sat_total_18  act_participation_2017  act_eng_2017  \\\n",
       "0        595          571          1166                   100.0          18.9   \n",
       "1        562          544          1106                    65.0          18.7   \n",
       "2        577          572          1149                    62.0          18.6   \n",
       "3        592          576          1169                   100.0          18.9   \n",
       "4        540          536          1076                    31.0          22.5   \n",
       "\n",
       "   act_math_2017  act_reading_2017  act_sci_2017  Composite_2017  \\\n",
       "0           18.4              19.7          19.4            19.0   \n",
       "1           19.8              20.4          19.9            19.0   \n",
       "2           19.8              20.1          19.8            19.0   \n",
       "3           19.0              19.7          19.5            19.0   \n",
       "4           22.7              23.1          22.2            22.0   \n",
       "\n",
       "   sat_participation_2017  sat_rw_2017  sat_math_2017  sat_total_2017  \n",
       "0                     5.0          593            572            1165  \n",
       "1                    38.0          547            533            1080  \n",
       "2                    30.0          563            553            1116  \n",
       "3                     3.0          614            594            1208  \n",
       "4                    53.0          531            524            1055  "
      ]
     },
     "execution_count": 169,
     "metadata": {},
     "output_type": "execute_result"
    }
   ],
   "source": [
    "final.head()"
   ]
  },
  {
   "cell_type": "markdown",
   "metadata": {},
   "source": [
    "#### Estimate Limits of Data\n",
    "\n",
    "Suppose we only seek to understand the relationship between SAT and ACT participation rates in 2017. \n",
    "\n",
    "##### Does it make sense to conduct statistical inference given these data specifically? \n",
    "\n",
    "Why or why not?\n",
    "\n",
    "*(think about granularity, aggregation, the relationships between populations size & rates...consider the actually populations these data describe in answering this question)*"
   ]
  },
  {
   "cell_type": "markdown",
   "metadata": {},
   "source": [
    "Answer: It does NOT make sense to conduct statistical inference because some states have free ACT testing or require students take the ACT. Therefore, some states all high school students take the ACT where some states hardly any students take the ACT.\n",
    "Source: https://magoosh.com/hs/act/2017/states-provide-act-free/"
   ]
  },
  {
   "cell_type": "markdown",
   "metadata": {},
   "source": [
    "##### Is it appropriate to compare *these* specific SAT and ACT math scores? \n",
    "\n",
    "Why or why not?"
   ]
  },
  {
   "cell_type": "markdown",
   "metadata": {},
   "source": [
    "Answer: There are resources online that speak of concordance for both the ACT & SAT which essentially means that with certain tools they can convert your scores. I believe it is hard to compare the different math scores when certain states provide free testing so they have a higher sample taking the test.\n",
    "\n",
    "Source: https://collegereadiness.collegeboard.org/pdf/guide-2018-act-sat-concordance.pdf"
   ]
  },
  {
   "cell_type": "markdown",
   "metadata": {},
   "source": [
    "#### Statistical Evaluation of Distributions \n",
    "\n",
    "**If you feel it's appropriate**, using methods we discussed in class, run hypothesis tests to compare variables of interest in our dataset. "
   ]
  },
  {
   "cell_type": "code",
   "execution_count": 156,
   "metadata": {},
   "outputs": [],
   "source": [
    "# Code:"
   ]
  },
  {
   "cell_type": "markdown",
   "metadata": {},
   "source": [
    "## Outside Research"
   ]
  },
  {
   "cell_type": "markdown",
   "metadata": {},
   "source": [
    "Based upon your observations, choose **three** states that demonstrate interesting trends in their SAT and/or ACT participation rates. Spend some time doing outside research on state policies that might influence these rates, and summarize your findings below. **Feel free to go back and create new plots that highlight these states of interest**. If you bring in any outside tables or charts, make sure you are explicit about having borrowed them. If you quote any text, make sure that it renders as being quoted. (Make sure that you cite your sources -- check with you local instructor for citation preferences)."
   ]
  },
  {
   "cell_type": "code",
   "execution_count": 180,
   "metadata": {},
   "outputs": [
    {
     "data": {
      "text/html": [
       "<div>\n",
       "<style scoped>\n",
       "    .dataframe tbody tr th:only-of-type {\n",
       "        vertical-align: middle;\n",
       "    }\n",
       "\n",
       "    .dataframe tbody tr th {\n",
       "        vertical-align: top;\n",
       "    }\n",
       "\n",
       "    .dataframe thead th {\n",
       "        text-align: right;\n",
       "    }\n",
       "</style>\n",
       "<table border=\"1\" class=\"dataframe\">\n",
       "  <thead>\n",
       "    <tr style=\"text-align: right;\">\n",
       "      <th></th>\n",
       "      <th>State</th>\n",
       "      <th>act_participation_18</th>\n",
       "      <th>Composite_18</th>\n",
       "      <th>sat_participation_18</th>\n",
       "      <th>sat_rw_18</th>\n",
       "      <th>sat_math_18</th>\n",
       "      <th>sat_total_18</th>\n",
       "      <th>act_participation_2017</th>\n",
       "      <th>act_eng_2017</th>\n",
       "      <th>act_math_2017</th>\n",
       "      <th>act_reading_2017</th>\n",
       "      <th>act_sci_2017</th>\n",
       "      <th>Composite_2017</th>\n",
       "      <th>sat_participation_2017</th>\n",
       "      <th>sat_rw_2017</th>\n",
       "      <th>sat_math_2017</th>\n",
       "      <th>sat_total_2017</th>\n",
       "    </tr>\n",
       "  </thead>\n",
       "  <tbody>\n",
       "    <tr>\n",
       "      <th>0</th>\n",
       "      <td>Alabama</td>\n",
       "      <td>100.0</td>\n",
       "      <td>19.1</td>\n",
       "      <td>6.0</td>\n",
       "      <td>595</td>\n",
       "      <td>571</td>\n",
       "      <td>1166</td>\n",
       "      <td>100.0</td>\n",
       "      <td>18.9</td>\n",
       "      <td>18.4</td>\n",
       "      <td>19.7</td>\n",
       "      <td>19.4</td>\n",
       "      <td>19.0</td>\n",
       "      <td>5.0</td>\n",
       "      <td>593</td>\n",
       "      <td>572</td>\n",
       "      <td>1165</td>\n",
       "    </tr>\n",
       "    <tr>\n",
       "      <th>1</th>\n",
       "      <td>Alaska</td>\n",
       "      <td>33.0</td>\n",
       "      <td>20.8</td>\n",
       "      <td>43.0</td>\n",
       "      <td>562</td>\n",
       "      <td>544</td>\n",
       "      <td>1106</td>\n",
       "      <td>65.0</td>\n",
       "      <td>18.7</td>\n",
       "      <td>19.8</td>\n",
       "      <td>20.4</td>\n",
       "      <td>19.9</td>\n",
       "      <td>19.0</td>\n",
       "      <td>38.0</td>\n",
       "      <td>547</td>\n",
       "      <td>533</td>\n",
       "      <td>1080</td>\n",
       "    </tr>\n",
       "    <tr>\n",
       "      <th>2</th>\n",
       "      <td>Arizona</td>\n",
       "      <td>66.0</td>\n",
       "      <td>19.2</td>\n",
       "      <td>29.0</td>\n",
       "      <td>577</td>\n",
       "      <td>572</td>\n",
       "      <td>1149</td>\n",
       "      <td>62.0</td>\n",
       "      <td>18.6</td>\n",
       "      <td>19.8</td>\n",
       "      <td>20.1</td>\n",
       "      <td>19.8</td>\n",
       "      <td>19.0</td>\n",
       "      <td>30.0</td>\n",
       "      <td>563</td>\n",
       "      <td>553</td>\n",
       "      <td>1116</td>\n",
       "    </tr>\n",
       "    <tr>\n",
       "      <th>3</th>\n",
       "      <td>Arkansas</td>\n",
       "      <td>100.0</td>\n",
       "      <td>19.4</td>\n",
       "      <td>5.0</td>\n",
       "      <td>592</td>\n",
       "      <td>576</td>\n",
       "      <td>1169</td>\n",
       "      <td>100.0</td>\n",
       "      <td>18.9</td>\n",
       "      <td>19.0</td>\n",
       "      <td>19.7</td>\n",
       "      <td>19.5</td>\n",
       "      <td>19.0</td>\n",
       "      <td>3.0</td>\n",
       "      <td>614</td>\n",
       "      <td>594</td>\n",
       "      <td>1208</td>\n",
       "    </tr>\n",
       "    <tr>\n",
       "      <th>4</th>\n",
       "      <td>California</td>\n",
       "      <td>27.0</td>\n",
       "      <td>22.7</td>\n",
       "      <td>60.0</td>\n",
       "      <td>540</td>\n",
       "      <td>536</td>\n",
       "      <td>1076</td>\n",
       "      <td>31.0</td>\n",
       "      <td>22.5</td>\n",
       "      <td>22.7</td>\n",
       "      <td>23.1</td>\n",
       "      <td>22.2</td>\n",
       "      <td>22.0</td>\n",
       "      <td>53.0</td>\n",
       "      <td>531</td>\n",
       "      <td>524</td>\n",
       "      <td>1055</td>\n",
       "    </tr>\n",
       "  </tbody>\n",
       "</table>\n",
       "</div>"
      ],
      "text/plain": [
       "        State  act_participation_18  Composite_18  sat_participation_18  \\\n",
       "0     Alabama                 100.0          19.1                   6.0   \n",
       "1      Alaska                  33.0          20.8                  43.0   \n",
       "2     Arizona                  66.0          19.2                  29.0   \n",
       "3    Arkansas                 100.0          19.4                   5.0   \n",
       "4  California                  27.0          22.7                  60.0   \n",
       "\n",
       "   sat_rw_18  sat_math_18  sat_total_18  act_participation_2017  act_eng_2017  \\\n",
       "0        595          571          1166                   100.0          18.9   \n",
       "1        562          544          1106                    65.0          18.7   \n",
       "2        577          572          1149                    62.0          18.6   \n",
       "3        592          576          1169                   100.0          18.9   \n",
       "4        540          536          1076                    31.0          22.5   \n",
       "\n",
       "   act_math_2017  act_reading_2017  act_sci_2017  Composite_2017  \\\n",
       "0           18.4              19.7          19.4            19.0   \n",
       "1           19.8              20.4          19.9            19.0   \n",
       "2           19.8              20.1          19.8            19.0   \n",
       "3           19.0              19.7          19.5            19.0   \n",
       "4           22.7              23.1          22.2            22.0   \n",
       "\n",
       "   sat_participation_2017  sat_rw_2017  sat_math_2017  sat_total_2017  \n",
       "0                     5.0          593            572            1165  \n",
       "1                    38.0          547            533            1080  \n",
       "2                    30.0          563            553            1116  \n",
       "3                     3.0          614            594            1208  \n",
       "4                    53.0          531            524            1055  "
      ]
     },
     "execution_count": 180,
     "metadata": {},
     "output_type": "execute_result"
    }
   ],
   "source": [
    "final.head()"
   ]
  },
  {
   "cell_type": "code",
   "execution_count": 181,
   "metadata": {},
   "outputs": [
    {
     "data": {
      "image/png": "[encoded data removed]",
      "text/plain": [
       "<Figure size 648x432 with 1 Axes>"
      ]
     },
     "metadata": {
      "needs_background": "light"
     },
     "output_type": "display_data"
    }
   ],
   "source": [
    "plot_1 = final['act_participation_18']\n",
    "plot_2 = final['act_participation_2017']\n",
    "\n",
    "\n",
    "my_plots = [plot_1, plot_2]\n",
    "\n",
    "fig = plt.figure(1, figsize=(9, 6))\n",
    "ax = fig.add_subplot(111)\n",
    "bp = ax.boxplot(my_plots)\n",
    "\n",
    "ax.set_xticklabels(['ACT Participation 2018', 'ACT Participation 2017'])\n",
    "plt.title('ACT Participation 2017&2018', fontsize = 20);"
   ]
  },
  {
   "cell_type": "code",
   "execution_count": 182,
   "metadata": {},
   "outputs": [
    {
     "data": {
      "image/png": "[encoded data removed]",
      "text/plain": [
       "<Figure size 648x432 with 1 Axes>"
      ]
     },
     "metadata": {
      "needs_background": "light"
     },
     "output_type": "display_data"
    }
   ],
   "source": [
    "plot_1 = final['sat_participation_18']\n",
    "plot_2 = final['sat_participation_2017']\n",
    "\n",
    "\n",
    "my_plots = [plot_1, plot_2]\n",
    "\n",
    "fig = plt.figure(1, figsize=(9, 6))\n",
    "ax = fig.add_subplot(111)\n",
    "bp = ax.boxplot(my_plots)\n",
    "\n",
    "ax.set_xticklabels(['SAT Participation 2018', 'SAT Participation 2017'])\n",
    "plt.title('SAT Participation 2017&2018', fontsize = 20);"
   ]
  },
  {
   "cell_type": "markdown",
   "metadata": {},
   "source": [
    "1. Alabama\n",
    "\n",
    "\n",
    "Has free ACT testing which shows why their Participation rates were well above average\n",
    "Alabama also required students to take the ACT \n",
    "\n",
    "Source: https://magoosh.com/hs/act/2017/states-that-require-the-act-or-sat/\n",
    "Their Composite scores stayed about the same\n",
    "\n",
    "\n",
    "2. Illinois\n",
    "\n",
    "\n",
    "I noticed a dip in ACT tests from 2017 to 2018 from 93% participation to 43% participation in 2018\n",
    "Through research the reason for this was due to the state no longer requiring the test to be taken and switching to \n",
    "the SAT \n",
    "\n",
    "Source: https://www.chicagotribune.com/news/ct-illinois-chooses-sat-met-20160211-story.html\n",
    "\n",
    "3. Colorado\n",
    "\n",
    "\n",
    "In Colorado I noticed ACT participation went from 100% in 2017 to 30% in 2018 the reason for this was legislation decided to switch from the ACT being a requirement to SAT.\n",
    "\n",
    "Source:https://co.chalkbeat.org/2015/12/23/21092477/goodbye-act-hello-sat-a-significant-change-for-colorado-high-schoolers"
   ]
  },
  {
   "cell_type": "markdown",
   "metadata": {},
   "source": [
    "## Conclusions and Recommendations"
   ]
  },
  {
   "cell_type": "markdown",
   "metadata": {},
   "source": [
    "Based on your exploration of the data, what are you key takeaways and recommendations? Choose one state with a lower participation rate and provide a suggestion for how the College Board might increase participation amongst graduating seniors in this state. Are there additional data you desire that would better inform your investigations?"
   ]
  },
  {
   "cell_type": "code",
   "execution_count": 172,
   "metadata": {},
   "outputs": [
    {
     "data": {
      "text/html": [
       "<div>\n",
       "<style scoped>\n",
       "    .dataframe tbody tr th:only-of-type {\n",
       "        vertical-align: middle;\n",
       "    }\n",
       "\n",
       "    .dataframe tbody tr th {\n",
       "        vertical-align: top;\n",
       "    }\n",
       "\n",
       "    .dataframe thead th {\n",
       "        text-align: right;\n",
       "    }\n",
       "</style>\n",
       "<table border=\"1\" class=\"dataframe\">\n",
       "  <thead>\n",
       "    <tr style=\"text-align: right;\">\n",
       "      <th></th>\n",
       "      <th>State</th>\n",
       "      <th>act_participation_18</th>\n",
       "      <th>Composite_18</th>\n",
       "      <th>sat_participation_18</th>\n",
       "      <th>sat_rw_18</th>\n",
       "      <th>sat_math_18</th>\n",
       "      <th>sat_total_18</th>\n",
       "      <th>act_participation_2017</th>\n",
       "      <th>act_eng_2017</th>\n",
       "      <th>act_math_2017</th>\n",
       "      <th>act_reading_2017</th>\n",
       "      <th>act_sci_2017</th>\n",
       "      <th>Composite_2017</th>\n",
       "      <th>sat_participation_2017</th>\n",
       "      <th>sat_rw_2017</th>\n",
       "      <th>sat_math_2017</th>\n",
       "      <th>sat_total_2017</th>\n",
       "    </tr>\n",
       "  </thead>\n",
       "  <tbody>\n",
       "    <tr>\n",
       "      <th>0</th>\n",
       "      <td>Alabama</td>\n",
       "      <td>100.0</td>\n",
       "      <td>19.1</td>\n",
       "      <td>6.0</td>\n",
       "      <td>595</td>\n",
       "      <td>571</td>\n",
       "      <td>1166</td>\n",
       "      <td>100.0</td>\n",
       "      <td>18.9</td>\n",
       "      <td>18.4</td>\n",
       "      <td>19.7</td>\n",
       "      <td>19.4</td>\n",
       "      <td>19.0</td>\n",
       "      <td>5.0</td>\n",
       "      <td>593</td>\n",
       "      <td>572</td>\n",
       "      <td>1165</td>\n",
       "    </tr>\n",
       "    <tr>\n",
       "      <th>1</th>\n",
       "      <td>Alaska</td>\n",
       "      <td>33.0</td>\n",
       "      <td>20.8</td>\n",
       "      <td>43.0</td>\n",
       "      <td>562</td>\n",
       "      <td>544</td>\n",
       "      <td>1106</td>\n",
       "      <td>65.0</td>\n",
       "      <td>18.7</td>\n",
       "      <td>19.8</td>\n",
       "      <td>20.4</td>\n",
       "      <td>19.9</td>\n",
       "      <td>19.0</td>\n",
       "      <td>38.0</td>\n",
       "      <td>547</td>\n",
       "      <td>533</td>\n",
       "      <td>1080</td>\n",
       "    </tr>\n",
       "    <tr>\n",
       "      <th>2</th>\n",
       "      <td>Arizona</td>\n",
       "      <td>66.0</td>\n",
       "      <td>19.2</td>\n",
       "      <td>29.0</td>\n",
       "      <td>577</td>\n",
       "      <td>572</td>\n",
       "      <td>1149</td>\n",
       "      <td>62.0</td>\n",
       "      <td>18.6</td>\n",
       "      <td>19.8</td>\n",
       "      <td>20.1</td>\n",
       "      <td>19.8</td>\n",
       "      <td>19.0</td>\n",
       "      <td>30.0</td>\n",
       "      <td>563</td>\n",
       "      <td>553</td>\n",
       "      <td>1116</td>\n",
       "    </tr>\n",
       "    <tr>\n",
       "      <th>3</th>\n",
       "      <td>Arkansas</td>\n",
       "      <td>100.0</td>\n",
       "      <td>19.4</td>\n",
       "      <td>5.0</td>\n",
       "      <td>592</td>\n",
       "      <td>576</td>\n",
       "      <td>1169</td>\n",
       "      <td>100.0</td>\n",
       "      <td>18.9</td>\n",
       "      <td>19.0</td>\n",
       "      <td>19.7</td>\n",
       "      <td>19.5</td>\n",
       "      <td>19.0</td>\n",
       "      <td>3.0</td>\n",
       "      <td>614</td>\n",
       "      <td>594</td>\n",
       "      <td>1208</td>\n",
       "    </tr>\n",
       "    <tr>\n",
       "      <th>4</th>\n",
       "      <td>California</td>\n",
       "      <td>27.0</td>\n",
       "      <td>22.7</td>\n",
       "      <td>60.0</td>\n",
       "      <td>540</td>\n",
       "      <td>536</td>\n",
       "      <td>1076</td>\n",
       "      <td>31.0</td>\n",
       "      <td>22.5</td>\n",
       "      <td>22.7</td>\n",
       "      <td>23.1</td>\n",
       "      <td>22.2</td>\n",
       "      <td>22.0</td>\n",
       "      <td>53.0</td>\n",
       "      <td>531</td>\n",
       "      <td>524</td>\n",
       "      <td>1055</td>\n",
       "    </tr>\n",
       "    <tr>\n",
       "      <th>5</th>\n",
       "      <td>Colorado</td>\n",
       "      <td>30.0</td>\n",
       "      <td>23.9</td>\n",
       "      <td>100.0</td>\n",
       "      <td>519</td>\n",
       "      <td>506</td>\n",
       "      <td>1025</td>\n",
       "      <td>100.0</td>\n",
       "      <td>20.1</td>\n",
       "      <td>20.3</td>\n",
       "      <td>21.2</td>\n",
       "      <td>20.9</td>\n",
       "      <td>20.0</td>\n",
       "      <td>11.0</td>\n",
       "      <td>606</td>\n",
       "      <td>595</td>\n",
       "      <td>1201</td>\n",
       "    </tr>\n",
       "    <tr>\n",
       "      <th>6</th>\n",
       "      <td>Connecticut</td>\n",
       "      <td>26.0</td>\n",
       "      <td>25.6</td>\n",
       "      <td>100.0</td>\n",
       "      <td>535</td>\n",
       "      <td>519</td>\n",
       "      <td>1053</td>\n",
       "      <td>31.0</td>\n",
       "      <td>25.5</td>\n",
       "      <td>24.6</td>\n",
       "      <td>25.6</td>\n",
       "      <td>24.6</td>\n",
       "      <td>25.0</td>\n",
       "      <td>100.0</td>\n",
       "      <td>530</td>\n",
       "      <td>512</td>\n",
       "      <td>1041</td>\n",
       "    </tr>\n",
       "    <tr>\n",
       "      <th>7</th>\n",
       "      <td>Delaware</td>\n",
       "      <td>17.0</td>\n",
       "      <td>23.8</td>\n",
       "      <td>100.0</td>\n",
       "      <td>505</td>\n",
       "      <td>492</td>\n",
       "      <td>998</td>\n",
       "      <td>18.0</td>\n",
       "      <td>24.1</td>\n",
       "      <td>23.4</td>\n",
       "      <td>24.8</td>\n",
       "      <td>23.6</td>\n",
       "      <td>24.0</td>\n",
       "      <td>100.0</td>\n",
       "      <td>503</td>\n",
       "      <td>492</td>\n",
       "      <td>996</td>\n",
       "    </tr>\n",
       "    <tr>\n",
       "      <th>8</th>\n",
       "      <td>District of Columbia</td>\n",
       "      <td>32.0</td>\n",
       "      <td>23.6</td>\n",
       "      <td>92.0</td>\n",
       "      <td>497</td>\n",
       "      <td>480</td>\n",
       "      <td>977</td>\n",
       "      <td>32.0</td>\n",
       "      <td>24.4</td>\n",
       "      <td>23.5</td>\n",
       "      <td>24.9</td>\n",
       "      <td>23.5</td>\n",
       "      <td>24.0</td>\n",
       "      <td>100.0</td>\n",
       "      <td>482</td>\n",
       "      <td>468</td>\n",
       "      <td>950</td>\n",
       "    </tr>\n",
       "    <tr>\n",
       "      <th>9</th>\n",
       "      <td>Florida</td>\n",
       "      <td>66.0</td>\n",
       "      <td>19.9</td>\n",
       "      <td>56.0</td>\n",
       "      <td>550</td>\n",
       "      <td>549</td>\n",
       "      <td>1099</td>\n",
       "      <td>73.0</td>\n",
       "      <td>19.0</td>\n",
       "      <td>19.4</td>\n",
       "      <td>21.0</td>\n",
       "      <td>19.4</td>\n",
       "      <td>19.0</td>\n",
       "      <td>83.0</td>\n",
       "      <td>520</td>\n",
       "      <td>497</td>\n",
       "      <td>1017</td>\n",
       "    </tr>\n",
       "    <tr>\n",
       "      <th>10</th>\n",
       "      <td>Georgia</td>\n",
       "      <td>53.0</td>\n",
       "      <td>21.4</td>\n",
       "      <td>70.0</td>\n",
       "      <td>542</td>\n",
       "      <td>522</td>\n",
       "      <td>1064</td>\n",
       "      <td>55.0</td>\n",
       "      <td>21.0</td>\n",
       "      <td>20.9</td>\n",
       "      <td>22.0</td>\n",
       "      <td>21.3</td>\n",
       "      <td>21.0</td>\n",
       "      <td>61.0</td>\n",
       "      <td>535</td>\n",
       "      <td>515</td>\n",
       "      <td>1050</td>\n",
       "    </tr>\n",
       "    <tr>\n",
       "      <th>11</th>\n",
       "      <td>Hawaii</td>\n",
       "      <td>89.0</td>\n",
       "      <td>18.9</td>\n",
       "      <td>56.0</td>\n",
       "      <td>480</td>\n",
       "      <td>530</td>\n",
       "      <td>1010</td>\n",
       "      <td>90.0</td>\n",
       "      <td>17.8</td>\n",
       "      <td>19.2</td>\n",
       "      <td>19.2</td>\n",
       "      <td>19.3</td>\n",
       "      <td>19.0</td>\n",
       "      <td>55.0</td>\n",
       "      <td>544</td>\n",
       "      <td>541</td>\n",
       "      <td>1085</td>\n",
       "    </tr>\n",
       "    <tr>\n",
       "      <th>12</th>\n",
       "      <td>Idaho</td>\n",
       "      <td>36.0</td>\n",
       "      <td>22.3</td>\n",
       "      <td>100.0</td>\n",
       "      <td>508</td>\n",
       "      <td>493</td>\n",
       "      <td>1001</td>\n",
       "      <td>38.0</td>\n",
       "      <td>21.9</td>\n",
       "      <td>21.8</td>\n",
       "      <td>23.0</td>\n",
       "      <td>22.1</td>\n",
       "      <td>22.0</td>\n",
       "      <td>93.0</td>\n",
       "      <td>513</td>\n",
       "      <td>493</td>\n",
       "      <td>1005</td>\n",
       "    </tr>\n",
       "    <tr>\n",
       "      <th>13</th>\n",
       "      <td>Illinois</td>\n",
       "      <td>43.0</td>\n",
       "      <td>23.9</td>\n",
       "      <td>99.0</td>\n",
       "      <td>513</td>\n",
       "      <td>506</td>\n",
       "      <td>1019</td>\n",
       "      <td>93.0</td>\n",
       "      <td>21.0</td>\n",
       "      <td>21.2</td>\n",
       "      <td>21.6</td>\n",
       "      <td>21.3</td>\n",
       "      <td>21.0</td>\n",
       "      <td>9.0</td>\n",
       "      <td>559</td>\n",
       "      <td>556</td>\n",
       "      <td>1115</td>\n",
       "    </tr>\n",
       "    <tr>\n",
       "      <th>14</th>\n",
       "      <td>Indiana</td>\n",
       "      <td>32.0</td>\n",
       "      <td>22.5</td>\n",
       "      <td>63.0</td>\n",
       "      <td>542</td>\n",
       "      <td>532</td>\n",
       "      <td>1074</td>\n",
       "      <td>35.0</td>\n",
       "      <td>22.0</td>\n",
       "      <td>22.4</td>\n",
       "      <td>23.2</td>\n",
       "      <td>22.3</td>\n",
       "      <td>22.0</td>\n",
       "      <td>63.0</td>\n",
       "      <td>542</td>\n",
       "      <td>532</td>\n",
       "      <td>1074</td>\n",
       "    </tr>\n",
       "  </tbody>\n",
       "</table>\n",
       "</div>"
      ],
      "text/plain": [
       "                   State  act_participation_18  Composite_18  \\\n",
       "0                Alabama                 100.0          19.1   \n",
       "1                 Alaska                  33.0          20.8   \n",
       "2                Arizona                  66.0          19.2   \n",
       "3               Arkansas                 100.0          19.4   \n",
       "4             California                  27.0          22.7   \n",
       "5               Colorado                  30.0          23.9   \n",
       "6            Connecticut                  26.0          25.6   \n",
       "7               Delaware                  17.0          23.8   \n",
       "8   District of Columbia                  32.0          23.6   \n",
       "9                Florida                  66.0          19.9   \n",
       "10               Georgia                  53.0          21.4   \n",
       "11                Hawaii                  89.0          18.9   \n",
       "12                 Idaho                  36.0          22.3   \n",
       "13              Illinois                  43.0          23.9   \n",
       "14               Indiana                  32.0          22.5   \n",
       "\n",
       "    sat_participation_18  sat_rw_18  sat_math_18  sat_total_18  \\\n",
       "0                    6.0        595          571          1166   \n",
       "1                   43.0        562          544          1106   \n",
       "2                   29.0        577          572          1149   \n",
       "3                    5.0        592          576          1169   \n",
       "4                   60.0        540          536          1076   \n",
       "5                  100.0        519          506          1025   \n",
       "6                  100.0        535          519          1053   \n",
       "7                  100.0        505          492           998   \n",
       "8                   92.0        497          480           977   \n",
       "9                   56.0        550          549          1099   \n",
       "10                  70.0        542          522          1064   \n",
       "11                  56.0        480          530          1010   \n",
       "12                 100.0        508          493          1001   \n",
       "13                  99.0        513          506          1019   \n",
       "14                  63.0        542          532          1074   \n",
       "\n",
       "    act_participation_2017  act_eng_2017  act_math_2017  act_reading_2017  \\\n",
       "0                    100.0          18.9           18.4              19.7   \n",
       "1                     65.0          18.7           19.8              20.4   \n",
       "2                     62.0          18.6           19.8              20.1   \n",
       "3                    100.0          18.9           19.0              19.7   \n",
       "4                     31.0          22.5           22.7              23.1   \n",
       "5                    100.0          20.1           20.3              21.2   \n",
       "6                     31.0          25.5           24.6              25.6   \n",
       "7                     18.0          24.1           23.4              24.8   \n",
       "8                     32.0          24.4           23.5              24.9   \n",
       "9                     73.0          19.0           19.4              21.0   \n",
       "10                    55.0          21.0           20.9              22.0   \n",
       "11                    90.0          17.8           19.2              19.2   \n",
       "12                    38.0          21.9           21.8              23.0   \n",
       "13                    93.0          21.0           21.2              21.6   \n",
       "14                    35.0          22.0           22.4              23.2   \n",
       "\n",
       "    act_sci_2017  Composite_2017  sat_participation_2017  sat_rw_2017  \\\n",
       "0           19.4            19.0                     5.0          593   \n",
       "1           19.9            19.0                    38.0          547   \n",
       "2           19.8            19.0                    30.0          563   \n",
       "3           19.5            19.0                     3.0          614   \n",
       "4           22.2            22.0                    53.0          531   \n",
       "5           20.9            20.0                    11.0          606   \n",
       "6           24.6            25.0                   100.0          530   \n",
       "7           23.6            24.0                   100.0          503   \n",
       "8           23.5            24.0                   100.0          482   \n",
       "9           19.4            19.0                    83.0          520   \n",
       "10          21.3            21.0                    61.0          535   \n",
       "11          19.3            19.0                    55.0          544   \n",
       "12          22.1            22.0                    93.0          513   \n",
       "13          21.3            21.0                     9.0          559   \n",
       "14          22.3            22.0                    63.0          542   \n",
       "\n",
       "    sat_math_2017  sat_total_2017  \n",
       "0             572            1165  \n",
       "1             533            1080  \n",
       "2             553            1116  \n",
       "3             594            1208  \n",
       "4             524            1055  \n",
       "5             595            1201  \n",
       "6             512            1041  \n",
       "7             492             996  \n",
       "8             468             950  \n",
       "9             497            1017  \n",
       "10            515            1050  \n",
       "11            541            1085  \n",
       "12            493            1005  \n",
       "13            556            1115  \n",
       "14            532            1074  "
      ]
     },
     "execution_count": 172,
     "metadata": {},
     "output_type": "execute_result"
    }
   ],
   "source": [
    "final.head(15)"
   ]
  },
  {
   "cell_type": "markdown",
   "metadata": {},
   "source": [
    "For the first time in 2017 Illinois provided free SAT test to 11th graders.\n",
    "Average scores of schools ranged from 740 to 1300 in some schools. This shows the wide disparities that exist between the schools in the state of Illinois.\n",
    "\n",
    "According to the Chicago Tribune, data supports the correlation between students taking the test in high-poverty neighborhoods and low scores and wealthy suburbs and higher scores.\n",
    "\n",
    "My recommendation would be to possibly provide more resources for those taking the test. For example, study guides or even make sure those in high-poverty neighborhoods have food in their stomachs before taking the test.\n",
    "\n",
    "Source: https://www.chicagotribune.com/news/breaking/ct-met-illinois-school-report-card-20171030-story.html"
   ]
  },
  {
   "cell_type": "code",
   "execution_count": null,
   "metadata": {},
   "outputs": [],
   "source": []
  }
 ],
 "metadata": {
  "anaconda-cloud": {},
  "kernelspec": {
   "display_name": "Python 3",
   "language": "python",
   "name": "python3"
  },
  "language_info": {
   "codemirror_mode": {
    "name": "ipython",
    "version": 3
   },
   "file_extension": ".py",
   "mimetype": "text/x-python",
   "name": "python",
   "nbconvert_exporter": "python",
   "pygments_lexer": "ipython3",
   "version": "3.6.9"
  }
 },
 "nbformat": 4,
 "nbformat_minor": 2
}
